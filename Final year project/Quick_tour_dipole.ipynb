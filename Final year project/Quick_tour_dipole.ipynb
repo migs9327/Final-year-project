{
 "cells": [
  {
   "cell_type": "markdown",
   "metadata": {},
   "source": [
    "# Quick tour with QM9 [![Open In Colab](https://colab.research.google.com/assets/colab-badge.svg)](https://colab.research.google.com/github/Teoroo-CMC/PiNN/blob/TF2/docs/notebooks/Quick_tour.ipynb)\n",
    "\n",
    "This notebook showcases a simple example of training a neural network potential on the QM9 dataset with PiNN."
   ]
  },
  {
   "cell_type": "code",
   "execution_count": 1,
   "metadata": {},
   "outputs": [
    {
     "name": "stdout",
     "output_type": "stream",
     "text": [
      "Init Plugin\n",
      "Init Graph Optimizer\n",
      "Init Kernel\n"
     ]
    }
   ],
   "source": [
    "import os, warnings\n",
    "import tensorflow as tf\n",
    "from glob import glob\n",
    "from ase.collections import g2\n",
    "from pinn.io import load_qm9, sparse_batch\n",
    "from pinn import get_model, get_calc\n",
    "# CPU is used for documentation generation, feel free to use your GPU!\n",
    "os.environ['CUDA_VISIBLE_DEVICES'] = '' \n",
    "# We heavily use indexed slices to do sparse summations,\n",
    "# which causes tensorflow to complain, \n",
    "# we believe it's safe to ignore this warning.\n",
    "index_warning = 'Converting sparse IndexedSlices'\n",
    "warnings.filterwarnings('ignore', index_warning)"
   ]
  },
  {
   "cell_type": "code",
   "execution_count": 2,
   "metadata": {},
   "outputs": [],
   "source": [
    "physical_devices = tf.config.list_physical_devices()\n",
    "tf.config.set_visible_devices(physical_devices[0], 'CPU')\n",
    "tf.config.set_visible_devices([], 'GPU')"
   ]
  },
  {
   "cell_type": "markdown",
   "metadata": {},
   "source": [
    "## Getting the dataset\n",
    "\n",
    "PiNN adapts TensorFlow's dataset API to handle different datasets.\n",
    "\n",
    "For this and the following notebooks the QM9 dataset (https://doi.org/10.6084/m9.figshare.978904) is used.  \n",
    "To follow the notebooks, download the dataset and change the directory accordingly.\n",
    "\n",
    "The dataset will be automatically split into subsets according to the split_ratio.  \n",
    "Note that to use the dataset with the estimator, the datasets should be a function, instead of a dataset object."
   ]
  },
  {
   "cell_type": "code",
   "execution_count": 3,
   "metadata": {},
   "outputs": [],
   "source": [
    "filelist = glob('/Users/miguelnavaharris/Project/QM9/*.xyz')\n",
    "dataset = lambda: load_qm9(filelist, label_map={'d_data': 'mu'}, splits={'train':8, 'test':2}) #lambda is being used here to assign execution of load_qm9 to a variable dataset\n",
    "train = lambda: dataset()['train'].repeat().shuffle(1000).apply(sparse_batch(100))\n",
    "test = lambda: dataset()['test'].repeat().apply(sparse_batch(100))"
   ]
  },
  {
   "cell_type": "code",
   "execution_count": 4,
   "metadata": {},
   "outputs": [
    {
     "data": {
      "text/plain": [
       "{'train': <FlatMapDataset shapes: {elems: (None,), coord: (None, 3), e_data: ()}, types: {elems: tf.int32, coord: tf.float32, e_data: tf.float32}>,\n",
       " 'test': <FlatMapDataset shapes: {elems: (None,), coord: (None, 3), e_data: ()}, types: {elems: tf.int32, coord: tf.float32, e_data: tf.float32}>}"
      ]
     },
     "execution_count": 4,
     "metadata": {},
     "output_type": "execute_result"
    }
   ],
   "source": [
    "load_qm9(filelist, splits={'train':8, 'test':2}) \n",
    "#returns a dictionary, as does dataset() \n",
    "#since load_qm9 is assigned to a lambda function"
   ]
  },
  {
   "cell_type": "code",
   "execution_count": 5,
   "metadata": {},
   "outputs": [
    {
     "name": "stdout",
     "output_type": "stream",
     "text": [
      "<function <lambda> at 0x1053c2dc0>\n",
      "<class 'dict'>\n",
      "Here is the dataset dictionary: {'train': <FlatMapDataset shapes: {elems: (None,), coord: (None, 3), d_data: ()}, types: {elems: tf.int32, coord: tf.float32, d_data: tf.float32}>, 'test': <FlatMapDataset shapes: {elems: (None,), coord: (None, 3), d_data: ()}, types: {elems: tf.int32, coord: tf.float32, d_data: tf.float32}>}\n",
      "The train set is: <FlatMapDataset shapes: {elems: (None,), coord: (None, 3), d_data: ()}, types: {elems: tf.int32, coord: tf.float32, d_data: tf.float32}>\n"
     ]
    }
   ],
   "source": [
    "print(dataset)\n",
    "print(type(dataset()))\n",
    "print('Here is the dataset dictionary:', dataset())\n",
    "print('The train set is:', dataset()['train'])\n"
   ]
  },
  {
   "cell_type": "markdown",
   "metadata": {},
   "source": [
    "## Defining the model\n",
    "In PiNN, models are defined at two levels: models and networks. \n",
    "\n",
    "- A model (model_fn) defines the target, loss and training detail.\n",
    "- A network defines the structure of the neural network.\n",
    "\n",
    "In this example, we will use the potential model, and the PiNet network.\n",
    "The configuration of a model is stored in a nested dictionary as shown below.\n",
    "Available options of the network and model can be found in the documentation."
   ]
  },
  {
   "cell_type": "code",
   "execution_count": 6,
   "metadata": {},
   "outputs": [
    {
     "name": "stdout",
     "output_type": "stream",
     "text": [
      "INFO:tensorflow:Using default config.\n",
      "INFO:tensorflow:Using config: {'_model_dir': '/Users/miguelnavaharris/Project/miguelmodels/Quick_tour_dipole_writeup', '_tf_random_seed': None, '_save_summary_steps': 100, '_save_checkpoints_steps': None, '_save_checkpoints_secs': 600, '_session_config': allow_soft_placement: true\n",
      "graph_options {\n",
      "  rewrite_options {\n",
      "    meta_optimizer_iterations: ONE\n",
      "  }\n",
      "}\n",
      ", '_keep_checkpoint_max': 5, '_keep_checkpoint_every_n_hours': 10000, '_log_step_count_steps': 100, '_train_distribute': None, '_device_fn': None, '_protocol': None, '_eval_distribute': None, '_experimental_distribute': None, '_experimental_max_worker_delay_secs': None, '_session_creation_timeout_secs': 7200, '_checkpoint_save_graph_def': True, '_service': None, '_cluster_spec': ClusterSpec({}), '_task_type': 'worker', '_task_id': 0, '_global_id_in_cluster': 0, '_master': '', '_evaluation_master': '', '_is_chief': True, '_num_ps_replicas': 0, '_num_worker_replicas': 1}\n"
     ]
    }
   ],
   "source": [
    "params = {'model_dir': '/Users/miguelnavaharris/Project/miguelmodels/Quick_tour_dipole_writeup',\n",
    "          'network': {\n",
    "              'name': 'PiNet',\n",
    "              'params': {\n",
    "                  'depth': 4,\n",
    "                  'rc':4.0,\n",
    "                  'atom_types':[1,6,7,8,9]\n",
    "              },\n",
    "          },\n",
    "          'model': {\n",
    "              'name': 'dipole_model',\n",
    "              'params': {\n",
    "                  'learning_rate': 1e-3\n",
    "              }\n",
    "          }\n",
    "}\n",
    "model = get_model(params)"
   ]
  },
  {
   "cell_type": "code",
   "execution_count": 7,
   "metadata": {},
   "outputs": [
    {
     "data": {
      "text/plain": [
       "<tensorflow_estimator.python.estimator.estimator.EstimatorV2 at 0x1568b8640>"
      ]
     },
     "execution_count": 7,
     "metadata": {},
     "output_type": "execute_result"
    }
   ],
   "source": [
    "model"
   ]
  },
  {
   "cell_type": "markdown",
   "metadata": {},
   "source": [
    "## Configuring the training process\n",
    "The defined model is indeed a [tf.Estimator](https://www.tensorflow.org/api_docs/python/tf/estimator/Estimator) object, thus, the training can be easily controlled"
   ]
  },
  {
   "cell_type": "code",
   "execution_count": 8,
   "metadata": {},
   "outputs": [],
   "source": [
    "train_spec = tf.estimator.TrainSpec(input_fn=train, max_steps=1000)\n",
    "eval_spec = tf.estimator.EvalSpec(input_fn=test, steps=100)"
   ]
  },
  {
   "cell_type": "markdown",
   "metadata": {},
   "source": [
    "## Train and evaluate"
   ]
  },
  {
   "cell_type": "code",
   "execution_count": 9,
   "metadata": {},
   "outputs": [
    {
     "name": "stdout",
     "output_type": "stream",
     "text": [
      "INFO:tensorflow:Not using Distribute Coordinator.\n",
      "INFO:tensorflow:Running training and evaluation locally (non-distributed).\n",
      "INFO:tensorflow:Start train and evaluate loop. The evaluate will happen after every checkpoint. Checkpoint frequency is determined based on RunConfig arguments: save_checkpoints_steps None or save_checkpoints_secs 600.\n",
      "WARNING:tensorflow:From /Users/miguelnavaharris/miniforge3/envs/pinn/lib/python3.9/site-packages/tensorflow/python/training/training_util.py:235: Variable.initialized_value (from tensorflow.python.ops.variables) is deprecated and will be removed in a future version.\n",
      "Instructions for updating:\n",
      "Use Variable.read_value. Variables in 2.X are initialized automatically both in eager and graph (inside tf.defun) contexts.\n",
      "INFO:tensorflow:Calling model_fn.\n",
      "WARNING:tensorflow:From /Users/miguelnavaharris/miniforge3/envs/pinn/lib/python3.9/site-packages/tensorflow/python/ops/array_ops.py:5043: calling gather (from tensorflow.python.ops.array_ops) with validate_indices is deprecated and will be removed in a future version.\n",
      "Instructions for updating:\n",
      "The `validate_indices` argument has no effect. Indices are always validated on CPU and never validated on GPU.\n",
      "12112 trainable vaiabless, training with float32 precision.\n",
      "INFO:tensorflow:Done calling model_fn.\n",
      "INFO:tensorflow:Create CheckpointSaverHook.\n",
      "INFO:tensorflow:Graph was finalized.\n",
      "Metal device set to: Apple M1\n",
      "\n",
      "systemMemory: 16.00 GB\n",
      "maxCacheSize: 5.33 GB\n",
      "\n"
     ]
    },
    {
     "name": "stderr",
     "output_type": "stream",
     "text": [
      "2022-07-21 16:45:34.278022: I tensorflow/core/common_runtime/pluggable_device/pluggable_device_factory.cc:305] Could not identify NUMA node of platform GPU ID 0, defaulting to 0. Your kernel may not have been built with NUMA support.\n",
      "2022-07-21 16:45:34.278387: I tensorflow/core/common_runtime/pluggable_device/pluggable_device_factory.cc:271] Created TensorFlow device (/job:localhost/replica:0/task:0/device:GPU:0 with 0 MB memory) -> physical PluggableDevice (device: 0, name: METAL, pci bus id: <undefined>)\n",
      "2022-07-21 16:45:34.331737: W tensorflow/core/platform/profile_utils/cpu_utils.cc:128] Failed to get CPU frequency: 0 Hz\n",
      "2022-07-21 16:45:34.334538: I tensorflow/core/grappler/optimizers/custom_graph_optimizer_registry.cc:112] Plugin optimizer for device_type GPU is enabled.\n"
     ]
    },
    {
     "name": "stdout",
     "output_type": "stream",
     "text": [
      "INFO:tensorflow:Running local_init_op.\n",
      "INFO:tensorflow:Done running local_init_op.\n"
     ]
    },
    {
     "name": "stderr",
     "output_type": "stream",
     "text": [
      "2022-07-21 16:45:34.587081: I tensorflow/core/grappler/optimizers/custom_graph_optimizer_registry.cc:112] Plugin optimizer for device_type GPU is enabled.\n",
      "2022-07-21 16:45:34.635029: I tensorflow/core/grappler/optimizers/custom_graph_optimizer_registry.cc:112] Plugin optimizer for device_type GPU is enabled.\n",
      "2022-07-21 16:45:34.645334: I tensorflow/core/grappler/optimizers/custom_graph_optimizer_registry.cc:112] Plugin optimizer for device_type GPU is enabled.\n",
      "2022-07-21 16:45:34.696947: I tensorflow/core/grappler/optimizers/custom_graph_optimizer_registry.cc:112] Plugin optimizer for device_type GPU is enabled.\n"
     ]
    },
    {
     "name": "stdout",
     "output_type": "stream",
     "text": [
      "INFO:tensorflow:Calling checkpoint listeners before saving checkpoint 0...\n",
      "INFO:tensorflow:Saving checkpoints for 0 into /Users/miguelnavaharris/Project/miguelmodels/Quick_tour_dipole_writeup/model.ckpt.\n",
      "INFO:tensorflow:Calling checkpoint listeners after saving checkpoint 0...\n"
     ]
    },
    {
     "name": "stderr",
     "output_type": "stream",
     "text": [
      "2022-07-21 16:45:35.190565: I tensorflow/core/grappler/optimizers/custom_graph_optimizer_registry.cc:112] Plugin optimizer for device_type GPU is enabled.\n",
      "2022-07-21 16:45:35.331793: I tensorflow/core/grappler/optimizers/custom_graph_optimizer_registry.cc:112] Plugin optimizer for device_type GPU is enabled.\n",
      "2022-07-21 16:45:35.346218: I tensorflow/compiler/mlir/mlir_graph_optimization_pass.cc:176] None of the MLIR Optimization Passes are enabled (registered 2)\n",
      "2022-07-21 16:45:35.353525: I tensorflow/core/grappler/optimizers/custom_graph_optimizer_registry.cc:112] Plugin optimizer for device_type GPU is enabled.\n"
     ]
    },
    {
     "name": "stdout",
     "output_type": "stream",
     "text": [
      "INFO:tensorflow:loss = 2892.7554, step = 0\n"
     ]
    },
    {
     "name": "stderr",
     "output_type": "stream",
     "text": [
      "2022-07-21 16:45:37.289110: I tensorflow/core/grappler/optimizers/custom_graph_optimizer_registry.cc:112] Plugin optimizer for device_type GPU is enabled.\n"
     ]
    },
    {
     "name": "stdout",
     "output_type": "stream",
     "text": [
      "INFO:tensorflow:global_step/sec: 1.45451\n",
      "INFO:tensorflow:loss = 2.764356, step = 100 (68.797 sec)\n"
     ]
    },
    {
     "ename": "KeyboardInterrupt",
     "evalue": "",
     "output_type": "error",
     "traceback": [
      "\u001b[0;31m---------------------------------------------------------------------------\u001b[0m",
      "\u001b[0;31mKeyboardInterrupt\u001b[0m                         Traceback (most recent call last)",
      "\u001b[1;32m/Users/miguelnavaharris/PiNN/docs/notebooks/Quick_tour_dipole.ipynb Cell 14'\u001b[0m in \u001b[0;36m<cell line: 1>\u001b[0;34m()\u001b[0m\n\u001b[0;32m----> <a href='vscode-notebook-cell:/Users/miguelnavaharris/PiNN/docs/notebooks/Quick_tour_dipole.ipynb#ch0000013?line=0'>1</a>\u001b[0m tf\u001b[39m.\u001b[39;49mestimator\u001b[39m.\u001b[39;49mtrain_and_evaluate(model, train_spec, eval_spec)\n",
      "File \u001b[0;32m~/miniforge3/envs/pinn/lib/python3.9/site-packages/tensorflow_estimator/python/estimator/training.py:505\u001b[0m, in \u001b[0;36mtrain_and_evaluate\u001b[0;34m(estimator, train_spec, eval_spec)\u001b[0m\n\u001b[1;32m    <a href='file:///Users/miguelnavaharris/miniforge3/envs/pinn/lib/python3.9/site-packages/tensorflow_estimator/python/estimator/training.py?line=498'>499</a>\u001b[0m \u001b[39mif\u001b[39;00m (config\u001b[39m.\u001b[39mtask_type \u001b[39m==\u001b[39m run_config_lib\u001b[39m.\u001b[39mTaskType\u001b[39m.\u001b[39mEVALUATOR \u001b[39mand\u001b[39;00m\n\u001b[1;32m    <a href='file:///Users/miguelnavaharris/miniforge3/envs/pinn/lib/python3.9/site-packages/tensorflow_estimator/python/estimator/training.py?line=499'>500</a>\u001b[0m     config\u001b[39m.\u001b[39mtask_id \u001b[39m>\u001b[39m \u001b[39m0\u001b[39m):\n\u001b[1;32m    <a href='file:///Users/miguelnavaharris/miniforge3/envs/pinn/lib/python3.9/site-packages/tensorflow_estimator/python/estimator/training.py?line=500'>501</a>\u001b[0m   \u001b[39mraise\u001b[39;00m \u001b[39mValueError\u001b[39;00m(\n\u001b[1;32m    <a href='file:///Users/miguelnavaharris/miniforge3/envs/pinn/lib/python3.9/site-packages/tensorflow_estimator/python/estimator/training.py?line=501'>502</a>\u001b[0m       \u001b[39m'\u001b[39m\u001b[39mFor distributed training, there can only be one `evaluator` task \u001b[39m\u001b[39m'\u001b[39m\n\u001b[1;32m    <a href='file:///Users/miguelnavaharris/miniforge3/envs/pinn/lib/python3.9/site-packages/tensorflow_estimator/python/estimator/training.py?line=502'>503</a>\u001b[0m       \u001b[39m'\u001b[39m\u001b[39m(with task id 0).  Given task id \u001b[39m\u001b[39m{}\u001b[39;00m\u001b[39m'\u001b[39m\u001b[39m.\u001b[39mformat(config\u001b[39m.\u001b[39mtask_id))\n\u001b[0;32m--> <a href='file:///Users/miguelnavaharris/miniforge3/envs/pinn/lib/python3.9/site-packages/tensorflow_estimator/python/estimator/training.py?line=504'>505</a>\u001b[0m \u001b[39mreturn\u001b[39;00m executor\u001b[39m.\u001b[39;49mrun()\n",
      "File \u001b[0;32m~/miniforge3/envs/pinn/lib/python3.9/site-packages/tensorflow_estimator/python/estimator/training.py:646\u001b[0m, in \u001b[0;36m_TrainingExecutor.run\u001b[0;34m(self)\u001b[0m\n\u001b[1;32m    <a href='file:///Users/miguelnavaharris/miniforge3/envs/pinn/lib/python3.9/site-packages/tensorflow_estimator/python/estimator/training.py?line=641'>642</a>\u001b[0m \u001b[39mif\u001b[39;00m (\u001b[39mnot\u001b[39;00m config\u001b[39m.\u001b[39mcluster_spec \u001b[39mand\u001b[39;00m\n\u001b[1;32m    <a href='file:///Users/miguelnavaharris/miniforge3/envs/pinn/lib/python3.9/site-packages/tensorflow_estimator/python/estimator/training.py?line=642'>643</a>\u001b[0m     config\u001b[39m.\u001b[39mtask_type \u001b[39m!=\u001b[39m run_config_lib\u001b[39m.\u001b[39mTaskType\u001b[39m.\u001b[39mEVALUATOR):\n\u001b[1;32m    <a href='file:///Users/miguelnavaharris/miniforge3/envs/pinn/lib/python3.9/site-packages/tensorflow_estimator/python/estimator/training.py?line=643'>644</a>\u001b[0m   tf\u001b[39m.\u001b[39mcompat\u001b[39m.\u001b[39mv1\u001b[39m.\u001b[39mlogging\u001b[39m.\u001b[39minfo(\n\u001b[1;32m    <a href='file:///Users/miguelnavaharris/miniforge3/envs/pinn/lib/python3.9/site-packages/tensorflow_estimator/python/estimator/training.py?line=644'>645</a>\u001b[0m       \u001b[39m'\u001b[39m\u001b[39mRunning training and evaluation locally (non-distributed).\u001b[39m\u001b[39m'\u001b[39m)\n\u001b[0;32m--> <a href='file:///Users/miguelnavaharris/miniforge3/envs/pinn/lib/python3.9/site-packages/tensorflow_estimator/python/estimator/training.py?line=645'>646</a>\u001b[0m   \u001b[39mreturn\u001b[39;00m \u001b[39mself\u001b[39;49m\u001b[39m.\u001b[39;49mrun_local()\n\u001b[1;32m    <a href='file:///Users/miguelnavaharris/miniforge3/envs/pinn/lib/python3.9/site-packages/tensorflow_estimator/python/estimator/training.py?line=647'>648</a>\u001b[0m \u001b[39m# Distributed case.\u001b[39;00m\n\u001b[1;32m    <a href='file:///Users/miguelnavaharris/miniforge3/envs/pinn/lib/python3.9/site-packages/tensorflow_estimator/python/estimator/training.py?line=648'>649</a>\u001b[0m \u001b[39mif\u001b[39;00m \u001b[39mnot\u001b[39;00m config\u001b[39m.\u001b[39mtask_type:\n\u001b[1;32m    <a href='file:///Users/miguelnavaharris/miniforge3/envs/pinn/lib/python3.9/site-packages/tensorflow_estimator/python/estimator/training.py?line=649'>650</a>\u001b[0m   \u001b[39m# TODO(xiejw): Improve the error message about how to set the TF_CONFIG\u001b[39;00m\n\u001b[1;32m    <a href='file:///Users/miguelnavaharris/miniforge3/envs/pinn/lib/python3.9/site-packages/tensorflow_estimator/python/estimator/training.py?line=650'>651</a>\u001b[0m   \u001b[39m# correctly.\u001b[39;00m\n",
      "File \u001b[0;32m~/miniforge3/envs/pinn/lib/python3.9/site-packages/tensorflow_estimator/python/estimator/training.py:743\u001b[0m, in \u001b[0;36m_TrainingExecutor.run_local\u001b[0;34m(self)\u001b[0m\n\u001b[1;32m    <a href='file:///Users/miguelnavaharris/miniforge3/envs/pinn/lib/python3.9/site-packages/tensorflow_estimator/python/estimator/training.py?line=737'>738</a>\u001b[0m listener_for_eval \u001b[39m=\u001b[39m _NewCheckpointListenerForEvaluate(\n\u001b[1;32m    <a href='file:///Users/miguelnavaharris/miniforge3/envs/pinn/lib/python3.9/site-packages/tensorflow_estimator/python/estimator/training.py?line=738'>739</a>\u001b[0m     evaluator, \u001b[39mself\u001b[39m\u001b[39m.\u001b[39m_eval_spec\u001b[39m.\u001b[39mthrottle_secs,\n\u001b[1;32m    <a href='file:///Users/miguelnavaharris/miniforge3/envs/pinn/lib/python3.9/site-packages/tensorflow_estimator/python/estimator/training.py?line=739'>740</a>\u001b[0m     \u001b[39mself\u001b[39m\u001b[39m.\u001b[39m_continuous_eval_listener)\n\u001b[1;32m    <a href='file:///Users/miguelnavaharris/miniforge3/envs/pinn/lib/python3.9/site-packages/tensorflow_estimator/python/estimator/training.py?line=740'>741</a>\u001b[0m saving_listeners \u001b[39m=\u001b[39m \u001b[39mself\u001b[39m\u001b[39m.\u001b[39m_train_spec\u001b[39m.\u001b[39msaving_listeners \u001b[39m+\u001b[39m (listener_for_eval,)\n\u001b[0;32m--> <a href='file:///Users/miguelnavaharris/miniforge3/envs/pinn/lib/python3.9/site-packages/tensorflow_estimator/python/estimator/training.py?line=742'>743</a>\u001b[0m \u001b[39mself\u001b[39;49m\u001b[39m.\u001b[39;49m_estimator\u001b[39m.\u001b[39;49mtrain(\n\u001b[1;32m    <a href='file:///Users/miguelnavaharris/miniforge3/envs/pinn/lib/python3.9/site-packages/tensorflow_estimator/python/estimator/training.py?line=743'>744</a>\u001b[0m     input_fn\u001b[39m=\u001b[39;49m\u001b[39mself\u001b[39;49m\u001b[39m.\u001b[39;49m_train_spec\u001b[39m.\u001b[39;49minput_fn,\n\u001b[1;32m    <a href='file:///Users/miguelnavaharris/miniforge3/envs/pinn/lib/python3.9/site-packages/tensorflow_estimator/python/estimator/training.py?line=744'>745</a>\u001b[0m     max_steps\u001b[39m=\u001b[39;49m\u001b[39mself\u001b[39;49m\u001b[39m.\u001b[39;49m_train_spec\u001b[39m.\u001b[39;49mmax_steps,\n\u001b[1;32m    <a href='file:///Users/miguelnavaharris/miniforge3/envs/pinn/lib/python3.9/site-packages/tensorflow_estimator/python/estimator/training.py?line=745'>746</a>\u001b[0m     hooks\u001b[39m=\u001b[39;49mtrain_hooks,\n\u001b[1;32m    <a href='file:///Users/miguelnavaharris/miniforge3/envs/pinn/lib/python3.9/site-packages/tensorflow_estimator/python/estimator/training.py?line=746'>747</a>\u001b[0m     saving_listeners\u001b[39m=\u001b[39;49msaving_listeners)\n\u001b[1;32m    <a href='file:///Users/miguelnavaharris/miniforge3/envs/pinn/lib/python3.9/site-packages/tensorflow_estimator/python/estimator/training.py?line=748'>749</a>\u001b[0m eval_result \u001b[39m=\u001b[39m listener_for_eval\u001b[39m.\u001b[39meval_result \u001b[39mor\u001b[39;00m _EvalResult(\n\u001b[1;32m    <a href='file:///Users/miguelnavaharris/miniforge3/envs/pinn/lib/python3.9/site-packages/tensorflow_estimator/python/estimator/training.py?line=749'>750</a>\u001b[0m     status\u001b[39m=\u001b[39m_EvalStatus\u001b[39m.\u001b[39mMISSING_CHECKPOINT)\n\u001b[1;32m    <a href='file:///Users/miguelnavaharris/miniforge3/envs/pinn/lib/python3.9/site-packages/tensorflow_estimator/python/estimator/training.py?line=750'>751</a>\u001b[0m \u001b[39mreturn\u001b[39;00m eval_result\u001b[39m.\u001b[39mmetrics, listener_for_eval\u001b[39m.\u001b[39mexport_results\n",
      "File \u001b[0;32m~/miniforge3/envs/pinn/lib/python3.9/site-packages/tensorflow_estimator/python/estimator/estimator.py:349\u001b[0m, in \u001b[0;36mEstimator.train\u001b[0;34m(self, input_fn, hooks, steps, max_steps, saving_listeners)\u001b[0m\n\u001b[1;32m    <a href='file:///Users/miguelnavaharris/miniforge3/envs/pinn/lib/python3.9/site-packages/tensorflow_estimator/python/estimator/estimator.py?line=345'>346</a>\u001b[0m hooks\u001b[39m.\u001b[39mextend(\u001b[39mself\u001b[39m\u001b[39m.\u001b[39m_convert_train_steps_to_hooks(steps, max_steps))\n\u001b[1;32m    <a href='file:///Users/miguelnavaharris/miniforge3/envs/pinn/lib/python3.9/site-packages/tensorflow_estimator/python/estimator/estimator.py?line=347'>348</a>\u001b[0m saving_listeners \u001b[39m=\u001b[39m _check_listeners_type(saving_listeners)\n\u001b[0;32m--> <a href='file:///Users/miguelnavaharris/miniforge3/envs/pinn/lib/python3.9/site-packages/tensorflow_estimator/python/estimator/estimator.py?line=348'>349</a>\u001b[0m loss \u001b[39m=\u001b[39m \u001b[39mself\u001b[39;49m\u001b[39m.\u001b[39;49m_train_model(input_fn, hooks, saving_listeners)\n\u001b[1;32m    <a href='file:///Users/miguelnavaharris/miniforge3/envs/pinn/lib/python3.9/site-packages/tensorflow_estimator/python/estimator/estimator.py?line=349'>350</a>\u001b[0m logging\u001b[39m.\u001b[39minfo(\u001b[39m'\u001b[39m\u001b[39mLoss for final step: \u001b[39m\u001b[39m%s\u001b[39;00m\u001b[39m.\u001b[39m\u001b[39m'\u001b[39m, loss)\n\u001b[1;32m    <a href='file:///Users/miguelnavaharris/miniforge3/envs/pinn/lib/python3.9/site-packages/tensorflow_estimator/python/estimator/estimator.py?line=350'>351</a>\u001b[0m \u001b[39mreturn\u001b[39;00m \u001b[39mself\u001b[39m\n",
      "File \u001b[0;32m~/miniforge3/envs/pinn/lib/python3.9/site-packages/tensorflow_estimator/python/estimator/estimator.py:1175\u001b[0m, in \u001b[0;36mEstimator._train_model\u001b[0;34m(self, input_fn, hooks, saving_listeners)\u001b[0m\n\u001b[1;32m   <a href='file:///Users/miguelnavaharris/miniforge3/envs/pinn/lib/python3.9/site-packages/tensorflow_estimator/python/estimator/estimator.py?line=1172'>1173</a>\u001b[0m   \u001b[39mreturn\u001b[39;00m \u001b[39mself\u001b[39m\u001b[39m.\u001b[39m_train_model_distributed(input_fn, hooks, saving_listeners)\n\u001b[1;32m   <a href='file:///Users/miguelnavaharris/miniforge3/envs/pinn/lib/python3.9/site-packages/tensorflow_estimator/python/estimator/estimator.py?line=1173'>1174</a>\u001b[0m \u001b[39melse\u001b[39;00m:\n\u001b[0;32m-> <a href='file:///Users/miguelnavaharris/miniforge3/envs/pinn/lib/python3.9/site-packages/tensorflow_estimator/python/estimator/estimator.py?line=1174'>1175</a>\u001b[0m   \u001b[39mreturn\u001b[39;00m \u001b[39mself\u001b[39;49m\u001b[39m.\u001b[39;49m_train_model_default(input_fn, hooks, saving_listeners)\n",
      "File \u001b[0;32m~/miniforge3/envs/pinn/lib/python3.9/site-packages/tensorflow_estimator/python/estimator/estimator.py:1206\u001b[0m, in \u001b[0;36mEstimator._train_model_default\u001b[0;34m(self, input_fn, hooks, saving_listeners)\u001b[0m\n\u001b[1;32m   <a href='file:///Users/miguelnavaharris/miniforge3/envs/pinn/lib/python3.9/site-packages/tensorflow_estimator/python/estimator/estimator.py?line=1202'>1203</a>\u001b[0m estimator_spec \u001b[39m=\u001b[39m \u001b[39mself\u001b[39m\u001b[39m.\u001b[39m_call_model_fn(features, labels, ModeKeys\u001b[39m.\u001b[39mTRAIN,\n\u001b[1;32m   <a href='file:///Users/miguelnavaharris/miniforge3/envs/pinn/lib/python3.9/site-packages/tensorflow_estimator/python/estimator/estimator.py?line=1203'>1204</a>\u001b[0m                                      \u001b[39mself\u001b[39m\u001b[39m.\u001b[39mconfig)\n\u001b[1;32m   <a href='file:///Users/miguelnavaharris/miniforge3/envs/pinn/lib/python3.9/site-packages/tensorflow_estimator/python/estimator/estimator.py?line=1204'>1205</a>\u001b[0m global_step_tensor \u001b[39m=\u001b[39m tf\u001b[39m.\u001b[39mcompat\u001b[39m.\u001b[39mv1\u001b[39m.\u001b[39mtrain\u001b[39m.\u001b[39mget_global_step(g)\n\u001b[0;32m-> <a href='file:///Users/miguelnavaharris/miniforge3/envs/pinn/lib/python3.9/site-packages/tensorflow_estimator/python/estimator/estimator.py?line=1205'>1206</a>\u001b[0m \u001b[39mreturn\u001b[39;00m \u001b[39mself\u001b[39;49m\u001b[39m.\u001b[39;49m_train_with_estimator_spec(estimator_spec, worker_hooks,\n\u001b[1;32m   <a href='file:///Users/miguelnavaharris/miniforge3/envs/pinn/lib/python3.9/site-packages/tensorflow_estimator/python/estimator/estimator.py?line=1206'>1207</a>\u001b[0m                                        hooks, global_step_tensor,\n\u001b[1;32m   <a href='file:///Users/miguelnavaharris/miniforge3/envs/pinn/lib/python3.9/site-packages/tensorflow_estimator/python/estimator/estimator.py?line=1207'>1208</a>\u001b[0m                                        saving_listeners)\n",
      "File \u001b[0;32m~/miniforge3/envs/pinn/lib/python3.9/site-packages/tensorflow_estimator/python/estimator/estimator.py:1514\u001b[0m, in \u001b[0;36mEstimator._train_with_estimator_spec\u001b[0;34m(self, estimator_spec, worker_hooks, hooks, global_step_tensor, saving_listeners)\u001b[0m\n\u001b[1;32m   <a href='file:///Users/miguelnavaharris/miniforge3/envs/pinn/lib/python3.9/site-packages/tensorflow_estimator/python/estimator/estimator.py?line=1511'>1512</a>\u001b[0m   any_step_done \u001b[39m=\u001b[39m \u001b[39mFalse\u001b[39;00m\n\u001b[1;32m   <a href='file:///Users/miguelnavaharris/miniforge3/envs/pinn/lib/python3.9/site-packages/tensorflow_estimator/python/estimator/estimator.py?line=1512'>1513</a>\u001b[0m   \u001b[39mwhile\u001b[39;00m \u001b[39mnot\u001b[39;00m mon_sess\u001b[39m.\u001b[39mshould_stop():\n\u001b[0;32m-> <a href='file:///Users/miguelnavaharris/miniforge3/envs/pinn/lib/python3.9/site-packages/tensorflow_estimator/python/estimator/estimator.py?line=1513'>1514</a>\u001b[0m     _, loss \u001b[39m=\u001b[39m mon_sess\u001b[39m.\u001b[39;49mrun([estimator_spec\u001b[39m.\u001b[39;49mtrain_op, estimator_spec\u001b[39m.\u001b[39;49mloss])\n\u001b[1;32m   <a href='file:///Users/miguelnavaharris/miniforge3/envs/pinn/lib/python3.9/site-packages/tensorflow_estimator/python/estimator/estimator.py?line=1514'>1515</a>\u001b[0m     any_step_done \u001b[39m=\u001b[39m \u001b[39mTrue\u001b[39;00m\n\u001b[1;32m   <a href='file:///Users/miguelnavaharris/miniforge3/envs/pinn/lib/python3.9/site-packages/tensorflow_estimator/python/estimator/estimator.py?line=1515'>1516</a>\u001b[0m \u001b[39mif\u001b[39;00m \u001b[39mnot\u001b[39;00m any_step_done:\n",
      "File \u001b[0;32m~/miniforge3/envs/pinn/lib/python3.9/site-packages/tensorflow/python/training/monitored_session.py:775\u001b[0m, in \u001b[0;36m_MonitoredSession.run\u001b[0;34m(self, fetches, feed_dict, options, run_metadata)\u001b[0m\n\u001b[1;32m    <a href='file:///Users/miguelnavaharris/miniforge3/envs/pinn/lib/python3.9/site-packages/tensorflow/python/training/monitored_session.py?line=760'>761</a>\u001b[0m \u001b[39mdef\u001b[39;00m \u001b[39mrun\u001b[39m(\u001b[39mself\u001b[39m, fetches, feed_dict\u001b[39m=\u001b[39m\u001b[39mNone\u001b[39;00m, options\u001b[39m=\u001b[39m\u001b[39mNone\u001b[39;00m, run_metadata\u001b[39m=\u001b[39m\u001b[39mNone\u001b[39;00m):\n\u001b[1;32m    <a href='file:///Users/miguelnavaharris/miniforge3/envs/pinn/lib/python3.9/site-packages/tensorflow/python/training/monitored_session.py?line=761'>762</a>\u001b[0m   \u001b[39m\"\"\"Run ops in the monitored session.\u001b[39;00m\n\u001b[1;32m    <a href='file:///Users/miguelnavaharris/miniforge3/envs/pinn/lib/python3.9/site-packages/tensorflow/python/training/monitored_session.py?line=762'>763</a>\u001b[0m \n\u001b[1;32m    <a href='file:///Users/miguelnavaharris/miniforge3/envs/pinn/lib/python3.9/site-packages/tensorflow/python/training/monitored_session.py?line=763'>764</a>\u001b[0m \u001b[39m  This method is completely compatible with the `tf.Session.run()` method.\u001b[39;00m\n\u001b[0;32m   (...)\u001b[0m\n\u001b[1;32m    <a href='file:///Users/miguelnavaharris/miniforge3/envs/pinn/lib/python3.9/site-packages/tensorflow/python/training/monitored_session.py?line=772'>773</a>\u001b[0m \u001b[39m    Same as `tf.Session.run()`.\u001b[39;00m\n\u001b[1;32m    <a href='file:///Users/miguelnavaharris/miniforge3/envs/pinn/lib/python3.9/site-packages/tensorflow/python/training/monitored_session.py?line=773'>774</a>\u001b[0m \u001b[39m  \"\"\"\u001b[39;00m\n\u001b[0;32m--> <a href='file:///Users/miguelnavaharris/miniforge3/envs/pinn/lib/python3.9/site-packages/tensorflow/python/training/monitored_session.py?line=774'>775</a>\u001b[0m   \u001b[39mreturn\u001b[39;00m \u001b[39mself\u001b[39;49m\u001b[39m.\u001b[39;49m_sess\u001b[39m.\u001b[39;49mrun(\n\u001b[1;32m    <a href='file:///Users/miguelnavaharris/miniforge3/envs/pinn/lib/python3.9/site-packages/tensorflow/python/training/monitored_session.py?line=775'>776</a>\u001b[0m       fetches,\n\u001b[1;32m    <a href='file:///Users/miguelnavaharris/miniforge3/envs/pinn/lib/python3.9/site-packages/tensorflow/python/training/monitored_session.py?line=776'>777</a>\u001b[0m       feed_dict\u001b[39m=\u001b[39;49mfeed_dict,\n\u001b[1;32m    <a href='file:///Users/miguelnavaharris/miniforge3/envs/pinn/lib/python3.9/site-packages/tensorflow/python/training/monitored_session.py?line=777'>778</a>\u001b[0m       options\u001b[39m=\u001b[39;49moptions,\n\u001b[1;32m    <a href='file:///Users/miguelnavaharris/miniforge3/envs/pinn/lib/python3.9/site-packages/tensorflow/python/training/monitored_session.py?line=778'>779</a>\u001b[0m       run_metadata\u001b[39m=\u001b[39;49mrun_metadata)\n",
      "File \u001b[0;32m~/miniforge3/envs/pinn/lib/python3.9/site-packages/tensorflow/python/training/monitored_session.py:1280\u001b[0m, in \u001b[0;36m_RecoverableSession.run\u001b[0;34m(self, fetches, feed_dict, options, run_metadata)\u001b[0m\n\u001b[1;32m   <a href='file:///Users/miguelnavaharris/miniforge3/envs/pinn/lib/python3.9/site-packages/tensorflow/python/training/monitored_session.py?line=1277'>1278</a>\u001b[0m   \u001b[39mif\u001b[39;00m \u001b[39mnot\u001b[39;00m \u001b[39mself\u001b[39m\u001b[39m.\u001b[39m_sess:\n\u001b[1;32m   <a href='file:///Users/miguelnavaharris/miniforge3/envs/pinn/lib/python3.9/site-packages/tensorflow/python/training/monitored_session.py?line=1278'>1279</a>\u001b[0m     \u001b[39mself\u001b[39m\u001b[39m.\u001b[39m_sess \u001b[39m=\u001b[39m \u001b[39mself\u001b[39m\u001b[39m.\u001b[39m_create_session()\n\u001b[0;32m-> <a href='file:///Users/miguelnavaharris/miniforge3/envs/pinn/lib/python3.9/site-packages/tensorflow/python/training/monitored_session.py?line=1279'>1280</a>\u001b[0m   \u001b[39mreturn\u001b[39;00m \u001b[39mself\u001b[39;49m\u001b[39m.\u001b[39;49m_sess\u001b[39m.\u001b[39;49mrun(\n\u001b[1;32m   <a href='file:///Users/miguelnavaharris/miniforge3/envs/pinn/lib/python3.9/site-packages/tensorflow/python/training/monitored_session.py?line=1280'>1281</a>\u001b[0m       fetches,\n\u001b[1;32m   <a href='file:///Users/miguelnavaharris/miniforge3/envs/pinn/lib/python3.9/site-packages/tensorflow/python/training/monitored_session.py?line=1281'>1282</a>\u001b[0m       feed_dict\u001b[39m=\u001b[39;49mfeed_dict,\n\u001b[1;32m   <a href='file:///Users/miguelnavaharris/miniforge3/envs/pinn/lib/python3.9/site-packages/tensorflow/python/training/monitored_session.py?line=1282'>1283</a>\u001b[0m       options\u001b[39m=\u001b[39;49moptions,\n\u001b[1;32m   <a href='file:///Users/miguelnavaharris/miniforge3/envs/pinn/lib/python3.9/site-packages/tensorflow/python/training/monitored_session.py?line=1283'>1284</a>\u001b[0m       run_metadata\u001b[39m=\u001b[39;49mrun_metadata)\n\u001b[1;32m   <a href='file:///Users/miguelnavaharris/miniforge3/envs/pinn/lib/python3.9/site-packages/tensorflow/python/training/monitored_session.py?line=1284'>1285</a>\u001b[0m \u001b[39mexcept\u001b[39;00m _PREEMPTION_ERRORS \u001b[39mas\u001b[39;00m e:\n\u001b[1;32m   <a href='file:///Users/miguelnavaharris/miniforge3/envs/pinn/lib/python3.9/site-packages/tensorflow/python/training/monitored_session.py?line=1285'>1286</a>\u001b[0m   logging\u001b[39m.\u001b[39minfo(\n\u001b[1;32m   <a href='file:///Users/miguelnavaharris/miniforge3/envs/pinn/lib/python3.9/site-packages/tensorflow/python/training/monitored_session.py?line=1286'>1287</a>\u001b[0m       \u001b[39m'\u001b[39m\u001b[39mAn error was raised. This may be due to a preemption in \u001b[39m\u001b[39m'\u001b[39m\n\u001b[1;32m   <a href='file:///Users/miguelnavaharris/miniforge3/envs/pinn/lib/python3.9/site-packages/tensorflow/python/training/monitored_session.py?line=1287'>1288</a>\u001b[0m       \u001b[39m'\u001b[39m\u001b[39ma connected worker or parameter server. The current \u001b[39m\u001b[39m'\u001b[39m\n\u001b[0;32m   (...)\u001b[0m\n\u001b[1;32m   <a href='file:///Users/miguelnavaharris/miniforge3/envs/pinn/lib/python3.9/site-packages/tensorflow/python/training/monitored_session.py?line=1292'>1293</a>\u001b[0m       \u001b[39m'\u001b[39m\u001b[39mincreasing the number of parameter servers assigned to \u001b[39m\u001b[39m'\u001b[39m\n\u001b[1;32m   <a href='file:///Users/miguelnavaharris/miniforge3/envs/pinn/lib/python3.9/site-packages/tensorflow/python/training/monitored_session.py?line=1293'>1294</a>\u001b[0m       \u001b[39m'\u001b[39m\u001b[39mthe job. Error: \u001b[39m\u001b[39m%s\u001b[39;00m\u001b[39m'\u001b[39m, e)\n",
      "File \u001b[0;32m~/miniforge3/envs/pinn/lib/python3.9/site-packages/tensorflow/python/training/monitored_session.py:1370\u001b[0m, in \u001b[0;36m_CoordinatedSession.run\u001b[0;34m(self, *args, **kwargs)\u001b[0m\n\u001b[1;32m   <a href='file:///Users/miguelnavaharris/miniforge3/envs/pinn/lib/python3.9/site-packages/tensorflow/python/training/monitored_session.py?line=1367'>1368</a>\u001b[0m \u001b[39mdef\u001b[39;00m \u001b[39mrun\u001b[39m(\u001b[39mself\u001b[39m, \u001b[39m*\u001b[39margs, \u001b[39m*\u001b[39m\u001b[39m*\u001b[39mkwargs):\n\u001b[1;32m   <a href='file:///Users/miguelnavaharris/miniforge3/envs/pinn/lib/python3.9/site-packages/tensorflow/python/training/monitored_session.py?line=1368'>1369</a>\u001b[0m   \u001b[39mtry\u001b[39;00m:\n\u001b[0;32m-> <a href='file:///Users/miguelnavaharris/miniforge3/envs/pinn/lib/python3.9/site-packages/tensorflow/python/training/monitored_session.py?line=1369'>1370</a>\u001b[0m     \u001b[39mreturn\u001b[39;00m \u001b[39mself\u001b[39;49m\u001b[39m.\u001b[39;49m_sess\u001b[39m.\u001b[39;49mrun(\u001b[39m*\u001b[39;49margs, \u001b[39m*\u001b[39;49m\u001b[39m*\u001b[39;49mkwargs)\n\u001b[1;32m   <a href='file:///Users/miguelnavaharris/miniforge3/envs/pinn/lib/python3.9/site-packages/tensorflow/python/training/monitored_session.py?line=1370'>1371</a>\u001b[0m   \u001b[39mexcept\u001b[39;00m _PREEMPTION_ERRORS:\n\u001b[1;32m   <a href='file:///Users/miguelnavaharris/miniforge3/envs/pinn/lib/python3.9/site-packages/tensorflow/python/training/monitored_session.py?line=1371'>1372</a>\u001b[0m     \u001b[39mraise\u001b[39;00m\n",
      "File \u001b[0;32m~/miniforge3/envs/pinn/lib/python3.9/site-packages/tensorflow/python/training/monitored_session.py:1438\u001b[0m, in \u001b[0;36m_HookedSession.run\u001b[0;34m(self, fetches, feed_dict, options, run_metadata)\u001b[0m\n\u001b[1;32m   <a href='file:///Users/miguelnavaharris/miniforge3/envs/pinn/lib/python3.9/site-packages/tensorflow/python/training/monitored_session.py?line=1435'>1436</a>\u001b[0m \u001b[39m# Do session run.\u001b[39;00m\n\u001b[1;32m   <a href='file:///Users/miguelnavaharris/miniforge3/envs/pinn/lib/python3.9/site-packages/tensorflow/python/training/monitored_session.py?line=1436'>1437</a>\u001b[0m run_metadata \u001b[39m=\u001b[39m run_metadata \u001b[39mor\u001b[39;00m config_pb2\u001b[39m.\u001b[39mRunMetadata()\n\u001b[0;32m-> <a href='file:///Users/miguelnavaharris/miniforge3/envs/pinn/lib/python3.9/site-packages/tensorflow/python/training/monitored_session.py?line=1437'>1438</a>\u001b[0m outputs \u001b[39m=\u001b[39m _WrappedSession\u001b[39m.\u001b[39;49mrun(\n\u001b[1;32m   <a href='file:///Users/miguelnavaharris/miniforge3/envs/pinn/lib/python3.9/site-packages/tensorflow/python/training/monitored_session.py?line=1438'>1439</a>\u001b[0m     \u001b[39mself\u001b[39;49m,\n\u001b[1;32m   <a href='file:///Users/miguelnavaharris/miniforge3/envs/pinn/lib/python3.9/site-packages/tensorflow/python/training/monitored_session.py?line=1439'>1440</a>\u001b[0m     fetches\u001b[39m=\u001b[39;49mactual_fetches,\n\u001b[1;32m   <a href='file:///Users/miguelnavaharris/miniforge3/envs/pinn/lib/python3.9/site-packages/tensorflow/python/training/monitored_session.py?line=1440'>1441</a>\u001b[0m     feed_dict\u001b[39m=\u001b[39;49mfeed_dict,\n\u001b[1;32m   <a href='file:///Users/miguelnavaharris/miniforge3/envs/pinn/lib/python3.9/site-packages/tensorflow/python/training/monitored_session.py?line=1441'>1442</a>\u001b[0m     options\u001b[39m=\u001b[39;49moptions,\n\u001b[1;32m   <a href='file:///Users/miguelnavaharris/miniforge3/envs/pinn/lib/python3.9/site-packages/tensorflow/python/training/monitored_session.py?line=1442'>1443</a>\u001b[0m     run_metadata\u001b[39m=\u001b[39;49mrun_metadata)\n\u001b[1;32m   <a href='file:///Users/miguelnavaharris/miniforge3/envs/pinn/lib/python3.9/site-packages/tensorflow/python/training/monitored_session.py?line=1444'>1445</a>\u001b[0m \u001b[39mfor\u001b[39;00m hook \u001b[39min\u001b[39;00m \u001b[39mself\u001b[39m\u001b[39m.\u001b[39m_hooks:\n\u001b[1;32m   <a href='file:///Users/miguelnavaharris/miniforge3/envs/pinn/lib/python3.9/site-packages/tensorflow/python/training/monitored_session.py?line=1445'>1446</a>\u001b[0m   hook\u001b[39m.\u001b[39mafter_run(\n\u001b[1;32m   <a href='file:///Users/miguelnavaharris/miniforge3/envs/pinn/lib/python3.9/site-packages/tensorflow/python/training/monitored_session.py?line=1446'>1447</a>\u001b[0m       run_context,\n\u001b[1;32m   <a href='file:///Users/miguelnavaharris/miniforge3/envs/pinn/lib/python3.9/site-packages/tensorflow/python/training/monitored_session.py?line=1447'>1448</a>\u001b[0m       session_run_hook\u001b[39m.\u001b[39mSessionRunValues(\n\u001b[1;32m   <a href='file:///Users/miguelnavaharris/miniforge3/envs/pinn/lib/python3.9/site-packages/tensorflow/python/training/monitored_session.py?line=1448'>1449</a>\u001b[0m           results\u001b[39m=\u001b[39moutputs[hook] \u001b[39mif\u001b[39;00m hook \u001b[39min\u001b[39;00m outputs \u001b[39melse\u001b[39;00m \u001b[39mNone\u001b[39;00m,\n\u001b[1;32m   <a href='file:///Users/miguelnavaharris/miniforge3/envs/pinn/lib/python3.9/site-packages/tensorflow/python/training/monitored_session.py?line=1449'>1450</a>\u001b[0m           options\u001b[39m=\u001b[39moptions,\n\u001b[1;32m   <a href='file:///Users/miguelnavaharris/miniforge3/envs/pinn/lib/python3.9/site-packages/tensorflow/python/training/monitored_session.py?line=1450'>1451</a>\u001b[0m           run_metadata\u001b[39m=\u001b[39mrun_metadata))\n",
      "File \u001b[0;32m~/miniforge3/envs/pinn/lib/python3.9/site-packages/tensorflow/python/training/monitored_session.py:1201\u001b[0m, in \u001b[0;36m_WrappedSession.run\u001b[0;34m(self, *args, **kwargs)\u001b[0m\n\u001b[1;32m   <a href='file:///Users/miguelnavaharris/miniforge3/envs/pinn/lib/python3.9/site-packages/tensorflow/python/training/monitored_session.py?line=1199'>1200</a>\u001b[0m \u001b[39mdef\u001b[39;00m \u001b[39mrun\u001b[39m(\u001b[39mself\u001b[39m, \u001b[39m*\u001b[39margs, \u001b[39m*\u001b[39m\u001b[39m*\u001b[39mkwargs):\n\u001b[0;32m-> <a href='file:///Users/miguelnavaharris/miniforge3/envs/pinn/lib/python3.9/site-packages/tensorflow/python/training/monitored_session.py?line=1200'>1201</a>\u001b[0m   \u001b[39mreturn\u001b[39;00m \u001b[39mself\u001b[39;49m\u001b[39m.\u001b[39;49m_sess\u001b[39m.\u001b[39;49mrun(\u001b[39m*\u001b[39;49margs, \u001b[39m*\u001b[39;49m\u001b[39m*\u001b[39;49mkwargs)\n",
      "File \u001b[0;32m~/miniforge3/envs/pinn/lib/python3.9/site-packages/tensorflow/python/client/session.py:967\u001b[0m, in \u001b[0;36mBaseSession.run\u001b[0;34m(self, fetches, feed_dict, options, run_metadata)\u001b[0m\n\u001b[1;32m    <a href='file:///Users/miguelnavaharris/miniforge3/envs/pinn/lib/python3.9/site-packages/tensorflow/python/client/session.py?line=963'>964</a>\u001b[0m run_metadata_ptr \u001b[39m=\u001b[39m tf_session\u001b[39m.\u001b[39mTF_NewBuffer() \u001b[39mif\u001b[39;00m run_metadata \u001b[39melse\u001b[39;00m \u001b[39mNone\u001b[39;00m\n\u001b[1;32m    <a href='file:///Users/miguelnavaharris/miniforge3/envs/pinn/lib/python3.9/site-packages/tensorflow/python/client/session.py?line=965'>966</a>\u001b[0m \u001b[39mtry\u001b[39;00m:\n\u001b[0;32m--> <a href='file:///Users/miguelnavaharris/miniforge3/envs/pinn/lib/python3.9/site-packages/tensorflow/python/client/session.py?line=966'>967</a>\u001b[0m   result \u001b[39m=\u001b[39m \u001b[39mself\u001b[39;49m\u001b[39m.\u001b[39;49m_run(\u001b[39mNone\u001b[39;49;00m, fetches, feed_dict, options_ptr,\n\u001b[1;32m    <a href='file:///Users/miguelnavaharris/miniforge3/envs/pinn/lib/python3.9/site-packages/tensorflow/python/client/session.py?line=967'>968</a>\u001b[0m                      run_metadata_ptr)\n\u001b[1;32m    <a href='file:///Users/miguelnavaharris/miniforge3/envs/pinn/lib/python3.9/site-packages/tensorflow/python/client/session.py?line=968'>969</a>\u001b[0m   \u001b[39mif\u001b[39;00m run_metadata:\n\u001b[1;32m    <a href='file:///Users/miguelnavaharris/miniforge3/envs/pinn/lib/python3.9/site-packages/tensorflow/python/client/session.py?line=969'>970</a>\u001b[0m     proto_data \u001b[39m=\u001b[39m tf_session\u001b[39m.\u001b[39mTF_GetBuffer(run_metadata_ptr)\n",
      "File \u001b[0;32m~/miniforge3/envs/pinn/lib/python3.9/site-packages/tensorflow/python/client/session.py:1190\u001b[0m, in \u001b[0;36mBaseSession._run\u001b[0;34m(self, handle, fetches, feed_dict, options, run_metadata)\u001b[0m\n\u001b[1;32m   <a href='file:///Users/miguelnavaharris/miniforge3/envs/pinn/lib/python3.9/site-packages/tensorflow/python/client/session.py?line=1186'>1187</a>\u001b[0m \u001b[39m# We only want to really perform the run if fetches or targets are provided,\u001b[39;00m\n\u001b[1;32m   <a href='file:///Users/miguelnavaharris/miniforge3/envs/pinn/lib/python3.9/site-packages/tensorflow/python/client/session.py?line=1187'>1188</a>\u001b[0m \u001b[39m# or if the call is a partial run that specifies feeds.\u001b[39;00m\n\u001b[1;32m   <a href='file:///Users/miguelnavaharris/miniforge3/envs/pinn/lib/python3.9/site-packages/tensorflow/python/client/session.py?line=1188'>1189</a>\u001b[0m \u001b[39mif\u001b[39;00m final_fetches \u001b[39mor\u001b[39;00m final_targets \u001b[39mor\u001b[39;00m (handle \u001b[39mand\u001b[39;00m feed_dict_tensor):\n\u001b[0;32m-> <a href='file:///Users/miguelnavaharris/miniforge3/envs/pinn/lib/python3.9/site-packages/tensorflow/python/client/session.py?line=1189'>1190</a>\u001b[0m   results \u001b[39m=\u001b[39m \u001b[39mself\u001b[39;49m\u001b[39m.\u001b[39;49m_do_run(handle, final_targets, final_fetches,\n\u001b[1;32m   <a href='file:///Users/miguelnavaharris/miniforge3/envs/pinn/lib/python3.9/site-packages/tensorflow/python/client/session.py?line=1190'>1191</a>\u001b[0m                          feed_dict_tensor, options, run_metadata)\n\u001b[1;32m   <a href='file:///Users/miguelnavaharris/miniforge3/envs/pinn/lib/python3.9/site-packages/tensorflow/python/client/session.py?line=1191'>1192</a>\u001b[0m \u001b[39melse\u001b[39;00m:\n\u001b[1;32m   <a href='file:///Users/miguelnavaharris/miniforge3/envs/pinn/lib/python3.9/site-packages/tensorflow/python/client/session.py?line=1192'>1193</a>\u001b[0m   results \u001b[39m=\u001b[39m []\n",
      "File \u001b[0;32m~/miniforge3/envs/pinn/lib/python3.9/site-packages/tensorflow/python/client/session.py:1368\u001b[0m, in \u001b[0;36mBaseSession._do_run\u001b[0;34m(self, handle, target_list, fetch_list, feed_dict, options, run_metadata)\u001b[0m\n\u001b[1;32m   <a href='file:///Users/miguelnavaharris/miniforge3/envs/pinn/lib/python3.9/site-packages/tensorflow/python/client/session.py?line=1364'>1365</a>\u001b[0m   \u001b[39mreturn\u001b[39;00m \u001b[39mself\u001b[39m\u001b[39m.\u001b[39m_call_tf_sessionprun(handle, feed_dict, fetch_list)\n\u001b[1;32m   <a href='file:///Users/miguelnavaharris/miniforge3/envs/pinn/lib/python3.9/site-packages/tensorflow/python/client/session.py?line=1366'>1367</a>\u001b[0m \u001b[39mif\u001b[39;00m handle \u001b[39mis\u001b[39;00m \u001b[39mNone\u001b[39;00m:\n\u001b[0;32m-> <a href='file:///Users/miguelnavaharris/miniforge3/envs/pinn/lib/python3.9/site-packages/tensorflow/python/client/session.py?line=1367'>1368</a>\u001b[0m   \u001b[39mreturn\u001b[39;00m \u001b[39mself\u001b[39;49m\u001b[39m.\u001b[39;49m_do_call(_run_fn, feeds, fetches, targets, options,\n\u001b[1;32m   <a href='file:///Users/miguelnavaharris/miniforge3/envs/pinn/lib/python3.9/site-packages/tensorflow/python/client/session.py?line=1368'>1369</a>\u001b[0m                        run_metadata)\n\u001b[1;32m   <a href='file:///Users/miguelnavaharris/miniforge3/envs/pinn/lib/python3.9/site-packages/tensorflow/python/client/session.py?line=1369'>1370</a>\u001b[0m \u001b[39melse\u001b[39;00m:\n\u001b[1;32m   <a href='file:///Users/miguelnavaharris/miniforge3/envs/pinn/lib/python3.9/site-packages/tensorflow/python/client/session.py?line=1370'>1371</a>\u001b[0m   \u001b[39mreturn\u001b[39;00m \u001b[39mself\u001b[39m\u001b[39m.\u001b[39m_do_call(_prun_fn, handle, feeds, fetches)\n",
      "File \u001b[0;32m~/miniforge3/envs/pinn/lib/python3.9/site-packages/tensorflow/python/client/session.py:1375\u001b[0m, in \u001b[0;36mBaseSession._do_call\u001b[0;34m(self, fn, *args)\u001b[0m\n\u001b[1;32m   <a href='file:///Users/miguelnavaharris/miniforge3/envs/pinn/lib/python3.9/site-packages/tensorflow/python/client/session.py?line=1372'>1373</a>\u001b[0m \u001b[39mdef\u001b[39;00m \u001b[39m_do_call\u001b[39m(\u001b[39mself\u001b[39m, fn, \u001b[39m*\u001b[39margs):\n\u001b[1;32m   <a href='file:///Users/miguelnavaharris/miniforge3/envs/pinn/lib/python3.9/site-packages/tensorflow/python/client/session.py?line=1373'>1374</a>\u001b[0m   \u001b[39mtry\u001b[39;00m:\n\u001b[0;32m-> <a href='file:///Users/miguelnavaharris/miniforge3/envs/pinn/lib/python3.9/site-packages/tensorflow/python/client/session.py?line=1374'>1375</a>\u001b[0m     \u001b[39mreturn\u001b[39;00m fn(\u001b[39m*\u001b[39;49margs)\n\u001b[1;32m   <a href='file:///Users/miguelnavaharris/miniforge3/envs/pinn/lib/python3.9/site-packages/tensorflow/python/client/session.py?line=1375'>1376</a>\u001b[0m   \u001b[39mexcept\u001b[39;00m errors\u001b[39m.\u001b[39mOpError \u001b[39mas\u001b[39;00m e:\n\u001b[1;32m   <a href='file:///Users/miguelnavaharris/miniforge3/envs/pinn/lib/python3.9/site-packages/tensorflow/python/client/session.py?line=1376'>1377</a>\u001b[0m     message \u001b[39m=\u001b[39m compat\u001b[39m.\u001b[39mas_text(e\u001b[39m.\u001b[39mmessage)\n",
      "File \u001b[0;32m~/miniforge3/envs/pinn/lib/python3.9/site-packages/tensorflow/python/client/session.py:1359\u001b[0m, in \u001b[0;36mBaseSession._do_run.<locals>._run_fn\u001b[0;34m(feed_dict, fetch_list, target_list, options, run_metadata)\u001b[0m\n\u001b[1;32m   <a href='file:///Users/miguelnavaharris/miniforge3/envs/pinn/lib/python3.9/site-packages/tensorflow/python/client/session.py?line=1355'>1356</a>\u001b[0m \u001b[39mdef\u001b[39;00m \u001b[39m_run_fn\u001b[39m(feed_dict, fetch_list, target_list, options, run_metadata):\n\u001b[1;32m   <a href='file:///Users/miguelnavaharris/miniforge3/envs/pinn/lib/python3.9/site-packages/tensorflow/python/client/session.py?line=1356'>1357</a>\u001b[0m   \u001b[39m# Ensure any changes to the graph are reflected in the runtime.\u001b[39;00m\n\u001b[1;32m   <a href='file:///Users/miguelnavaharris/miniforge3/envs/pinn/lib/python3.9/site-packages/tensorflow/python/client/session.py?line=1357'>1358</a>\u001b[0m   \u001b[39mself\u001b[39m\u001b[39m.\u001b[39m_extend_graph()\n\u001b[0;32m-> <a href='file:///Users/miguelnavaharris/miniforge3/envs/pinn/lib/python3.9/site-packages/tensorflow/python/client/session.py?line=1358'>1359</a>\u001b[0m   \u001b[39mreturn\u001b[39;00m \u001b[39mself\u001b[39;49m\u001b[39m.\u001b[39;49m_call_tf_sessionrun(options, feed_dict, fetch_list,\n\u001b[1;32m   <a href='file:///Users/miguelnavaharris/miniforge3/envs/pinn/lib/python3.9/site-packages/tensorflow/python/client/session.py?line=1359'>1360</a>\u001b[0m                                   target_list, run_metadata)\n",
      "File \u001b[0;32m~/miniforge3/envs/pinn/lib/python3.9/site-packages/tensorflow/python/client/session.py:1451\u001b[0m, in \u001b[0;36mBaseSession._call_tf_sessionrun\u001b[0;34m(self, options, feed_dict, fetch_list, target_list, run_metadata)\u001b[0m\n\u001b[1;32m   <a href='file:///Users/miguelnavaharris/miniforge3/envs/pinn/lib/python3.9/site-packages/tensorflow/python/client/session.py?line=1448'>1449</a>\u001b[0m \u001b[39mdef\u001b[39;00m \u001b[39m_call_tf_sessionrun\u001b[39m(\u001b[39mself\u001b[39m, options, feed_dict, fetch_list, target_list,\n\u001b[1;32m   <a href='file:///Users/miguelnavaharris/miniforge3/envs/pinn/lib/python3.9/site-packages/tensorflow/python/client/session.py?line=1449'>1450</a>\u001b[0m                         run_metadata):\n\u001b[0;32m-> <a href='file:///Users/miguelnavaharris/miniforge3/envs/pinn/lib/python3.9/site-packages/tensorflow/python/client/session.py?line=1450'>1451</a>\u001b[0m   \u001b[39mreturn\u001b[39;00m tf_session\u001b[39m.\u001b[39;49mTF_SessionRun_wrapper(\u001b[39mself\u001b[39;49m\u001b[39m.\u001b[39;49m_session, options, feed_dict,\n\u001b[1;32m   <a href='file:///Users/miguelnavaharris/miniforge3/envs/pinn/lib/python3.9/site-packages/tensorflow/python/client/session.py?line=1451'>1452</a>\u001b[0m                                           fetch_list, target_list,\n\u001b[1;32m   <a href='file:///Users/miguelnavaharris/miniforge3/envs/pinn/lib/python3.9/site-packages/tensorflow/python/client/session.py?line=1452'>1453</a>\u001b[0m                                           run_metadata)\n",
      "\u001b[0;31mKeyboardInterrupt\u001b[0m: "
     ]
    }
   ],
   "source": [
    "tf.estimator.train_and_evaluate(model, train_spec, eval_spec)"
   ]
  },
  {
   "cell_type": "markdown",
   "metadata": {},
   "source": [
    "## Using the model\n",
    "\n",
    "The trained model can be used as an ASE calculator."
   ]
  },
  {
   "cell_type": "code",
   "execution_count": null,
   "metadata": {},
   "outputs": [
    {
     "name": "stdout",
     "output_type": "stream",
     "text": [
      "INFO:tensorflow:Using default config.\n",
      "INFO:tensorflow:Using config: {'_model_dir': '/tmp/PiNet_QM92', '_tf_random_seed': None, '_save_summary_steps': 100, '_save_checkpoints_steps': None, '_save_checkpoints_secs': 600, '_session_config': allow_soft_placement: true\n",
      "graph_options {\n",
      "  rewrite_options {\n",
      "    meta_optimizer_iterations: ONE\n",
      "  }\n",
      "}\n",
      ", '_keep_checkpoint_max': 5, '_keep_checkpoint_every_n_hours': 10000, '_log_step_count_steps': 100, '_train_distribute': None, '_device_fn': None, '_protocol': None, '_eval_distribute': None, '_experimental_distribute': None, '_experimental_max_worker_delay_secs': None, '_session_creation_timeout_secs': 7200, '_checkpoint_save_graph_def': True, '_service': None, '_cluster_spec': ClusterSpec({}), '_task_type': 'worker', '_task_id': 0, '_global_id_in_cluster': 0, '_master': '', '_evaluation_master': '', '_is_chief': True, '_num_ps_replicas': 0, '_num_worker_replicas': 1}\n",
      "INFO:tensorflow:Could not find trained model in model_dir: /tmp/PiNet_QM92, running initialization to predict.\n",
      "INFO:tensorflow:Calling model_fn.\n",
      "INFO:tensorflow:Done calling model_fn.\n",
      "INFO:tensorflow:Graph was finalized.\n"
     ]
    },
    {
     "name": "stderr",
     "output_type": "stream",
     "text": [
      "2022-04-06 14:23:01.524440: I tensorflow/core/common_runtime/pluggable_device/pluggable_device_factory.cc:305] Could not identify NUMA node of platform GPU ID 0, defaulting to 0. Your kernel may not have been built with NUMA support.\n",
      "2022-04-06 14:23:01.524458: I tensorflow/core/common_runtime/pluggable_device/pluggable_device_factory.cc:271] Created TensorFlow device (/job:localhost/replica:0/task:0/device:GPU:0 with 0 MB memory) -> physical PluggableDevice (device: 0, name: METAL, pci bus id: <undefined>)\n",
      "2022-04-06 14:23:01.545157: I tensorflow/core/grappler/optimizers/custom_graph_optimizer_registry.cc:112] Plugin optimizer for device_type GPU is enabled.\n"
     ]
    },
    {
     "name": "stdout",
     "output_type": "stream",
     "text": [
      "INFO:tensorflow:Running local_init_op.\n",
      "INFO:tensorflow:Done running local_init_op.\n"
     ]
    },
    {
     "name": "stderr",
     "output_type": "stream",
     "text": [
      "2022-04-06 14:23:01.945906: I tensorflow/core/grappler/optimizers/custom_graph_optimizer_registry.cc:112] Plugin optimizer for device_type GPU is enabled.\n",
      "2022-04-06 14:23:01.965764: I tensorflow/core/grappler/optimizers/custom_graph_optimizer_registry.cc:112] Plugin optimizer for device_type GPU is enabled.\n",
      "2022-04-06 14:23:01.971245: I tensorflow/core/grappler/optimizers/custom_graph_optimizer_registry.cc:112] Plugin optimizer for device_type GPU is enabled.\n",
      "2022-04-06 14:23:01.991322: I tensorflow/core/grappler/optimizers/custom_graph_optimizer_registry.cc:112] Plugin optimizer for device_type GPU is enabled.\n",
      "2022-04-06 14:23:02.003485: I tensorflow/core/grappler/optimizers/custom_graph_optimizer_registry.cc:112] Plugin optimizer for device_type GPU is enabled.\n"
     ]
    },
    {
     "data": {
      "text/plain": [
       "(array([[-0.0000000e+00,  8.9406967e-08, -2.5586405e+00],\n",
       "        [-0.0000000e+00,  2.8312206e-07,  2.5586410e+00],\n",
       "        [-0.0000000e+00, -2.2626185e+00, -1.8785739e+00],\n",
       "        [-0.0000000e+00,  2.2626183e+00, -1.8785739e+00],\n",
       "        [-0.0000000e+00, -2.2626183e+00,  1.8785739e+00],\n",
       "        [-0.0000000e+00,  2.2626181e+00,  1.8785737e+00]], dtype=float32),\n",
       " -9.658690452575684)"
      ]
     },
     "metadata": {},
     "output_type": "display_data"
    }
   ],
   "source": [
    "from ase.collections import g2\n",
    "from pinn import get_calc\n",
    "params = {'model_dir': '/tmp/PiNet_QM92',\n",
    "          'network': {\n",
    "              'name': 'PiNet',\n",
    "              'params': {\n",
    "                  'depth': 4,\n",
    "                  'rc':4.0,\n",
    "                  'atom_types':[1,6,7,8,9]\n",
    "              },\n",
    "          },\n",
    "          'model': {\n",
    "              'name': 'potential_model',\n",
    "              'params': {\n",
    "                  'learning_rate': 1e-3\n",
    "              }\n",
    "          }\n",
    "}\n",
    "\n",
    "calc = get_calc(params)\n",
    "calc.properties = ['energy']\n",
    "atoms = g2['C2H4']\n",
    "atoms.set_calculator(calc)\n",
    "atoms.get_forces(), atoms.get_potential_energy()"
   ]
  },
  {
   "cell_type": "markdown",
   "metadata": {},
   "source": [
    "## Conclusion\n",
    "\n",
    "You have trained your first PiNN model, though the accuracy is not so satisfying\n",
    "(RMSE=21 Hartree!). Also, the training speed is slow as it's limited by the IO and \n",
    "pre-processing of data.  \n",
    "\n",
    "We will show in following notebooks that:\n",
    "\n",
    "- Proper scaling of the energy will improve the accuracy of the model.\n",
    "- The training speed can be enhanced by caching and pre-processing the data."
   ]
  }
 ],
 "metadata": {
  "interpreter": {
   "hash": "7d2dca5ff04745c24a12b1eaafe2ed2b92b4632c1d2e7bd797725dd5127e9eda"
  },
  "kernelspec": {
   "display_name": "Python 3.9.10 ('pinn')",
   "language": "python",
   "name": "python3"
  },
  "language_info": {
   "codemirror_mode": {
    "name": "ipython",
    "version": 3
   },
   "file_extension": ".py",
   "mimetype": "text/x-python",
   "name": "python",
   "nbconvert_exporter": "python",
   "pygments_lexer": "ipython3",
   "version": "3.9.10"
  },
  "orig_nbformat": 4
 },
 "nbformat": 4,
 "nbformat_minor": 2
}
