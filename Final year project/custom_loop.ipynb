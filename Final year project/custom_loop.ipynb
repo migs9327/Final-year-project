{
 "cells": [
  {
   "cell_type": "code",
   "execution_count": 1,
   "metadata": {},
   "outputs": [
    {
     "name": "stdout",
     "output_type": "stream",
     "text": [
      "Init Plugin\n",
      "Init Graph Optimizer\n",
      "Init Kernel\n"
     ]
    }
   ],
   "source": [
    "import numpy as np\n",
    "import tensorflow as tf\n",
    "from glob import glob\n",
    "from pinn import get_network\n",
    "from pinn.utils import atomic_dress, connect_dist_grad\n",
    "from ase.collections import g2\n",
    "from pinn.io import sparse_batch, load_qm9\n",
    "from docs.notebooks.network_fns import preprocess_traintest_sets, train_and_evaluate_network, _generator, predict_energy\n",
    "from pinn.optimizers import get\n",
    "import time"
   ]
  },
  {
   "cell_type": "code",
   "execution_count": 2,
   "metadata": {},
   "outputs": [],
   "source": [
    "physical_devices = tf.config.list_physical_devices()\n",
    "tf.config.set_visible_devices(physical_devices[0], 'CPU')\n",
    "tf.config.set_visible_devices([], 'GPU')"
   ]
  },
  {
   "cell_type": "code",
   "execution_count": 2,
   "metadata": {},
   "outputs": [
    {
     "name": "stdout",
     "output_type": "stream",
     "text": [
      "Metal device set to: Apple M1\n",
      "\n",
      "systemMemory: 16.00 GB\n",
      "maxCacheSize: 5.33 GB\n",
      "\n"
     ]
    },
    {
     "name": "stderr",
     "output_type": "stream",
     "text": [
      "2022-08-01 02:00:11.734205: I tensorflow/core/common_runtime/pluggable_device/pluggable_device_factory.cc:305] Could not identify NUMA node of platform GPU ID 0, defaulting to 0. Your kernel may not have been built with NUMA support.\n",
      "2022-08-01 02:00:11.734285: I tensorflow/core/common_runtime/pluggable_device/pluggable_device_factory.cc:271] Created TensorFlow device (/job:localhost/replica:0/task:0/device:GPU:0 with 0 MB memory) -> physical PluggableDevice (device: 0, name: METAL, pci bus id: <undefined>)\n"
     ]
    }
   ],
   "source": [
    "filelist = glob('/Users/miguelnavaharris/Project/QM9/*.xyz')\n",
    "dataset = load_qm9(filelist, splits={'train':8, 'test':2})"
   ]
  },
  {
   "cell_type": "code",
   "execution_count": 3,
   "metadata": {},
   "outputs": [
    {
     "name": "stdout",
     "output_type": "stream",
     "text": [
      "{'elems': <tf.Tensor: shape=(19,), dtype=int32, numpy=\n",
      "array([6, 6, 6, 7, 7, 6, 6, 8, 6, 1, 1, 1, 1, 1, 1, 1, 1, 1, 1],\n",
      "      dtype=int32)>, 'coord': <tf.Tensor: shape=(19, 3), dtype=float32, numpy=\n",
      "array([[ 0.12453828,  1.3613629 , -0.4989974 ],\n",
      "       [-0.12656163,  0.10827199,  0.35607484],\n",
      "       [-1.4915951 , -0.47954565,  0.15802407],\n",
      "       [-2.393762  , -0.42546415,  1.1326509 ],\n",
      "       [-3.503685  , -1.0339637 ,  0.6254009 ],\n",
      "       [-4.7165313 , -1.1230104 ,  1.4049323 ],\n",
      "       [-3.3004317 , -1.4496067 , -0.6441173 ],\n",
      "       [-4.3128505 , -2.070327  , -1.2940868 ],\n",
      "       [-2.0087893 , -1.1181273 , -0.99810946],\n",
      "       [ 1.1302432 ,  1.7573676 , -0.32552806],\n",
      "       [ 0.03032281,  1.1396557 , -1.5670043 ],\n",
      "       [-0.59819144,  2.146699  , -0.25753975],\n",
      "       [ 0.63609445, -0.6458262 ,  0.12352705],\n",
      "       [-0.01897491,  0.3539689 ,  1.4169384 ],\n",
      "       [-5.2713413 , -0.17838433,  1.3889738 ],\n",
      "       [-5.34652   , -1.9130049 ,  0.9938531 ],\n",
      "       [-4.453515  , -1.3603593 ,  2.437225  ],\n",
      "       [-3.9949732 , -2.3492186 , -2.1580024 ],\n",
      "       [-1.5159545 , -1.3148916 , -1.9368185 ]], dtype=float32)>, 'e_data': <tf.Tensor: shape=(), dtype=float32, numpy=-419.23734>}\n"
     ]
    },
    {
     "name": "stderr",
     "output_type": "stream",
     "text": [
      "2022-08-01 02:00:12.170589: I tensorflow/compiler/mlir/mlir_graph_optimization_pass.cc:176] None of the MLIR Optimization Passes are enabled (registered 2)\n",
      "2022-08-01 02:00:12.170750: W tensorflow/core/platform/profile_utils/cpu_utils.cc:128] Failed to get CPU frequency: 0 Hz\n"
     ]
    }
   ],
   "source": [
    "for i in dataset['train']:\n",
    "    print(i)\n",
    "    break"
   ]
  },
  {
   "cell_type": "code",
   "execution_count": 4,
   "metadata": {},
   "outputs": [],
   "source": [
    "def get_traintest_sets(batch_size):\n",
    "    train_set = dataset['train'].shuffle(1000).apply(sparse_batch(batch_size))\n",
    "    test_set = dataset['test'].apply(sparse_batch(batch_size))\n",
    "    return (train_set, test_set)"
   ]
  },
  {
   "cell_type": "code",
   "execution_count": 5,
   "metadata": {},
   "outputs": [],
   "source": [
    "params = {'optimizer': {'class_name': 'Adam', 'config': {'learning_rate': {'class_name': 'ExponentialDecay', 'config': {'initial_learning_rate': 0.0003, 'decay_steps': 10000, 'decay_rate': 0.994}}, 'clipnorm': 0.01}}, 'network': {'name': 'PiNet', 'params': {'depth': 4, 'rc': 4.0, 'atom_types': [1, 6, 7, 8, 9]}}, 'model': {'name': 'potential_model', 'params': {'learning_rate': 0.001, 'e_scale': 1, 'e_dress': {}}}}"
   ]
  },
  {
   "cell_type": "code",
   "execution_count": 6,
   "metadata": {},
   "outputs": [],
   "source": [
    "network = get_network(params['network'])"
   ]
  },
  {
   "cell_type": "code",
   "execution_count": 7,
   "metadata": {},
   "outputs": [],
   "source": [
    "def preprocess_traintest_sets(train_set, test_set):\n",
    "    for batch in train_set:\n",
    "        batch = network.preprocess(batch)\n",
    "        connect_dist_grad(batch)\n",
    "    for batch in test_set:\n",
    "        batch = network.preprocess(batch)\n",
    "        connect_dist_grad(batch)"
   ]
  },
  {
   "cell_type": "code",
   "execution_count": 8,
   "metadata": {},
   "outputs": [],
   "source": [
    "batch_size = 100\n",
    "train_set, test_set = get_traintest_sets(batch_size)"
   ]
  },
  {
   "cell_type": "code",
   "execution_count": 9,
   "metadata": {},
   "outputs": [],
   "source": [
    "for i in train_set:\n",
    "    batch = i\n",
    "    break"
   ]
  },
  {
   "cell_type": "code",
   "execution_count": 10,
   "metadata": {},
   "outputs": [],
   "source": [
    "preprocessed_batch = network.preprocess(batch)"
   ]
  },
  {
   "cell_type": "code",
   "execution_count": 11,
   "metadata": {},
   "outputs": [
    {
     "data": {
      "text/plain": [
       "{'elems': <tf.Tensor: shape=(4669,), dtype=int32, numpy=array([6, 6, 6, ..., 1, 1, 1], dtype=int32)>,\n",
       " 'coord': <tf.Tensor: shape=(4669, 3), dtype=float32, numpy=\n",
       " array([[-6.4693406e-02,  1.5870639e+00,  4.2438656e-02],\n",
       "        [ 9.1630202e-03,  4.9195502e-02,  5.1467914e-02],\n",
       "        [ 7.7468097e-01, -4.6331716e-01,  1.2851182e+00],\n",
       "        ...,\n",
       "        [ 6.6229266e-01, -1.4575788e+00, -2.1914005e+00],\n",
       "        [ 1.9549299e+00, -2.2261343e+00, -1.2430873e+00],\n",
       "        [-3.1206596e+00, -9.2455101e-01, -2.8964984e-03]], dtype=float32)>,\n",
       " 'e_data': <tf.Tensor: shape=(256,), dtype=float32, numpy=\n",
       " array([-419.20978, -401.8588 , -439.13382, -403.17117, -345.67416,\n",
       "        -458.97852, -401.94016, -400.66592, -423.02658, -457.71317,\n",
       "        -324.28998, -421.79355, -385.84146, -416.85675, -419.24103,\n",
       "        -458.96118, -423.0138 , -363.84375, -416.84885, -347.76978,\n",
       "        -303.46808, -440.24445, -440.23798, -401.9327 , -389.47876,\n",
       "        -401.82077, -348.96768, -475.05264, -402.02304, -348.9662 ,\n",
       "        -419.13052, -398.61816, -347.77216, -422.96106, -421.89227,\n",
       "        -426.6285 , -416.76483, -384.7624 , -368.44864, -404.28012,\n",
       "        -341.53616, -454.0234 , -460.11868, -439.0825 , -405.5931 ,\n",
       "        -460.1732 , -496.1288 , -476.26666, -416.84906, -385.81085,\n",
       "        -350.19662, -416.76746, -435.27634, -439.06125, -417.96216,\n",
       "        -416.70166, -434.1084 , -456.33612, -451.3678 , -439.0007 ,\n",
       "        -382.5902 , -492.33972, -448.9437 , -418.0697 , -424.19202,\n",
       "        -457.6976 , -437.88522, -398.21097, -403.19064, -458.8834 ,\n",
       "        -385.83524, -369.59467, -362.63232, -437.83905, -367.16226,\n",
       "        -348.97882, -358.86386, -473.80804, -388.3165 , -437.83704,\n",
       "        -424.1937 , -351.1824 , -387.10318, -439.08743, -436.5984 ,\n",
       "        -387.10553, -439.10986, -419.21912, -385.77267, -432.89584,\n",
       "        -387.10065, -352.335  , -568.13983, -458.95016, -437.81097,\n",
       "        -399.83838, -422.97955, -308.15744, -430.25143, -385.8675 ,\n",
       "        -387.07767, -430.2819 , -396.01077, -455.10867, -385.819  ,\n",
       "        -435.2381 , -423.0576 , -489.89108, -423.01047, -424.17764,\n",
       "        -439.0903 , -435.27255, -424.22403, -439.0756 , -421.8226 ,\n",
       "        -349.95874, -382.54544, -349.9504 , -420.86435, -399.49097,\n",
       "        -439.0844 , -421.72266, -389.51727, -458.9689 , -460.1791 ,\n",
       "        -313.10837, -455.1282 , -404.38138, -477.95935, -327.87677,\n",
       "        -363.8613 , -363.83154, -415.8577 , -440.23697, -460.1834 ,\n",
       "        -403.0846 , -461.38824, -432.86313, -424.23352, -440.29044,\n",
       "        -425.40082, -400.68375, -497.8982 , -403.14963, -368.40564,\n",
       "        -348.68332, -403.06406, -384.97427, -475.0384 , -419.2043 ,\n",
       "        -439.0047 , -423.04446, -420.4227 , -368.3719 , -450.18042,\n",
       "        -398.1301 , -424.22815, -398.1528 , -436.59796, -363.82056,\n",
       "        -513.9914 , -417.9463 , -456.3864 , -422.99176, -385.87134,\n",
       "        -319.56082, -440.2493 , -422.9404 , -363.56882, -388.31885,\n",
       "        -385.8681 , -395.9951 , -399.77188, -351.4134 , -437.83856,\n",
       "        -435.2826 , -420.40332, -437.89603, -437.85077, -496.10883,\n",
       "        -388.25885, -342.74634, -435.28223, -403.193  , -440.28302,\n",
       "        -401.91537, -472.65723, -385.8583 , -364.83295, -387.01202,\n",
       "        -414.70868, -403.20084, -384.6002 , -388.2815 , -351.16617,\n",
       "        -450.19653, -383.3923 , -426.6382 , -352.3668 , -424.1658 ,\n",
       "        -424.218  , -387.09686, -385.83566, -385.84216, -424.18726,\n",
       "        -415.41687, -383.26852, -387.0062 , -351.19833, -404.38113,\n",
       "        -403.12228, -422.98956, -380.86694, -347.82965, -496.12506,\n",
       "        -423.00436, -327.87613, -388.30676, -424.22736, -308.47443,\n",
       "        -486.0112 , -403.07657, -455.18204, -477.44193, -387.0009 ,\n",
       "        -437.88297, -422.1147 , -350.19647, -400.73483, -453.9465 ,\n",
       "        -451.3705 , -497.33154, -401.88422, -421.8247 , -390.6995 ,\n",
       "        -423.01984, -353.56915, -432.83768, -404.29947, -339.46918,\n",
       "        -440.3036 , -437.87042, -403.11465, -478.03363, -471.19858,\n",
       "        -403.20227, -379.94272, -458.95563, -416.8237 , -426.62668,\n",
       "        -387.08426, -400.6571 , -418.00323, -440.3135 , -437.8797 ,\n",
       "        -489.9147 ], dtype=float32)>,\n",
       " 'ind_1': <tf.Tensor: shape=(4669, 1), dtype=int32, numpy=\n",
       " array([[  0],\n",
       "        [  0],\n",
       "        [  0],\n",
       "        ...,\n",
       "        [255],\n",
       "        [255],\n",
       "        [255]], dtype=int32)>}"
      ]
     },
     "execution_count": 11,
     "metadata": {},
     "output_type": "execute_result"
    }
   ],
   "source": [
    "batch"
   ]
  },
  {
   "cell_type": "code",
   "execution_count": 12,
   "metadata": {},
   "outputs": [
    {
     "data": {
      "text/plain": [
       "{'elems': <tf.Tensor: shape=(4669,), dtype=int32, numpy=array([6, 6, 6, ..., 1, 1, 1], dtype=int32)>,\n",
       " 'coord': <tf.Tensor: shape=(4669, 3), dtype=float32, numpy=\n",
       " array([[-6.4693406e-02,  1.5870639e+00,  4.2438656e-02],\n",
       "        [ 9.1630202e-03,  4.9195502e-02,  5.1467914e-02],\n",
       "        [ 7.7468097e-01, -4.6331716e-01,  1.2851182e+00],\n",
       "        ...,\n",
       "        [ 6.6229266e-01, -1.4575788e+00, -2.1914005e+00],\n",
       "        [ 1.9549299e+00, -2.2261343e+00, -1.2430873e+00],\n",
       "        [-3.1206596e+00, -9.2455101e-01, -2.8964984e-03]], dtype=float32)>,\n",
       " 'e_data': <tf.Tensor: shape=(256,), dtype=float32, numpy=\n",
       " array([-419.20978, -401.8588 , -439.13382, -403.17117, -345.67416,\n",
       "        -458.97852, -401.94016, -400.66592, -423.02658, -457.71317,\n",
       "        -324.28998, -421.79355, -385.84146, -416.85675, -419.24103,\n",
       "        -458.96118, -423.0138 , -363.84375, -416.84885, -347.76978,\n",
       "        -303.46808, -440.24445, -440.23798, -401.9327 , -389.47876,\n",
       "        -401.82077, -348.96768, -475.05264, -402.02304, -348.9662 ,\n",
       "        -419.13052, -398.61816, -347.77216, -422.96106, -421.89227,\n",
       "        -426.6285 , -416.76483, -384.7624 , -368.44864, -404.28012,\n",
       "        -341.53616, -454.0234 , -460.11868, -439.0825 , -405.5931 ,\n",
       "        -460.1732 , -496.1288 , -476.26666, -416.84906, -385.81085,\n",
       "        -350.19662, -416.76746, -435.27634, -439.06125, -417.96216,\n",
       "        -416.70166, -434.1084 , -456.33612, -451.3678 , -439.0007 ,\n",
       "        -382.5902 , -492.33972, -448.9437 , -418.0697 , -424.19202,\n",
       "        -457.6976 , -437.88522, -398.21097, -403.19064, -458.8834 ,\n",
       "        -385.83524, -369.59467, -362.63232, -437.83905, -367.16226,\n",
       "        -348.97882, -358.86386, -473.80804, -388.3165 , -437.83704,\n",
       "        -424.1937 , -351.1824 , -387.10318, -439.08743, -436.5984 ,\n",
       "        -387.10553, -439.10986, -419.21912, -385.77267, -432.89584,\n",
       "        -387.10065, -352.335  , -568.13983, -458.95016, -437.81097,\n",
       "        -399.83838, -422.97955, -308.15744, -430.25143, -385.8675 ,\n",
       "        -387.07767, -430.2819 , -396.01077, -455.10867, -385.819  ,\n",
       "        -435.2381 , -423.0576 , -489.89108, -423.01047, -424.17764,\n",
       "        -439.0903 , -435.27255, -424.22403, -439.0756 , -421.8226 ,\n",
       "        -349.95874, -382.54544, -349.9504 , -420.86435, -399.49097,\n",
       "        -439.0844 , -421.72266, -389.51727, -458.9689 , -460.1791 ,\n",
       "        -313.10837, -455.1282 , -404.38138, -477.95935, -327.87677,\n",
       "        -363.8613 , -363.83154, -415.8577 , -440.23697, -460.1834 ,\n",
       "        -403.0846 , -461.38824, -432.86313, -424.23352, -440.29044,\n",
       "        -425.40082, -400.68375, -497.8982 , -403.14963, -368.40564,\n",
       "        -348.68332, -403.06406, -384.97427, -475.0384 , -419.2043 ,\n",
       "        -439.0047 , -423.04446, -420.4227 , -368.3719 , -450.18042,\n",
       "        -398.1301 , -424.22815, -398.1528 , -436.59796, -363.82056,\n",
       "        -513.9914 , -417.9463 , -456.3864 , -422.99176, -385.87134,\n",
       "        -319.56082, -440.2493 , -422.9404 , -363.56882, -388.31885,\n",
       "        -385.8681 , -395.9951 , -399.77188, -351.4134 , -437.83856,\n",
       "        -435.2826 , -420.40332, -437.89603, -437.85077, -496.10883,\n",
       "        -388.25885, -342.74634, -435.28223, -403.193  , -440.28302,\n",
       "        -401.91537, -472.65723, -385.8583 , -364.83295, -387.01202,\n",
       "        -414.70868, -403.20084, -384.6002 , -388.2815 , -351.16617,\n",
       "        -450.19653, -383.3923 , -426.6382 , -352.3668 , -424.1658 ,\n",
       "        -424.218  , -387.09686, -385.83566, -385.84216, -424.18726,\n",
       "        -415.41687, -383.26852, -387.0062 , -351.19833, -404.38113,\n",
       "        -403.12228, -422.98956, -380.86694, -347.82965, -496.12506,\n",
       "        -423.00436, -327.87613, -388.30676, -424.22736, -308.47443,\n",
       "        -486.0112 , -403.07657, -455.18204, -477.44193, -387.0009 ,\n",
       "        -437.88297, -422.1147 , -350.19647, -400.73483, -453.9465 ,\n",
       "        -451.3705 , -497.33154, -401.88422, -421.8247 , -390.6995 ,\n",
       "        -423.01984, -353.56915, -432.83768, -404.29947, -339.46918,\n",
       "        -440.3036 , -437.87042, -403.11465, -478.03363, -471.19858,\n",
       "        -403.20227, -379.94272, -458.95563, -416.8237 , -426.62668,\n",
       "        -387.08426, -400.6571 , -418.00323, -440.3135 , -437.8797 ,\n",
       "        -489.9147 ], dtype=float32)>,\n",
       " 'ind_1': <tf.Tensor: shape=(4669, 1), dtype=int32, numpy=\n",
       " array([[  0],\n",
       "        [  0],\n",
       "        [  0],\n",
       "        ...,\n",
       "        [255],\n",
       "        [255],\n",
       "        [255]], dtype=int32)>,\n",
       " 'ind_2': <tf.Tensor: shape=(58638, 2), dtype=int32, numpy=\n",
       " array([[   0,    1],\n",
       "        [   0,    3],\n",
       "        [   0,    4],\n",
       "        ...,\n",
       "        [4668, 4657],\n",
       "        [4668, 4663],\n",
       "        [4668, 4664]], dtype=int32)>,\n",
       " 'dist': <tf.Tensor: shape=(58638,), dtype=float32, numpy=\n",
       " array([1.5396675, 2.5054178, 3.64056  , ..., 3.2894151, 1.8771373,\n",
       "        1.0223249], dtype=float32)>,\n",
       " 'diff': <tf.Tensor: shape=(58638, 3), dtype=float32, numpy=\n",
       " array([[ 0.07385635, -1.5378685 ,  0.00902939],\n",
       "        [-1.2970977 , -2.1425977 , -0.06269169],\n",
       "        [-1.8922048 , -2.9487424 , -0.98901653],\n",
       "        ...,\n",
       "        [ 3.140111  ,  0.9771857 ,  0.07115078],\n",
       "        [ 1.8681378 ,  0.18353748,  0.00438499],\n",
       "        [ 0.73097086,  0.7143612 ,  0.0227623 ]], dtype=float32)>,\n",
       " 'prop': <tf.Tensor: shape=(4669, 5), dtype=float32, numpy=\n",
       " array([[0., 1., 0., 0., 0.],\n",
       "        [0., 1., 0., 0., 0.],\n",
       "        [0., 1., 0., 0., 0.],\n",
       "        ...,\n",
       "        [1., 0., 0., 0., 0.],\n",
       "        [1., 0., 0., 0., 0.],\n",
       "        [1., 0., 0., 0., 0.]], dtype=float32)>}"
      ]
     },
     "execution_count": 12,
     "metadata": {},
     "output_type": "execute_result"
    }
   ],
   "source": [
    "preprocessed_batch"
   ]
  },
  {
   "cell_type": "code",
   "execution_count": 13,
   "metadata": {},
   "outputs": [],
   "source": [
    "connect_dist_grad(preprocessed_batch)"
   ]
  },
  {
   "cell_type": "code",
   "execution_count": 14,
   "metadata": {},
   "outputs": [
    {
     "data": {
      "text/plain": [
       "{'elems': <tf.Tensor: shape=(4669,), dtype=int32, numpy=array([6, 6, 6, ..., 1, 1, 1], dtype=int32)>,\n",
       " 'coord': <tf.Tensor: shape=(4669, 3), dtype=float32, numpy=\n",
       " array([[-6.4693406e-02,  1.5870639e+00,  4.2438656e-02],\n",
       "        [ 9.1630202e-03,  4.9195502e-02,  5.1467914e-02],\n",
       "        [ 7.7468097e-01, -4.6331716e-01,  1.2851182e+00],\n",
       "        ...,\n",
       "        [ 6.6229266e-01, -1.4575788e+00, -2.1914005e+00],\n",
       "        [ 1.9549299e+00, -2.2261343e+00, -1.2430873e+00],\n",
       "        [-3.1206596e+00, -9.2455101e-01, -2.8964984e-03]], dtype=float32)>,\n",
       " 'e_data': <tf.Tensor: shape=(256,), dtype=float32, numpy=\n",
       " array([-419.20978, -401.8588 , -439.13382, -403.17117, -345.67416,\n",
       "        -458.97852, -401.94016, -400.66592, -423.02658, -457.71317,\n",
       "        -324.28998, -421.79355, -385.84146, -416.85675, -419.24103,\n",
       "        -458.96118, -423.0138 , -363.84375, -416.84885, -347.76978,\n",
       "        -303.46808, -440.24445, -440.23798, -401.9327 , -389.47876,\n",
       "        -401.82077, -348.96768, -475.05264, -402.02304, -348.9662 ,\n",
       "        -419.13052, -398.61816, -347.77216, -422.96106, -421.89227,\n",
       "        -426.6285 , -416.76483, -384.7624 , -368.44864, -404.28012,\n",
       "        -341.53616, -454.0234 , -460.11868, -439.0825 , -405.5931 ,\n",
       "        -460.1732 , -496.1288 , -476.26666, -416.84906, -385.81085,\n",
       "        -350.19662, -416.76746, -435.27634, -439.06125, -417.96216,\n",
       "        -416.70166, -434.1084 , -456.33612, -451.3678 , -439.0007 ,\n",
       "        -382.5902 , -492.33972, -448.9437 , -418.0697 , -424.19202,\n",
       "        -457.6976 , -437.88522, -398.21097, -403.19064, -458.8834 ,\n",
       "        -385.83524, -369.59467, -362.63232, -437.83905, -367.16226,\n",
       "        -348.97882, -358.86386, -473.80804, -388.3165 , -437.83704,\n",
       "        -424.1937 , -351.1824 , -387.10318, -439.08743, -436.5984 ,\n",
       "        -387.10553, -439.10986, -419.21912, -385.77267, -432.89584,\n",
       "        -387.10065, -352.335  , -568.13983, -458.95016, -437.81097,\n",
       "        -399.83838, -422.97955, -308.15744, -430.25143, -385.8675 ,\n",
       "        -387.07767, -430.2819 , -396.01077, -455.10867, -385.819  ,\n",
       "        -435.2381 , -423.0576 , -489.89108, -423.01047, -424.17764,\n",
       "        -439.0903 , -435.27255, -424.22403, -439.0756 , -421.8226 ,\n",
       "        -349.95874, -382.54544, -349.9504 , -420.86435, -399.49097,\n",
       "        -439.0844 , -421.72266, -389.51727, -458.9689 , -460.1791 ,\n",
       "        -313.10837, -455.1282 , -404.38138, -477.95935, -327.87677,\n",
       "        -363.8613 , -363.83154, -415.8577 , -440.23697, -460.1834 ,\n",
       "        -403.0846 , -461.38824, -432.86313, -424.23352, -440.29044,\n",
       "        -425.40082, -400.68375, -497.8982 , -403.14963, -368.40564,\n",
       "        -348.68332, -403.06406, -384.97427, -475.0384 , -419.2043 ,\n",
       "        -439.0047 , -423.04446, -420.4227 , -368.3719 , -450.18042,\n",
       "        -398.1301 , -424.22815, -398.1528 , -436.59796, -363.82056,\n",
       "        -513.9914 , -417.9463 , -456.3864 , -422.99176, -385.87134,\n",
       "        -319.56082, -440.2493 , -422.9404 , -363.56882, -388.31885,\n",
       "        -385.8681 , -395.9951 , -399.77188, -351.4134 , -437.83856,\n",
       "        -435.2826 , -420.40332, -437.89603, -437.85077, -496.10883,\n",
       "        -388.25885, -342.74634, -435.28223, -403.193  , -440.28302,\n",
       "        -401.91537, -472.65723, -385.8583 , -364.83295, -387.01202,\n",
       "        -414.70868, -403.20084, -384.6002 , -388.2815 , -351.16617,\n",
       "        -450.19653, -383.3923 , -426.6382 , -352.3668 , -424.1658 ,\n",
       "        -424.218  , -387.09686, -385.83566, -385.84216, -424.18726,\n",
       "        -415.41687, -383.26852, -387.0062 , -351.19833, -404.38113,\n",
       "        -403.12228, -422.98956, -380.86694, -347.82965, -496.12506,\n",
       "        -423.00436, -327.87613, -388.30676, -424.22736, -308.47443,\n",
       "        -486.0112 , -403.07657, -455.18204, -477.44193, -387.0009 ,\n",
       "        -437.88297, -422.1147 , -350.19647, -400.73483, -453.9465 ,\n",
       "        -451.3705 , -497.33154, -401.88422, -421.8247 , -390.6995 ,\n",
       "        -423.01984, -353.56915, -432.83768, -404.29947, -339.46918,\n",
       "        -440.3036 , -437.87042, -403.11465, -478.03363, -471.19858,\n",
       "        -403.20227, -379.94272, -458.95563, -416.8237 , -426.62668,\n",
       "        -387.08426, -400.6571 , -418.00323, -440.3135 , -437.8797 ,\n",
       "        -489.9147 ], dtype=float32)>,\n",
       " 'ind_1': <tf.Tensor: shape=(4669, 1), dtype=int32, numpy=\n",
       " array([[  0],\n",
       "        [  0],\n",
       "        [  0],\n",
       "        ...,\n",
       "        [255],\n",
       "        [255],\n",
       "        [255]], dtype=int32)>,\n",
       " 'ind_2': <tf.Tensor: shape=(58638, 2), dtype=int32, numpy=\n",
       " array([[   0,    1],\n",
       "        [   0,    3],\n",
       "        [   0,    4],\n",
       "        ...,\n",
       "        [4668, 4657],\n",
       "        [4668, 4663],\n",
       "        [4668, 4664]], dtype=int32)>,\n",
       " 'dist': <tf.Tensor: shape=(58638,), dtype=float32, numpy=\n",
       " array([1.5396675, 2.5054178, 3.64056  , ..., 3.2894151, 1.8771373,\n",
       "        1.0223249], dtype=float32)>,\n",
       " 'diff': <tf.Tensor: shape=(58638, 3), dtype=float32, numpy=\n",
       " array([[ 0.07385635, -1.5378685 ,  0.00902939],\n",
       "        [-1.2970977 , -2.1425977 , -0.06269169],\n",
       "        [-1.8922048 , -2.9487424 , -0.98901653],\n",
       "        ...,\n",
       "        [ 3.140111  ,  0.9771857 ,  0.07115078],\n",
       "        [ 1.8681378 ,  0.18353748,  0.00438499],\n",
       "        [ 0.73097086,  0.7143612 ,  0.0227623 ]], dtype=float32)>,\n",
       " 'prop': <tf.Tensor: shape=(4669, 5), dtype=float32, numpy=\n",
       " array([[0., 1., 0., 0., 0.],\n",
       "        [0., 1., 0., 0., 0.],\n",
       "        [0., 1., 0., 0., 0.],\n",
       "        ...,\n",
       "        [1., 0., 0., 0., 0.],\n",
       "        [1., 0., 0., 0., 0.],\n",
       "        [1., 0., 0., 0., 0.]], dtype=float32)>}"
      ]
     },
     "execution_count": 14,
     "metadata": {},
     "output_type": "execute_result"
    }
   ],
   "source": [
    "preprocessed_batch"
   ]
  },
  {
   "cell_type": "code",
   "execution_count": 15,
   "metadata": {},
   "outputs": [],
   "source": [
    "preprocess_traintest_sets(train_set, test_set)"
   ]
  },
  {
   "cell_type": "code",
   "execution_count": 16,
   "metadata": {},
   "outputs": [],
   "source": [
    "def train_and_evaluate_network(network=network, params=params, train_set=train_set, test_set=test_set, batch_size=256, epochs=1):\n",
    "\n",
    "\n",
    "    # Instantiate an optimizer\n",
    "    optimizer = get(params['optimizer'])\n",
    "    # Define a loss function\n",
    "    loss_fn = tf.keras.losses.mse\n",
    "    # Define metrics\n",
    "    train_loss_metric = tf.keras.metrics.MeanSquaredError()\n",
    "    val_loss_metric = tf.keras.metrics.MeanSquaredError()\n",
    "    train_err_metric = tf.keras.metrics.RootMeanSquaredError()\n",
    "    val_err_metric = tf.keras.metrics.RootMeanSquaredError()\n",
    "    \n",
    "\n",
    "    for epoch in range(epochs):\n",
    "        print(\"\\nStart of epoch %d\" % (epoch,))\n",
    "        start_time_epoch = time.time()\n",
    "        hund_step_times = []\n",
    "        val_errors = []\n",
    "\n",
    "\n",
    "        # Iterate over the batches of the dataset.\n",
    "        for step, batch in enumerate(train_set):\n",
    "\n",
    "            # Open a GradientTape to record the operations run\n",
    "            # during the forward pass, which enables auto-differentiation.\n",
    "            with tf.GradientTape() as tape:\n",
    "\n",
    "                # Run the forward pass of the layer.\n",
    "                # The operations that the layer applies\n",
    "                # to its inputs are going to be recorded\n",
    "                # on the GradientTape.\n",
    "                # start_time = time.time()\n",
    "\n",
    "                pred = network(batch, training=True)  # Logits for this minibatch\n",
    "\n",
    "                ind = batch['ind_1']\n",
    "                nbatch = tf.reduce_max(ind)+1\n",
    "                pred = tf.math.unsorted_segment_sum(pred, ind[:, 0], nbatch)\n",
    "                e_data = batch['e_data']\n",
    "\n",
    "\n",
    "                # Compute the loss value for this minibatch.\n",
    "                loss_value = loss_fn(e_data, pred)\n",
    "\n",
    "            # Use the gradient tape to automatically retrieve\n",
    "            # the gradients of the trainable variables with respect to the loss.\n",
    "            grads = tape.gradient(loss_value, network.trainable_weights)\n",
    "\n",
    "            # Run one step of gradient descent by updating\n",
    "            # the value of the variables to minimize the loss.\n",
    "            optimizer.apply_gradients(zip(grads, network.trainable_weights))\n",
    "\n",
    "            # Update the loss and error metrics\n",
    "            train_loss_metric.update_state(e_data, pred)\n",
    "            train_err_metric.update_state(e_data, pred)\n",
    "\n",
    "            # end_time = time.time() - start_time\n",
    "            # print('End time:', end_time)\n",
    "\n",
    "            # Log every 100 batches.\n",
    "            if step == 0:\n",
    "                print(f\"Initial loss (for one batch): {float(loss_value)}\")\n",
    "                print(f\"Seen so far: {((step + 1) * batch_size)} molecules\")\n",
    "\n",
    "\n",
    "\n",
    "            elif step % 100 == 0:\n",
    "                print(f\"Training loss (for one batch) at step {step}: {float(loss_value)}\")\n",
    "                print(f\"Seen so far: {((step + 1) * batch_size)} molecules\")\n",
    "                hund_step_times += [(time.time() - start_time_epoch)]\n",
    "                print(f'Training time for 100 batches: {((hund_step_times[-1] - hund_step_times[-2]) if len(hund_step_times) > 1 else hund_step_times[-1])} s')\n",
    "\n",
    "\n",
    "\n",
    "        print(f'Training time for epoch {epoch + 1}: {(time.time() - start_time_epoch)} s')\n",
    "        \n",
    "\n",
    "        # Run a validation loop at the end of each epoch\n",
    "        print(f'Starting validation for epoch {(epoch + 1)}')\n",
    "\n",
    "        for step, batch in enumerate(test_set):\n",
    "            \n",
    "            val_pred = network(batch, training=False)\n",
    "            ind = batch['ind_1']\n",
    "            nbatch = tf.reduce_max(ind)+1\n",
    "            val_pred = tf.math.unsorted_segment_sum(val_pred, ind[:, 0], nbatch)\n",
    "            e_data = batch['e_data']\n",
    "\n",
    "\n",
    "            # Update val metrics\n",
    "            val_loss_metric.update_state(e_data, val_pred)\n",
    "            val_err_metric.update_state(e_data, val_pred)\n",
    "\n",
    "\n",
    "\n",
    "        print(f\"Time taken for epoch {epoch + 1}: {(time.time() - start_time_epoch)} s\")\n",
    "\n",
    "        # Display metrics at the end of each epoch\n",
    "        train_err = train_err_metric.result()\n",
    "        print(f\"Training err over epoch {(epoch + 1)}: {float(train_err)}\")\n",
    "        val_err = val_err_metric.result()\n",
    "        val_errors.append(float(val_err))\n",
    "        print(f\"Validation err for epoch {(epoch + 1)}: {float(val_err)}\")\n",
    "        \n",
    "        # Reset training metrics at the end of each epoch \n",
    "        train_loss_metric.reset_states()\n",
    "        val_loss_metric.reset_states()       \n",
    "        train_err_metric.reset_states()\n",
    "        val_err_metric.reset_states()\n",
    "\n",
    "        print(val_errors)\n",
    "        if epoch > 3 and val_errors[-4] <= min(val_errors[-3:]):\n",
    "                    return 'Stopped.'\n",
    "\n",
    "        "
   ]
  },
  {
   "cell_type": "code",
   "execution_count": 17,
   "metadata": {},
   "outputs": [
    {
     "name": "stdout",
     "output_type": "stream",
     "text": [
      "\n",
      "Start of epoch 0\n",
      "Initial loss (for one batch): 144213.8125\n",
      "Seen so far: 256 molecules\n",
      "Training loss (for one batch) at step 100: 1389.159423828125\n",
      "Seen so far: 25856 molecules\n",
      "Training time for 100 batches: 60.52131676673889 s\n",
      "Training loss (for one batch) at step 200: 882.26611328125\n",
      "Seen so far: 51456 molecules\n",
      "Training time for 100 batches: 71.90927934646606 s\n",
      "Training loss (for one batch) at step 300: 568.4716186523438\n",
      "Seen so far: 77056 molecules\n",
      "Training time for 100 batches: 80.45273280143738 s\n"
     ]
    },
    {
     "ename": "KeyboardInterrupt",
     "evalue": "",
     "output_type": "error",
     "traceback": [
      "\u001b[0;31m---------------------------------------------------------------------------\u001b[0m",
      "\u001b[0;31mAttributeError\u001b[0m                            Traceback (most recent call last)",
      "File \u001b[0;32m~/miniforge3/envs/pinn/lib/python3.9/site-packages/tensorflow/python/ops/array_ops.py:5030\u001b[0m, in \u001b[0;36mgather\u001b[0;34m(***failed resolving arguments***)\u001b[0m\n\u001b[1;32m   <a href='file:///Users/miguelnavaharris/miniforge3/envs/pinn/lib/python3.9/site-packages/tensorflow/python/ops/array_ops.py?line=5026'>5027</a>\u001b[0m \u001b[39mtry\u001b[39;00m:\n\u001b[1;32m   <a href='file:///Users/miguelnavaharris/miniforge3/envs/pinn/lib/python3.9/site-packages/tensorflow/python/ops/array_ops.py?line=5027'>5028</a>\u001b[0m   \u001b[39m# TODO(apassos) find a less bad way of detecting resource variables\u001b[39;00m\n\u001b[1;32m   <a href='file:///Users/miguelnavaharris/miniforge3/envs/pinn/lib/python3.9/site-packages/tensorflow/python/ops/array_ops.py?line=5028'>5029</a>\u001b[0m   \u001b[39m# without introducing a circular dependency.\u001b[39;00m\n\u001b[0;32m-> <a href='file:///Users/miguelnavaharris/miniforge3/envs/pinn/lib/python3.9/site-packages/tensorflow/python/ops/array_ops.py?line=5029'>5030</a>\u001b[0m   \u001b[39mreturn\u001b[39;00m params\u001b[39m.\u001b[39;49msparse_read(indices, name\u001b[39m=\u001b[39mname)\n\u001b[1;32m   <a href='file:///Users/miguelnavaharris/miniforge3/envs/pinn/lib/python3.9/site-packages/tensorflow/python/ops/array_ops.py?line=5030'>5031</a>\u001b[0m \u001b[39mexcept\u001b[39;00m \u001b[39mAttributeError\u001b[39;00m:\n",
      "File \u001b[0;32m~/miniforge3/envs/pinn/lib/python3.9/site-packages/tensorflow/python/framework/ops.py:401\u001b[0m, in \u001b[0;36mTensor.__getattr__\u001b[0;34m(self, name)\u001b[0m\n\u001b[1;32m    <a href='file:///Users/miguelnavaharris/miniforge3/envs/pinn/lib/python3.9/site-packages/tensorflow/python/framework/ops.py?line=395'>396</a>\u001b[0m   \u001b[39mraise\u001b[39;00m \u001b[39mAttributeError\u001b[39;00m(\u001b[39m\"\"\"\u001b[39m\n\u001b[1;32m    <a href='file:///Users/miguelnavaharris/miniforge3/envs/pinn/lib/python3.9/site-packages/tensorflow/python/framework/ops.py?line=396'>397</a>\u001b[0m \u001b[39m    \u001b[39m\u001b[39m'\u001b[39m\u001b[39m{}\u001b[39;00m\u001b[39m'\u001b[39m\u001b[39m object has no attribute \u001b[39m\u001b[39m'\u001b[39m\u001b[39m{}\u001b[39;00m\u001b[39m'\u001b[39m\u001b[39m.\u001b[39m\n\u001b[1;32m    <a href='file:///Users/miguelnavaharris/miniforge3/envs/pinn/lib/python3.9/site-packages/tensorflow/python/framework/ops.py?line=397'>398</a>\u001b[0m \u001b[39m    If you are looking for numpy-related methods, please run the following:\u001b[39m\n\u001b[1;32m    <a href='file:///Users/miguelnavaharris/miniforge3/envs/pinn/lib/python3.9/site-packages/tensorflow/python/framework/ops.py?line=398'>399</a>\u001b[0m \u001b[39m    import tensorflow.python.ops.numpy_ops.np_config\u001b[39m\n\u001b[1;32m    <a href='file:///Users/miguelnavaharris/miniforge3/envs/pinn/lib/python3.9/site-packages/tensorflow/python/framework/ops.py?line=399'>400</a>\u001b[0m \u001b[39m    np_config.enable_numpy_behavior()\u001b[39m\u001b[39m\"\"\"\u001b[39m\u001b[39m.\u001b[39mformat(\u001b[39mtype\u001b[39m(\u001b[39mself\u001b[39m)\u001b[39m.\u001b[39m\u001b[39m__name__\u001b[39m, name))\n\u001b[0;32m--> <a href='file:///Users/miguelnavaharris/miniforge3/envs/pinn/lib/python3.9/site-packages/tensorflow/python/framework/ops.py?line=400'>401</a>\u001b[0m \u001b[39mself\u001b[39;49m\u001b[39m.\u001b[39;49m\u001b[39m__getattribute__\u001b[39;49m(name)\n",
      "\u001b[0;31mAttributeError\u001b[0m: 'tensorflow.python.framework.ops.EagerTensor' object has no attribute 'sparse_read'",
      "\nDuring handling of the above exception, another exception occurred:\n",
      "\u001b[0;31mKeyboardInterrupt\u001b[0m                         Traceback (most recent call last)",
      "\u001b[1;32m/Users/miguelnavaharris/PiNN/docs/notebooks/custom_loop.ipynb Cell 18'\u001b[0m in \u001b[0;36m<cell line: 1>\u001b[0;34m()\u001b[0m\n\u001b[0;32m----> <a href='vscode-notebook-cell:/Users/miguelnavaharris/PiNN/docs/notebooks/custom_loop.ipynb#ch0000017?line=0'>1</a>\u001b[0m train_and_evaluate_network(batch_size\u001b[39m=\u001b[39;49mbatch_size, epochs\u001b[39m=\u001b[39;49m\u001b[39m1\u001b[39;49m)\n",
      "\u001b[1;32m/Users/miguelnavaharris/PiNN/docs/notebooks/custom_loop.ipynb Cell 17'\u001b[0m in \u001b[0;36mtrain_and_evaluate_network\u001b[0;34m(network, params, train_set, test_set, batch_size, epochs)\u001b[0m\n\u001b[1;32m     <a href='vscode-notebook-cell:/Users/miguelnavaharris/PiNN/docs/notebooks/custom_loop.ipynb#ch0000016?line=43'>44</a>\u001b[0m     loss_value \u001b[39m=\u001b[39m loss_fn(e_data, pred)\n\u001b[1;32m     <a href='vscode-notebook-cell:/Users/miguelnavaharris/PiNN/docs/notebooks/custom_loop.ipynb#ch0000016?line=45'>46</a>\u001b[0m \u001b[39m# Use the gradient tape to automatically retrieve\u001b[39;00m\n\u001b[1;32m     <a href='vscode-notebook-cell:/Users/miguelnavaharris/PiNN/docs/notebooks/custom_loop.ipynb#ch0000016?line=46'>47</a>\u001b[0m \u001b[39m# the gradients of the trainable variables with respect to the loss.\u001b[39;00m\n\u001b[0;32m---> <a href='vscode-notebook-cell:/Users/miguelnavaharris/PiNN/docs/notebooks/custom_loop.ipynb#ch0000016?line=47'>48</a>\u001b[0m grads \u001b[39m=\u001b[39m tape\u001b[39m.\u001b[39;49mgradient(loss_value, network\u001b[39m.\u001b[39;49mtrainable_weights)\n\u001b[1;32m     <a href='vscode-notebook-cell:/Users/miguelnavaharris/PiNN/docs/notebooks/custom_loop.ipynb#ch0000016?line=49'>50</a>\u001b[0m \u001b[39m# Run one step of gradient descent by updating\u001b[39;00m\n\u001b[1;32m     <a href='vscode-notebook-cell:/Users/miguelnavaharris/PiNN/docs/notebooks/custom_loop.ipynb#ch0000016?line=50'>51</a>\u001b[0m \u001b[39m# the value of the variables to minimize the loss.\u001b[39;00m\n\u001b[1;32m     <a href='vscode-notebook-cell:/Users/miguelnavaharris/PiNN/docs/notebooks/custom_loop.ipynb#ch0000016?line=51'>52</a>\u001b[0m optimizer\u001b[39m.\u001b[39mapply_gradients(\u001b[39mzip\u001b[39m(grads, network\u001b[39m.\u001b[39mtrainable_weights))\n",
      "File \u001b[0;32m~/miniforge3/envs/pinn/lib/python3.9/site-packages/tensorflow/python/eager/backprop.py:1074\u001b[0m, in \u001b[0;36mGradientTape.gradient\u001b[0;34m(self, target, sources, output_gradients, unconnected_gradients)\u001b[0m\n\u001b[1;32m   <a href='file:///Users/miguelnavaharris/miniforge3/envs/pinn/lib/python3.9/site-packages/tensorflow/python/eager/backprop.py?line=1069'>1070</a>\u001b[0m \u001b[39mif\u001b[39;00m output_gradients \u001b[39mis\u001b[39;00m \u001b[39mnot\u001b[39;00m \u001b[39mNone\u001b[39;00m:\n\u001b[1;32m   <a href='file:///Users/miguelnavaharris/miniforge3/envs/pinn/lib/python3.9/site-packages/tensorflow/python/eager/backprop.py?line=1070'>1071</a>\u001b[0m   output_gradients \u001b[39m=\u001b[39m [\u001b[39mNone\u001b[39;00m \u001b[39mif\u001b[39;00m x \u001b[39mis\u001b[39;00m \u001b[39mNone\u001b[39;00m \u001b[39melse\u001b[39;00m ops\u001b[39m.\u001b[39mconvert_to_tensor(x)\n\u001b[1;32m   <a href='file:///Users/miguelnavaharris/miniforge3/envs/pinn/lib/python3.9/site-packages/tensorflow/python/eager/backprop.py?line=1071'>1072</a>\u001b[0m                       \u001b[39mfor\u001b[39;00m x \u001b[39min\u001b[39;00m nest\u001b[39m.\u001b[39mflatten(output_gradients)]\n\u001b[0;32m-> <a href='file:///Users/miguelnavaharris/miniforge3/envs/pinn/lib/python3.9/site-packages/tensorflow/python/eager/backprop.py?line=1073'>1074</a>\u001b[0m flat_grad \u001b[39m=\u001b[39m imperative_grad\u001b[39m.\u001b[39;49mimperative_grad(\n\u001b[1;32m   <a href='file:///Users/miguelnavaharris/miniforge3/envs/pinn/lib/python3.9/site-packages/tensorflow/python/eager/backprop.py?line=1074'>1075</a>\u001b[0m     \u001b[39mself\u001b[39;49m\u001b[39m.\u001b[39;49m_tape,\n\u001b[1;32m   <a href='file:///Users/miguelnavaharris/miniforge3/envs/pinn/lib/python3.9/site-packages/tensorflow/python/eager/backprop.py?line=1075'>1076</a>\u001b[0m     flat_targets,\n\u001b[1;32m   <a href='file:///Users/miguelnavaharris/miniforge3/envs/pinn/lib/python3.9/site-packages/tensorflow/python/eager/backprop.py?line=1076'>1077</a>\u001b[0m     flat_sources,\n\u001b[1;32m   <a href='file:///Users/miguelnavaharris/miniforge3/envs/pinn/lib/python3.9/site-packages/tensorflow/python/eager/backprop.py?line=1077'>1078</a>\u001b[0m     output_gradients\u001b[39m=\u001b[39;49moutput_gradients,\n\u001b[1;32m   <a href='file:///Users/miguelnavaharris/miniforge3/envs/pinn/lib/python3.9/site-packages/tensorflow/python/eager/backprop.py?line=1078'>1079</a>\u001b[0m     sources_raw\u001b[39m=\u001b[39;49mflat_sources_raw,\n\u001b[1;32m   <a href='file:///Users/miguelnavaharris/miniforge3/envs/pinn/lib/python3.9/site-packages/tensorflow/python/eager/backprop.py?line=1079'>1080</a>\u001b[0m     unconnected_gradients\u001b[39m=\u001b[39;49munconnected_gradients)\n\u001b[1;32m   <a href='file:///Users/miguelnavaharris/miniforge3/envs/pinn/lib/python3.9/site-packages/tensorflow/python/eager/backprop.py?line=1081'>1082</a>\u001b[0m \u001b[39mif\u001b[39;00m \u001b[39mnot\u001b[39;00m \u001b[39mself\u001b[39m\u001b[39m.\u001b[39m_persistent:\n\u001b[1;32m   <a href='file:///Users/miguelnavaharris/miniforge3/envs/pinn/lib/python3.9/site-packages/tensorflow/python/eager/backprop.py?line=1082'>1083</a>\u001b[0m   \u001b[39m# Keep track of watched variables before setting tape to None\u001b[39;00m\n\u001b[1;32m   <a href='file:///Users/miguelnavaharris/miniforge3/envs/pinn/lib/python3.9/site-packages/tensorflow/python/eager/backprop.py?line=1083'>1084</a>\u001b[0m   \u001b[39mself\u001b[39m\u001b[39m.\u001b[39m_watched_variables \u001b[39m=\u001b[39m \u001b[39mself\u001b[39m\u001b[39m.\u001b[39m_tape\u001b[39m.\u001b[39mwatched_variables()\n",
      "File \u001b[0;32m~/miniforge3/envs/pinn/lib/python3.9/site-packages/tensorflow/python/eager/imperative_grad.py:71\u001b[0m, in \u001b[0;36mimperative_grad\u001b[0;34m(tape, target, sources, output_gradients, sources_raw, unconnected_gradients)\u001b[0m\n\u001b[1;32m     <a href='file:///Users/miguelnavaharris/miniforge3/envs/pinn/lib/python3.9/site-packages/tensorflow/python/eager/imperative_grad.py?line=66'>67</a>\u001b[0m \u001b[39mexcept\u001b[39;00m \u001b[39mValueError\u001b[39;00m:\n\u001b[1;32m     <a href='file:///Users/miguelnavaharris/miniforge3/envs/pinn/lib/python3.9/site-packages/tensorflow/python/eager/imperative_grad.py?line=67'>68</a>\u001b[0m   \u001b[39mraise\u001b[39;00m \u001b[39mValueError\u001b[39;00m(\n\u001b[1;32m     <a href='file:///Users/miguelnavaharris/miniforge3/envs/pinn/lib/python3.9/site-packages/tensorflow/python/eager/imperative_grad.py?line=68'>69</a>\u001b[0m       \u001b[39m\"\u001b[39m\u001b[39mUnknown value for unconnected_gradients: \u001b[39m\u001b[39m%r\u001b[39;00m\u001b[39m\"\u001b[39m \u001b[39m%\u001b[39m unconnected_gradients)\n\u001b[0;32m---> <a href='file:///Users/miguelnavaharris/miniforge3/envs/pinn/lib/python3.9/site-packages/tensorflow/python/eager/imperative_grad.py?line=70'>71</a>\u001b[0m \u001b[39mreturn\u001b[39;00m pywrap_tfe\u001b[39m.\u001b[39;49mTFE_Py_TapeGradient(\n\u001b[1;32m     <a href='file:///Users/miguelnavaharris/miniforge3/envs/pinn/lib/python3.9/site-packages/tensorflow/python/eager/imperative_grad.py?line=71'>72</a>\u001b[0m     tape\u001b[39m.\u001b[39;49m_tape,  \u001b[39m# pylint: disable=protected-access\u001b[39;49;00m\n\u001b[1;32m     <a href='file:///Users/miguelnavaharris/miniforge3/envs/pinn/lib/python3.9/site-packages/tensorflow/python/eager/imperative_grad.py?line=72'>73</a>\u001b[0m     target,\n\u001b[1;32m     <a href='file:///Users/miguelnavaharris/miniforge3/envs/pinn/lib/python3.9/site-packages/tensorflow/python/eager/imperative_grad.py?line=73'>74</a>\u001b[0m     sources,\n\u001b[1;32m     <a href='file:///Users/miguelnavaharris/miniforge3/envs/pinn/lib/python3.9/site-packages/tensorflow/python/eager/imperative_grad.py?line=74'>75</a>\u001b[0m     output_gradients,\n\u001b[1;32m     <a href='file:///Users/miguelnavaharris/miniforge3/envs/pinn/lib/python3.9/site-packages/tensorflow/python/eager/imperative_grad.py?line=75'>76</a>\u001b[0m     sources_raw,\n\u001b[1;32m     <a href='file:///Users/miguelnavaharris/miniforge3/envs/pinn/lib/python3.9/site-packages/tensorflow/python/eager/imperative_grad.py?line=76'>77</a>\u001b[0m     compat\u001b[39m.\u001b[39;49mas_str(unconnected_gradients\u001b[39m.\u001b[39;49mvalue))\n",
      "File \u001b[0;32m~/miniforge3/envs/pinn/lib/python3.9/site-packages/tensorflow/python/eager/backprop.py:159\u001b[0m, in \u001b[0;36m_gradient_function\u001b[0;34m(op_name, attr_tuple, num_inputs, inputs, outputs, out_grads, skip_input_indices, forward_pass_name_scope)\u001b[0m\n\u001b[1;32m    <a href='file:///Users/miguelnavaharris/miniforge3/envs/pinn/lib/python3.9/site-packages/tensorflow/python/eager/backprop.py?line=156'>157</a>\u001b[0m     gradient_name_scope \u001b[39m+\u001b[39m\u001b[39m=\u001b[39m forward_pass_name_scope \u001b[39m+\u001b[39m \u001b[39m\"\u001b[39m\u001b[39m/\u001b[39m\u001b[39m\"\u001b[39m\n\u001b[1;32m    <a href='file:///Users/miguelnavaharris/miniforge3/envs/pinn/lib/python3.9/site-packages/tensorflow/python/eager/backprop.py?line=157'>158</a>\u001b[0m   \u001b[39mwith\u001b[39;00m ops\u001b[39m.\u001b[39mname_scope(gradient_name_scope):\n\u001b[0;32m--> <a href='file:///Users/miguelnavaharris/miniforge3/envs/pinn/lib/python3.9/site-packages/tensorflow/python/eager/backprop.py?line=158'>159</a>\u001b[0m     \u001b[39mreturn\u001b[39;00m grad_fn(mock_op, \u001b[39m*\u001b[39;49mout_grads)\n\u001b[1;32m    <a href='file:///Users/miguelnavaharris/miniforge3/envs/pinn/lib/python3.9/site-packages/tensorflow/python/eager/backprop.py?line=159'>160</a>\u001b[0m \u001b[39melse\u001b[39;00m:\n\u001b[1;32m    <a href='file:///Users/miguelnavaharris/miniforge3/envs/pinn/lib/python3.9/site-packages/tensorflow/python/eager/backprop.py?line=160'>161</a>\u001b[0m   \u001b[39mreturn\u001b[39;00m grad_fn(mock_op, \u001b[39m*\u001b[39mout_grads)\n",
      "File \u001b[0;32m~/miniforge3/envs/pinn/lib/python3.9/site-packages/tensorflow/python/ops/math_grad.py:514\u001b[0m, in \u001b[0;36m_UnsortedSegmentSumGrad\u001b[0;34m(op, grad)\u001b[0m\n\u001b[1;32m    <a href='file:///Users/miguelnavaharris/miniforge3/envs/pinn/lib/python3.9/site-packages/tensorflow/python/ops/math_grad.py?line=510'>511</a>\u001b[0m \u001b[39m@ops\u001b[39m\u001b[39m.\u001b[39mRegisterGradient(\u001b[39m\"\u001b[39m\u001b[39mUnsortedSegmentSum\u001b[39m\u001b[39m\"\u001b[39m)\n\u001b[1;32m    <a href='file:///Users/miguelnavaharris/miniforge3/envs/pinn/lib/python3.9/site-packages/tensorflow/python/ops/math_grad.py?line=511'>512</a>\u001b[0m \u001b[39mdef\u001b[39;00m \u001b[39m_UnsortedSegmentSumGrad\u001b[39m(op, grad):\n\u001b[1;32m    <a href='file:///Users/miguelnavaharris/miniforge3/envs/pinn/lib/python3.9/site-packages/tensorflow/python/ops/math_grad.py?line=512'>513</a>\u001b[0m   \u001b[39m\"\"\"Gradient for UnsortedSegmentSum.\"\"\"\u001b[39;00m\n\u001b[0;32m--> <a href='file:///Users/miguelnavaharris/miniforge3/envs/pinn/lib/python3.9/site-packages/tensorflow/python/ops/math_grad.py?line=513'>514</a>\u001b[0m   \u001b[39mreturn\u001b[39;00m _GatherDropNegatives(grad, op\u001b[39m.\u001b[39;49minputs[\u001b[39m1\u001b[39;49m])[\u001b[39m0\u001b[39m], \u001b[39mNone\u001b[39;00m, \u001b[39mNone\u001b[39;00m\n",
      "File \u001b[0;32m~/miniforge3/envs/pinn/lib/python3.9/site-packages/tensorflow/python/ops/math_grad.py:472\u001b[0m, in \u001b[0;36m_GatherDropNegatives\u001b[0;34m(params, ids, zero_clipped_indices, is_positive)\u001b[0m\n\u001b[1;32m    <a href='file:///Users/miguelnavaharris/miniforge3/envs/pinn/lib/python3.9/site-packages/tensorflow/python/ops/math_grad.py?line=469'>470</a>\u001b[0m \u001b[39mif\u001b[39;00m zero_clipped_indices \u001b[39mis\u001b[39;00m \u001b[39mNone\u001b[39;00m:\n\u001b[1;32m    <a href='file:///Users/miguelnavaharris/miniforge3/envs/pinn/lib/python3.9/site-packages/tensorflow/python/ops/math_grad.py?line=470'>471</a>\u001b[0m   zero_clipped_indices \u001b[39m=\u001b[39m math_ops\u001b[39m.\u001b[39mmaximum(ids, array_ops\u001b[39m.\u001b[39mzeros_like(ids))\n\u001b[0;32m--> <a href='file:///Users/miguelnavaharris/miniforge3/envs/pinn/lib/python3.9/site-packages/tensorflow/python/ops/math_grad.py?line=471'>472</a>\u001b[0m gathered \u001b[39m=\u001b[39m array_ops\u001b[39m.\u001b[39;49mgather(params, zero_clipped_indices)\n\u001b[1;32m    <a href='file:///Users/miguelnavaharris/miniforge3/envs/pinn/lib/python3.9/site-packages/tensorflow/python/ops/math_grad.py?line=472'>473</a>\u001b[0m \u001b[39mif\u001b[39;00m is_positive \u001b[39mis\u001b[39;00m \u001b[39mNone\u001b[39;00m:\n\u001b[1;32m    <a href='file:///Users/miguelnavaharris/miniforge3/envs/pinn/lib/python3.9/site-packages/tensorflow/python/ops/math_grad.py?line=473'>474</a>\u001b[0m   is_positive \u001b[39m=\u001b[39m math_ops\u001b[39m.\u001b[39mgreater_equal(ids, \u001b[39m0\u001b[39m)\n",
      "File \u001b[0;32m~/miniforge3/envs/pinn/lib/python3.9/site-packages/tensorflow/python/util/deprecation.py:535\u001b[0m, in \u001b[0;36mdeprecated_args.<locals>.deprecated_wrapper.<locals>.new_func\u001b[0;34m(*args, **kwargs)\u001b[0m\n\u001b[1;32m    <a href='file:///Users/miguelnavaharris/miniforge3/envs/pinn/lib/python3.9/site-packages/tensorflow/python/util/deprecation.py?line=526'>527</a>\u001b[0m         _PRINTED_WARNING[(func, arg_name)] \u001b[39m=\u001b[39m \u001b[39mTrue\u001b[39;00m\n\u001b[1;32m    <a href='file:///Users/miguelnavaharris/miniforge3/envs/pinn/lib/python3.9/site-packages/tensorflow/python/util/deprecation.py?line=527'>528</a>\u001b[0m       logging\u001b[39m.\u001b[39mwarning(\n\u001b[1;32m    <a href='file:///Users/miguelnavaharris/miniforge3/envs/pinn/lib/python3.9/site-packages/tensorflow/python/util/deprecation.py?line=528'>529</a>\u001b[0m           \u001b[39m'\u001b[39m\u001b[39mFrom \u001b[39m\u001b[39m%s\u001b[39;00m\u001b[39m: calling \u001b[39m\u001b[39m%s\u001b[39;00m\u001b[39m (from \u001b[39m\u001b[39m%s\u001b[39;00m\u001b[39m) with \u001b[39m\u001b[39m%s\u001b[39;00m\u001b[39m is deprecated and will \u001b[39m\u001b[39m'\u001b[39m\n\u001b[1;32m    <a href='file:///Users/miguelnavaharris/miniforge3/envs/pinn/lib/python3.9/site-packages/tensorflow/python/util/deprecation.py?line=529'>530</a>\u001b[0m           \u001b[39m'\u001b[39m\u001b[39mbe removed \u001b[39m\u001b[39m%s\u001b[39;00m\u001b[39m.\u001b[39m\u001b[39m\\n\u001b[39;00m\u001b[39mInstructions for updating:\u001b[39m\u001b[39m\\n\u001b[39;00m\u001b[39m%s\u001b[39;00m\u001b[39m'\u001b[39m,\n\u001b[0;32m   (...)\u001b[0m\n\u001b[1;32m    <a href='file:///Users/miguelnavaharris/miniforge3/envs/pinn/lib/python3.9/site-packages/tensorflow/python/util/deprecation.py?line=532'>533</a>\u001b[0m           \u001b[39m'\u001b[39m\u001b[39min a future version\u001b[39m\u001b[39m'\u001b[39m \u001b[39mif\u001b[39;00m date \u001b[39mis\u001b[39;00m \u001b[39mNone\u001b[39;00m \u001b[39melse\u001b[39;00m (\u001b[39m'\u001b[39m\u001b[39mafter \u001b[39m\u001b[39m%s\u001b[39;00m\u001b[39m'\u001b[39m \u001b[39m%\u001b[39m date),\n\u001b[1;32m    <a href='file:///Users/miguelnavaharris/miniforge3/envs/pinn/lib/python3.9/site-packages/tensorflow/python/util/deprecation.py?line=533'>534</a>\u001b[0m           instructions)\n\u001b[0;32m--> <a href='file:///Users/miguelnavaharris/miniforge3/envs/pinn/lib/python3.9/site-packages/tensorflow/python/util/deprecation.py?line=534'>535</a>\u001b[0m \u001b[39mreturn\u001b[39;00m func(\u001b[39m*\u001b[39;49margs, \u001b[39m*\u001b[39;49m\u001b[39m*\u001b[39;49mkwargs)\n",
      "File \u001b[0;32m~/miniforge3/envs/pinn/lib/python3.9/site-packages/tensorflow/python/util/dispatch.py:206\u001b[0m, in \u001b[0;36madd_dispatch_support.<locals>.wrapper\u001b[0;34m(*args, **kwargs)\u001b[0m\n\u001b[1;32m    <a href='file:///Users/miguelnavaharris/miniforge3/envs/pinn/lib/python3.9/site-packages/tensorflow/python/util/dispatch.py?line=203'>204</a>\u001b[0m \u001b[39m\"\"\"Call target, and fall back on dispatchers if there is a TypeError.\"\"\"\u001b[39;00m\n\u001b[1;32m    <a href='file:///Users/miguelnavaharris/miniforge3/envs/pinn/lib/python3.9/site-packages/tensorflow/python/util/dispatch.py?line=204'>205</a>\u001b[0m \u001b[39mtry\u001b[39;00m:\n\u001b[0;32m--> <a href='file:///Users/miguelnavaharris/miniforge3/envs/pinn/lib/python3.9/site-packages/tensorflow/python/util/dispatch.py?line=205'>206</a>\u001b[0m   \u001b[39mreturn\u001b[39;00m target(\u001b[39m*\u001b[39;49margs, \u001b[39m*\u001b[39;49m\u001b[39m*\u001b[39;49mkwargs)\n\u001b[1;32m    <a href='file:///Users/miguelnavaharris/miniforge3/envs/pinn/lib/python3.9/site-packages/tensorflow/python/util/dispatch.py?line=206'>207</a>\u001b[0m \u001b[39mexcept\u001b[39;00m (\u001b[39mTypeError\u001b[39;00m, \u001b[39mValueError\u001b[39;00m):\n\u001b[1;32m    <a href='file:///Users/miguelnavaharris/miniforge3/envs/pinn/lib/python3.9/site-packages/tensorflow/python/util/dispatch.py?line=207'>208</a>\u001b[0m   \u001b[39m# Note: convert_to_eager_tensor currently raises a ValueError, not a\u001b[39;00m\n\u001b[1;32m    <a href='file:///Users/miguelnavaharris/miniforge3/envs/pinn/lib/python3.9/site-packages/tensorflow/python/util/dispatch.py?line=208'>209</a>\u001b[0m   \u001b[39m# TypeError, when given unexpected types.  So we need to catch both.\u001b[39;00m\n\u001b[1;32m    <a href='file:///Users/miguelnavaharris/miniforge3/envs/pinn/lib/python3.9/site-packages/tensorflow/python/util/dispatch.py?line=209'>210</a>\u001b[0m   result \u001b[39m=\u001b[39m dispatch(wrapper, args, kwargs)\n",
      "File \u001b[0;32m~/miniforge3/envs/pinn/lib/python3.9/site-packages/tensorflow/python/ops/array_ops.py:5032\u001b[0m, in \u001b[0;36mgather\u001b[0;34m(***failed resolving arguments***)\u001b[0m\n\u001b[1;32m   <a href='file:///Users/miguelnavaharris/miniforge3/envs/pinn/lib/python3.9/site-packages/tensorflow/python/ops/array_ops.py?line=5029'>5030</a>\u001b[0m   \u001b[39mreturn\u001b[39;00m params\u001b[39m.\u001b[39msparse_read(indices, name\u001b[39m=\u001b[39mname)\n\u001b[1;32m   <a href='file:///Users/miguelnavaharris/miniforge3/envs/pinn/lib/python3.9/site-packages/tensorflow/python/ops/array_ops.py?line=5030'>5031</a>\u001b[0m \u001b[39mexcept\u001b[39;00m \u001b[39mAttributeError\u001b[39;00m:\n\u001b[0;32m-> <a href='file:///Users/miguelnavaharris/miniforge3/envs/pinn/lib/python3.9/site-packages/tensorflow/python/ops/array_ops.py?line=5031'>5032</a>\u001b[0m   \u001b[39mreturn\u001b[39;00m gen_array_ops\u001b[39m.\u001b[39;49mgather_v2(params, indices, axis, name\u001b[39m=\u001b[39;49mname)\n",
      "File \u001b[0;32m~/miniforge3/envs/pinn/lib/python3.9/site-packages/tensorflow/python/ops/gen_array_ops.py:3803\u001b[0m, in \u001b[0;36mgather_v2\u001b[0;34m(params, indices, axis, batch_dims, name)\u001b[0m\n\u001b[1;32m   <a href='file:///Users/miguelnavaharris/miniforge3/envs/pinn/lib/python3.9/site-packages/tensorflow/python/ops/gen_array_ops.py?line=3800'>3801</a>\u001b[0m \u001b[39mif\u001b[39;00m tld\u001b[39m.\u001b[39mis_eager:\n\u001b[1;32m   <a href='file:///Users/miguelnavaharris/miniforge3/envs/pinn/lib/python3.9/site-packages/tensorflow/python/ops/gen_array_ops.py?line=3801'>3802</a>\u001b[0m   \u001b[39mtry\u001b[39;00m:\n\u001b[0;32m-> <a href='file:///Users/miguelnavaharris/miniforge3/envs/pinn/lib/python3.9/site-packages/tensorflow/python/ops/gen_array_ops.py?line=3802'>3803</a>\u001b[0m     _result \u001b[39m=\u001b[39m pywrap_tfe\u001b[39m.\u001b[39;49mTFE_Py_FastPathExecute(\n\u001b[1;32m   <a href='file:///Users/miguelnavaharris/miniforge3/envs/pinn/lib/python3.9/site-packages/tensorflow/python/ops/gen_array_ops.py?line=3803'>3804</a>\u001b[0m       _ctx, \u001b[39m\"\u001b[39;49m\u001b[39mGatherV2\u001b[39;49m\u001b[39m\"\u001b[39;49m, name, params, indices, axis, \u001b[39m\"\u001b[39;49m\u001b[39mbatch_dims\u001b[39;49m\u001b[39m\"\u001b[39;49m,\n\u001b[1;32m   <a href='file:///Users/miguelnavaharris/miniforge3/envs/pinn/lib/python3.9/site-packages/tensorflow/python/ops/gen_array_ops.py?line=3804'>3805</a>\u001b[0m       batch_dims)\n\u001b[1;32m   <a href='file:///Users/miguelnavaharris/miniforge3/envs/pinn/lib/python3.9/site-packages/tensorflow/python/ops/gen_array_ops.py?line=3805'>3806</a>\u001b[0m     \u001b[39mreturn\u001b[39;00m _result\n\u001b[1;32m   <a href='file:///Users/miguelnavaharris/miniforge3/envs/pinn/lib/python3.9/site-packages/tensorflow/python/ops/gen_array_ops.py?line=3806'>3807</a>\u001b[0m   \u001b[39mexcept\u001b[39;00m _core\u001b[39m.\u001b[39m_NotOkStatusException \u001b[39mas\u001b[39;00m e:\n",
      "\u001b[0;31mKeyboardInterrupt\u001b[0m: "
     ]
    }
   ],
   "source": [
    "train_and_evaluate_network(batch_size=batch_size, epochs=1)"
   ]
  },
  {
   "cell_type": "code",
   "execution_count": 11,
   "metadata": {},
   "outputs": [],
   "source": [
    "def _generator(molecule):\n",
    "        data = {'coord': molecule.positions,\n",
    "                'ind_1': np.zeros([len(molecule), 1]),\n",
    "                'elems': molecule.numbers}\n",
    "        yield data\n",
    "\n",
    "def predict_energy(molecule):\n",
    "        '''Takes an ASE Atoms object and outputs PiNet's energy prediction'''\n",
    "        dtype=tf.float32\n",
    "        dtypes = {'coord': dtype, 'elems': tf.int32, 'ind_1': tf.int32}\n",
    "        shapes = {'coord': [None, 3], 'elems': [None], 'ind_1': [None, 1]}\n",
    "\n",
    "        pred_dataset = tf.data.Dataset.from_generator(lambda:_generator(molecule), dtypes, shapes)\n",
    "\n",
    "        for molecule in pred_dataset:\n",
    "                molecule = network.preprocess(molecule)\n",
    "                pred = network(molecule, training=False)\n",
    "                ind = molecule['ind_1']\n",
    "                nbatch = tf.reduce_max(ind)+1\n",
    "                energy_prediction = tf.math.unsorted_segment_sum(pred, ind[:, 0], nbatch)\n",
    "                energy_prediction_numpy = energy_prediction.numpy()[0]\n",
    "        return energy_prediction_numpy"
   ]
  },
  {
   "cell_type": "code",
   "execution_count": 12,
   "metadata": {},
   "outputs": [
    {
     "data": {
      "text/plain": [
       "{'coord': array([[ 0.      ,  0.      ,  0.      ],\n",
       "        [ 0.629118,  0.629118,  0.629118],\n",
       "        [-0.629118, -0.629118,  0.629118],\n",
       "        [ 0.629118, -0.629118, -0.629118],\n",
       "        [-0.629118,  0.629118, -0.629118]]),\n",
       " 'ind_1': array([[0.],\n",
       "        [0.],\n",
       "        [0.],\n",
       "        [0.],\n",
       "        [0.]]),\n",
       " 'elems': array([6, 1, 1, 1, 1])}"
      ]
     },
     "execution_count": 12,
     "metadata": {},
     "output_type": "execute_result"
    }
   ],
   "source": [
    "next(_generator(g2['CH4']))"
   ]
  },
  {
   "cell_type": "code",
   "execution_count": 19,
   "metadata": {},
   "outputs": [
    {
     "data": {
      "text/plain": [
       "-18.794298"
      ]
     },
     "execution_count": 19,
     "metadata": {},
     "output_type": "execute_result"
    }
   ],
   "source": [
    "predict_energy(g2['CH4'])"
   ]
  },
  {
   "cell_type": "code",
   "execution_count": 14,
   "metadata": {},
   "outputs": [
    {
     "name": "stdout",
     "output_type": "stream",
     "text": [
      "{'elems': <tf.Tensor: shape=(2333,), dtype=int32, numpy=array([7, 6, 6, ..., 1, 1, 1], dtype=int32)>, 'coord': <tf.Tensor: shape=(2333, 3), dtype=float32, numpy=\n",
      "array([[ 0.06930045,  1.4449356 ,  0.17122535],\n",
      "       [ 0.02267061,  0.07571542,  0.04459907],\n",
      "       [-1.066454  , -0.76106334,  0.00750551],\n",
      "       ...,\n",
      "       [ 2.7930737 ,  0.19725555,  0.43674996],\n",
      "       [ 2.0914726 ,  1.287523  ,  1.649632  ],\n",
      "       [ 2.8104842 , -0.24979167,  2.157346  ]], dtype=float32)>, 'e_data': <tf.Tensor: shape=(128,), dtype=float32, numpy=\n",
      "array([-393.57846, -398.14343, -401.90503, -404.29816, -379.91382,\n",
      "       -385.89896, -231.10631, -419.26816, -383.172  , -352.3668 ,\n",
      "       -421.76602, -398.27084, -403.1459 , -437.80237, -420.39893,\n",
      "       -388.2607 , -403.12582, -383.71817, -400.6426 , -492.00888,\n",
      "       -423.04446, -455.13193, -398.1387 , -340.67972, -455.17688,\n",
      "       -423.01047, -423.003  , -422.96106, -389.48065, -422.06546,\n",
      "       -418.0412 , -388.30313, -475.03003, -421.8071 , -437.86945,\n",
      "       -416.7347 , -422.97955, -404.30325, -419.1927 , -417.99173,\n",
      "       -352.31476, -387.09543, -439.0764 , -433.3102 , -422.93597,\n",
      "       -378.74695, -440.34058, -365.07892, -309.72717, -314.273  ,\n",
      "       -460.13208, -439.0638 , -394.59985, -403.06406, -417.95825,\n",
      "       -456.34143, -389.48892, -351.13153, -319.56082, -439.0047 ,\n",
      "       -365.95026, -353.56186, -387.12848, -351.16617, -494.92816,\n",
      "       -343.29654, -309.71402, -461.3653 , -423.04935, -434.10315,\n",
      "       -342.74634, -388.26227, -457.71317, -388.30676, -363.84375,\n",
      "       -403.20084, -425.4085 , -399.77188, -400.68375, -347.76978,\n",
      "       -439.0007 , -450.19653, -414.20233, -424.1789 , -401.91537,\n",
      "       -420.86435, -384.4014 , -351.16385, -458.95016, -421.7783 ,\n",
      "       -419.18356, -470.02573, -385.81085, -398.15903, -387.07858,\n",
      "       -423.0229 , -436.55087, -416.78342, -424.218  , -423.02646,\n",
      "       -489.86536, -453.98367, -424.23276, -476.2818 , -480.98798,\n",
      "       -365.97275, -489.9147 , -387.04587, -422.9705 , -356.45203,\n",
      "       -457.6976 , -432.83768, -418.07028, -424.21487, -422.97424,\n",
      "       -387.10065, -476.26666, -353.56052, -353.56012, -388.28815,\n",
      "       -491.06787, -403.1512 , -383.70752, -439.03198, -363.88602,\n",
      "       -394.81943, -388.3302 , -440.30307], dtype=float32)>, 'ind_1': <tf.Tensor: shape=(2333, 1), dtype=int32, numpy=\n",
      "array([[  0],\n",
      "       [  0],\n",
      "       [  0],\n",
      "       ...,\n",
      "       [127],\n",
      "       [127],\n",
      "       [127]], dtype=int32)>}\n"
     ]
    }
   ],
   "source": [
    "for i in train_set:\n",
    "    print(i)\n",
    "    a = i\n",
    "    break"
   ]
  },
  {
   "cell_type": "code",
   "execution_count": 15,
   "metadata": {},
   "outputs": [],
   "source": [
    "b = network.preprocess(a)\n",
    "connect_dist_grad(b)"
   ]
  },
  {
   "cell_type": "code",
   "execution_count": 16,
   "metadata": {},
   "outputs": [],
   "source": [
    "b_pred = network(b)\n",
    "ind = b['ind_1']\n",
    "nbatch = tf.reduce_max(ind)+1\n",
    "b_pred = tf.math.unsorted_segment_sum(b_pred, ind[:, 0], nbatch)\n",
    "e_data = b['e_data']\n",
    "e_data -= atomic_dress(b, params['model']['params']['e_dress'], dtype=b_pred.dtype)\n",
    "e_data *= params['model']['params']['e_scale']"
   ]
  },
  {
   "cell_type": "code",
   "execution_count": 17,
   "metadata": {},
   "outputs": [
    {
     "data": {
      "text/plain": [
       "<tf.Tensor: shape=(128,), dtype=float32, numpy=\n",
       "array([-381.86557, -409.28497, -398.29123, -421.11533, -394.76492,\n",
       "       -395.13214, -235.63544, -416.60037, -391.5477 , -374.113  ,\n",
       "       -450.78806, -396.96484, -419.63223, -430.58038, -424.91898,\n",
       "       -398.59235, -410.30063, -374.46503, -414.35007, -441.37195,\n",
       "       -426.23978, -459.04752, -412.0945 , -351.79498, -468.33627,\n",
       "       -423.05798, -428.31393, -433.25558, -405.61154, -431.9105 ,\n",
       "       -433.24655, -399.356  , -477.7931 , -416.9553 , -417.32074,\n",
       "       -416.4994 , -433.56696, -414.82922, -427.69278, -422.05014,\n",
       "       -372.68732, -388.9638 , -455.03983, -396.8519 , -435.05756,\n",
       "       -377.2176 , -434.9269 , -369.26965, -301.68942, -330.91498,\n",
       "       -468.44366, -436.28384, -369.51193, -413.43808, -422.75687,\n",
       "       -482.6218 , -401.80673, -364.92288, -292.25894, -453.9418 ,\n",
       "       -376.80652, -377.3983 , -412.63156, -368.18036, -503.91867,\n",
       "       -358.40286, -316.86816, -470.128  , -420.11426, -414.24634,\n",
       "       -341.88776, -398.2503 , -460.1268 , -399.7071 , -352.75848,\n",
       "       -410.34375, -424.29138, -402.52502, -388.81467, -349.4502 ,\n",
       "       -443.29767, -447.71292, -416.62128, -439.56033, -403.03134,\n",
       "       -428.8588 , -415.3537 , -369.58206, -475.55536, -427.40027,\n",
       "       -422.1233 , -471.99542, -411.59064, -394.72363, -383.218  ,\n",
       "       -423.1089 , -452.50192, -393.81277, -425.89197, -417.05295,\n",
       "       -495.9126 , -465.44653, -418.1361 , -483.5232 , -490.7281 ,\n",
       "       -375.9216 , -523.43695, -394.086  , -426.35852, -377.38174,\n",
       "       -469.9144 , -433.28967, -421.522  , -432.22186, -429.15283,\n",
       "       -392.0226 , -462.99997, -380.91928, -375.8912 , -405.78433,\n",
       "       -520.54694, -399.22473, -387.83398, -453.21664, -367.05515,\n",
       "       -396.49094, -400.14285, -455.12415], dtype=float32)>"
      ]
     },
     "execution_count": 17,
     "metadata": {},
     "output_type": "execute_result"
    }
   ],
   "source": [
    "b_pred"
   ]
  },
  {
   "cell_type": "code",
   "execution_count": 18,
   "metadata": {},
   "outputs": [
    {
     "data": {
      "text/plain": [
       "array([-393.57846, -398.14343, -401.90503, -404.29816, -379.91382,\n",
       "       -385.89896, -231.10631, -419.26816, -383.172  , -352.3668 ,\n",
       "       -421.76602, -398.27084, -403.1459 , -437.80237, -420.39893,\n",
       "       -388.2607 , -403.12582, -383.71817, -400.6426 , -492.00888,\n",
       "       -423.04446, -455.13193, -398.1387 , -340.67972, -455.17688,\n",
       "       -423.01047, -423.003  , -422.96106, -389.48065, -422.06546,\n",
       "       -418.0412 , -388.30313, -475.03003, -421.8071 , -437.86945,\n",
       "       -416.7347 , -422.97955, -404.30325, -419.1927 , -417.99173,\n",
       "       -352.31476, -387.09543, -439.0764 , -433.3102 , -422.93597,\n",
       "       -378.74695, -440.34058, -365.07892, -309.72717, -314.273  ,\n",
       "       -460.13208, -439.0638 , -394.59985, -403.06406, -417.95825,\n",
       "       -456.34143, -389.48892, -351.13153, -319.56082, -439.0047 ,\n",
       "       -365.95026, -353.56186, -387.12848, -351.16617, -494.92816,\n",
       "       -343.29654, -309.71402, -461.3653 , -423.04935, -434.10315,\n",
       "       -342.74634, -388.26227, -457.71317, -388.30676, -363.84375,\n",
       "       -403.20084, -425.4085 , -399.77188, -400.68375, -347.76978,\n",
       "       -439.0007 , -450.19653, -414.20233, -424.1789 , -401.91537,\n",
       "       -420.86435, -384.4014 , -351.16385, -458.95016, -421.7783 ,\n",
       "       -419.18356, -470.02573, -385.81085, -398.15903, -387.07858,\n",
       "       -423.0229 , -436.55087, -416.78342, -424.218  , -423.02646,\n",
       "       -489.86536, -453.98367, -424.23276, -476.2818 , -480.98798,\n",
       "       -365.97275, -489.9147 , -387.04587, -422.9705 , -356.45203,\n",
       "       -457.6976 , -432.83768, -418.07028, -424.21487, -422.97424,\n",
       "       -387.10065, -476.26666, -353.56052, -353.56012, -388.28815,\n",
       "       -491.06787, -403.1512 , -383.70752, -439.03198, -363.88602,\n",
       "       -394.81943, -388.3302 , -440.30307], dtype=float32)"
      ]
     },
     "execution_count": 18,
     "metadata": {},
     "output_type": "execute_result"
    }
   ],
   "source": [
    "e_data.numpy()"
   ]
  },
  {
   "cell_type": "code",
   "execution_count": 42,
   "metadata": {},
   "outputs": [
    {
     "data": {
      "text/plain": [
       "0.066774674"
      ]
     },
     "execution_count": 42,
     "metadata": {},
     "output_type": "execute_result"
    }
   ],
   "source": [
    "import sklearn as sk\n",
    "from sklearn.metrics import mean_squared_error\n",
    "mean_squared_error(e_data, b_pred, squared=False)"
   ]
  }
 ],
 "metadata": {
  "interpreter": {
   "hash": "7d2dca5ff04745c24a12b1eaafe2ed2b92b4632c1d2e7bd797725dd5127e9eda"
  },
  "kernelspec": {
   "display_name": "Python 3.9.10 ('pinn')",
   "language": "python",
   "name": "python3"
  },
  "language_info": {
   "codemirror_mode": {
    "name": "ipython",
    "version": 3
   },
   "file_extension": ".py",
   "mimetype": "text/x-python",
   "name": "python",
   "nbconvert_exporter": "python",
   "pygments_lexer": "ipython3",
   "version": "3.9.10"
  },
  "orig_nbformat": 4
 },
 "nbformat": 4,
 "nbformat_minor": 2
}
