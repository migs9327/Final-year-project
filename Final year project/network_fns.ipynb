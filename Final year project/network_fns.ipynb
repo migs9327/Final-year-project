{
 "cells": [
  {
   "cell_type": "code",
   "execution_count": 1,
   "metadata": {},
   "outputs": [
    {
     "name": "stdout",
     "output_type": "stream",
     "text": [
      "Init Plugin\n",
      "Init Graph Optimizer\n",
      "Init Kernel\n"
     ]
    }
   ],
   "source": [
    "import numpy as np\n",
    "import tensorflow as tf\n",
    "from pinn import get_network\n",
    "from pinn.utils import connect_dist_grad, atomic_dress\n",
    "from glob import glob\n",
    "from ase.collections import g2\n",
    "from pinn.io import load_qm9, sparse_batch\n",
    "from pinn.optimizers import get"
   ]
  },
  {
   "cell_type": "code",
   "execution_count": 2,
   "metadata": {},
   "outputs": [
    {
     "name": "stdout",
     "output_type": "stream",
     "text": [
      "Metal device set to: Apple M1\n",
      "\n",
      "systemMemory: 16.00 GB\n",
      "maxCacheSize: 5.33 GB\n",
      "\n"
     ]
    },
    {
     "name": "stderr",
     "output_type": "stream",
     "text": [
      "2022-05-21 18:16:29.685571: I tensorflow/core/common_runtime/pluggable_device/pluggable_device_factory.cc:305] Could not identify NUMA node of platform GPU ID 0, defaulting to 0. Your kernel may not have been built with NUMA support.\n",
      "2022-05-21 18:16:29.685696: I tensorflow/core/common_runtime/pluggable_device/pluggable_device_factory.cc:271] Created TensorFlow device (/job:localhost/replica:0/task:0/device:GPU:0 with 0 MB memory) -> physical PluggableDevice (device: 0, name: METAL, pci bus id: <undefined>)\n"
     ]
    }
   ],
   "source": [
    "filelist = glob('/Users/miguelnavaharris/Project/QM9/*.xyz')\n",
    "dataset = load_qm9(filelist, splits={'train':8, 'test':2})"
   ]
  },
  {
   "cell_type": "code",
   "execution_count": 3,
   "metadata": {},
   "outputs": [],
   "source": [
    "def get_traintest_sets(dataset=None, buffer_size=None, batch_size=None):\n",
    "    train_set = dataset['train'].shuffle(buffer_size).apply(sparse_batch(batch_size))\n",
    "    test_set = dataset['test'].apply(sparse_batch(batch_size))\n",
    "    return (train_set, test_set, batch_size)"
   ]
  },
  {
   "cell_type": "markdown",
   "metadata": {},
   "source": [
    "### Normal params"
   ]
  },
  {
   "cell_type": "code",
   "execution_count": 4,
   "metadata": {},
   "outputs": [],
   "source": [
    "params = {'optimizer': {'class_name': 'Adam', 'config': {'learning_rate': {'class_name': 'ExponentialDecay', 'config': {'initial_learning_rate': 0.0003, 'decay_steps': 10000, 'decay_rate': 0.994}}, 'clipnorm': 0.01}}, 'network': {'name': 'PiNet', 'params': {'depth': 4, 'rc': 4.0, 'atom_types': [1, 6, 7, 8, 9]}}, 'e_dress': {}, 'e_scale': 1.0}"
   ]
  },
  {
   "cell_type": "code",
   "execution_count": 5,
   "metadata": {},
   "outputs": [
    {
     "name": "stdout",
     "output_type": "stream",
     "text": [
      "<pinn.networks.pinet.PiNet object at 0x157a78250>\n"
     ]
    }
   ],
   "source": [
    "network = get_network(params['network'])\n",
    "print(network)"
   ]
  },
  {
   "cell_type": "code",
   "execution_count": 6,
   "metadata": {},
   "outputs": [],
   "source": [
    "def preprocess_traintest_sets(train_set, test_set, network=None):\n",
    "    for batch in train_set:\n",
    "        batch = network.preprocess(batch)\n",
    "        connect_dist_grad(batch)\n",
    "    for batch in test_set:\n",
    "        batch = network.preprocess(batch)\n",
    "        connect_dist_grad(batch)"
   ]
  },
  {
   "cell_type": "code",
   "execution_count": 7,
   "metadata": {},
   "outputs": [],
   "source": [
    "# import time\n",
    "\n",
    "# batch_sizes = [256, 512]\n",
    "# for batch_size in batch_sizes:\n",
    "#     network = get_network(params['network'])\n",
    "#     start_time = time.time()\n",
    "#     train_set, test_set = get_traintest_sets(batch_size)\n",
    "#     preprocess_traintest_sets(train_set, test_set)\n",
    "#     print(f'Done in {time.time() - start_time} s')\n"
   ]
  },
  {
   "cell_type": "code",
   "execution_count": 8,
   "metadata": {},
   "outputs": [
    {
     "name": "stdout",
     "output_type": "stream",
     "text": [
      "Beginning preprocessing\n",
      "Preprocessing time: 0.09306597709655762 s\n"
     ]
    },
    {
     "name": "stderr",
     "output_type": "stream",
     "text": [
      "2022-05-21 18:16:40.149384: I tensorflow/compiler/mlir/mlir_graph_optimization_pass.cc:176] None of the MLIR Optimization Passes are enabled (registered 2)\n",
      "2022-05-21 18:16:40.149633: W tensorflow/core/platform/profile_utils/cpu_utils.cc:128] Failed to get CPU frequency: 0 Hz\n"
     ]
    }
   ],
   "source": [
    "# Get and preprocess data\n",
    "import time\n",
    "print('Beginning preprocessing')\n",
    "start_time_preprocess = time.time()\n",
    "train_set, test_set, batch_size = get_traintest_sets(dataset=dataset, buffer_size=1000, batch_size=256)\n",
    "preprocess_traintest_sets(train_set, test_set, network=network)\n",
    "print(f'Preprocessing time: {(time.time() - start_time_preprocess)} s')\n",
    "with train_summary_writer.as_default():\n",
    "    tf.summary.scalar(f'Preprocessing time', (time.time() - start_time), step=batch_size)"
   ]
  },
  {
   "cell_type": "code",
   "execution_count": 9,
   "metadata": {},
   "outputs": [],
   "source": [
    "def train_and_evaluate_network(network=None, params=None, train_set=None, test_set=None, batch_size=None, epochs=1):\n",
    "    import time\n",
    "    import gc\n",
    "\n",
    "    # Instantiate an optimizer\n",
    "    from pinn.optimizers import get\n",
    "    optimizer = get(params['optimizer'])\n",
    "    # Define a loss function\n",
    "    loss_fn = tf.keras.losses.mse\n",
    "    # Define metrics\n",
    "    train_loss_metric = tf.keras.metrics.MeanSquaredError()\n",
    "    val_loss_metric = tf.keras.metrics.MeanSquaredError()\n",
    "    train_err_metric = tf.keras.metrics.RootMeanSquaredError()\n",
    "    val_err_metric = tf.keras.metrics.RootMeanSquaredError()\n",
    "    \n",
    "\n",
    "    for epoch in range(epochs):\n",
    "        print(\"\\nStart of epoch %d\" % (epoch,))\n",
    "        start_time_epoch = time.time()\n",
    "        hund_step_times = []\n",
    "\n",
    "        # Iterate over the batches of the dataset.\n",
    "        for step, batch in enumerate(train_set):\n",
    "            \n",
    "            \n",
    "\n",
    "            # Open a GradientTape to record the operations run\n",
    "            # during the forward pass, which enables auto-differentiation.\n",
    "            with tf.GradientTape() as tape:\n",
    "\n",
    "                # Run the forward pass of the layer.\n",
    "                # The operations that the layer applies\n",
    "                # to its inputs are going to be recorded\n",
    "                # on the GradientTape.\n",
    "                pred = network(batch, training=True)  # Logits for this minibatch\n",
    "\n",
    "                ind = batch['ind_1']\n",
    "                nbatch = tf.reduce_max(ind)+1\n",
    "                pred = tf.math.unsorted_segment_sum(pred, ind[:, 0], nbatch)\n",
    "                e_data = batch['e_data']\n",
    "\n",
    "                if params['e_dress']:\n",
    "                    e_data -= atomic_dress(batch, params['e_dress'], dtype=pred.dtype)\n",
    "                    e_data *= params['e_scale']\n",
    "\n",
    "\n",
    "                # Compute the loss value for this minibatch.\n",
    "                loss_value = loss_fn(e_data, pred)\n",
    "\n",
    "            # Use the gradient tape to automatically retrieve\n",
    "            # the gradients of the trainable variables with respect to the loss.\n",
    "            grads = tape.gradient(loss_value, network.trainable_weights)\n",
    "\n",
    "            # Run one step of gradient descent by updating\n",
    "            # the value of the variables to minimize the loss.\n",
    "            optimizer.apply_gradients(zip(grads, network.trainable_weights))\n",
    "\n",
    "            # Update the loss and error metrics\n",
    "            train_loss_metric.update_state(e_data, pred)\n",
    "            train_err_metric.update_state(e_data, pred)\n",
    "\n",
    "\n",
    "\n",
    "            # Log every 100 batches.\n",
    "            if step == 0:\n",
    "                print(f\"Initial loss (for one batch): {float(loss_value)}\")\n",
    "                print(f\"Seen so far: {((step + 1) * batch_size)} molecules\")\n",
    "\n",
    "                # Reset the weights for different batch sizes\n",
    "                network.save_weights('initial_weights.h5')\n",
    "\n",
    "                # with train_summary_writer.as_default():\n",
    "                #     tf.summary.scalar('Training loss', train_loss_metric.result(), step=step)\n",
    "                #     tf.summary.scalar('Training error', train_err_metric.result(), step=step)\n",
    "\n",
    "\n",
    "            elif step % 20 == 0:\n",
    "                print(f\"Training loss (for one batch) at step {step}: {float(loss_value)}\")\n",
    "                print(f\"Seen so far: {((step + 1) * batch_size)} molecules\")\n",
    "                hund_step_times += [(time.time() - start_time_epoch)]\n",
    "                print(f'Training time for 20 batches: {((hund_step_times[-1] - hund_step_times[-2]) if len(hund_step_times) > 1 else hund_step_times[-1])} s')\n",
    "\n",
    "                # Record tensorboad metrics\n",
    "                # with train_summary_writer.as_default():\n",
    "                #     tf.summary.scalar('Training loss', train_loss_metric.result(), step=step)\n",
    "                #     tf.summary.scalar('Training error', train_err_metric.result(), step=step)\n",
    "                #     tf.summary.scalar('Training time/20 batches', ((hund_step_times[-1] - hund_step_times[-2]) if len(hund_step_times) > 1 else hund_step_times[-1]), step=step)\n",
    "\n",
    "\n",
    "        print(f'Training time for epoch {epoch + 1}: {(time.time() - start_time_epoch)} s')\n",
    "\n",
    "\n",
    "\n",
    "        # #Update the training metric now that the network has been trained\n",
    "        # print(f'Calculating training error for epoch {(epoch + 1)}')\n",
    "        # for batch in train_set:\n",
    "        #     pred = network(batch, training=False)  # Logits for this minibatch\n",
    "\n",
    "        #     ind = batch['ind_1']\n",
    "        #     nbatch = tf.reduce_max(ind)+1\n",
    "        #     pred = tf.math.unsorted_segment_sum(pred, ind[:, 0], nbatch)\n",
    "        #     train_err_metric.update_state(e_data, pred)\n",
    "        \n",
    "        # Display metrics at the end of each epoch\n",
    "        train_err = train_err_metric.result()\n",
    "        print(f\"Training err over epoch {(epoch + 1)}: {float(train_err)}\")\n",
    "\n",
    "        # Reset training metrics at the end of each epoch\n",
    "        train_err_metric.reset_states()\n",
    "\n",
    "        # Run a validation loop at the end of each epoch\n",
    "        print(f'Starting validation for epoch {(epoch + 1)}')\n",
    "        for step, batch in enumerate(test_set):\n",
    "            val_pred = network(batch, training=False)\n",
    "            ind = batch['ind_1']\n",
    "            nbatch = tf.reduce_max(ind)+1\n",
    "            val_pred = tf.math.unsorted_segment_sum(val_pred, ind[:, 0], nbatch)\n",
    "            e_data = batch['e_data']\n",
    "\n",
    "            if params['e_dress']:\n",
    "                e_data -= atomic_dress(batch, params['e_dress'], dtype=pred.dtype)\n",
    "                e_data *= params['e_scale']\n",
    "\n",
    "\n",
    "            # Update val metrics\n",
    "            val_loss_metric.update_state(e_data, val_pred)\n",
    "            val_err_metric.update_state(e_data, val_pred)\n",
    "\n",
    "            # Record Tensorboard metrics\n",
    "            # if step % 5 == 0:\n",
    "                \n",
    "            #     with test_summary_writer.as_default():\n",
    "            #         tf.summary.scalar('Validation loss', val_loss_metric.result(), step=step)\n",
    "            #         tf.summary.scalar('Validation error', val_err_metric.result(), step=step)\n",
    "\n",
    "\n",
    "        val_err = val_err_metric.result()\n",
    "        val_err_metric.reset_states()\n",
    "        print(f\"Validation err for epoch {(epoch + 1)}: {float(val_err)}\")\n",
    "        print(f\"Time taken for epoch {epoch + 1}: {(time.time() - start_time_epoch)} s\")\n",
    "\n",
    "\n"
   ]
  },
  {
   "cell_type": "code",
   "execution_count": 10,
   "metadata": {},
   "outputs": [
    {
     "name": "stdout",
     "output_type": "stream",
     "text": [
      "\n",
      "Start of epoch 0\n",
      "Training time for epoch 1: 0.01108098030090332 s\n",
      "Training err over epoch 1: 0.0\n",
      "Starting validation for epoch 1\n",
      "Validation err for epoch 1: 0.0\n",
      "Time taken for epoch 1: 0.0794680118560791 s\n"
     ]
    }
   ],
   "source": [
    "train_and_evaluate_network(network=network, params=params, train_set=train_set, test_set=test_set, batch_size=batch_size, epochs=1)"
   ]
  },
  {
   "cell_type": "code",
   "execution_count": 10,
   "metadata": {},
   "outputs": [
    {
     "name": "stdout",
     "output_type": "stream",
     "text": [
      "Beginning preprocessing\n"
     ]
    },
    {
     "name": "stderr",
     "output_type": "stream",
     "text": [
      "2022-05-09 18:29:17.070097: I tensorflow/compiler/mlir/mlir_graph_optimization_pass.cc:176] None of the MLIR Optimization Passes are enabled (registered 2)\n",
      "2022-05-09 18:29:17.070984: W tensorflow/core/platform/profile_utils/cpu_utils.cc:128] Failed to get CPU frequency: 0 Hz\n"
     ]
    },
    {
     "name": "stdout",
     "output_type": "stream",
     "text": [
      "Preprocessing time: 29.446027994155884 s\n",
      "\n",
      "Start of epoch 0\n",
      "Initial loss (for one batch): 163182.375\n",
      "Seen so far: 256 molecules\n",
      "Training loss (for one batch) at step 20: 14883.09375\n",
      "Seen so far: 5376 molecules\n",
      "Training time for 20 batches: 9.639225959777832 s\n",
      "Training loss (for one batch) at step 40: 9566.8857421875\n",
      "Seen so far: 10496 molecules\n",
      "Training time for 20 batches: 9.715719938278198 s\n",
      "Training loss (for one batch) at step 60: 3928.34423828125\n",
      "Seen so far: 15616 molecules\n",
      "Training time for 20 batches: 9.832310914993286 s\n",
      "Training loss (for one batch) at step 80: 2708.810546875\n",
      "Seen so far: 20736 molecules\n",
      "Training time for 20 batches: 10.863059043884277 s\n",
      "Training loss (for one batch) at step 100: 1443.9049072265625\n",
      "Seen so far: 25856 molecules\n",
      "Training time for 20 batches: 11.278488159179688 s\n",
      "Training loss (for one batch) at step 120: 1278.47265625\n",
      "Seen so far: 30976 molecules\n",
      "Training time for 20 batches: 10.747613906860352 s\n",
      "Training loss (for one batch) at step 140: 837.1668701171875\n",
      "Seen so far: 36096 molecules\n",
      "Training time for 20 batches: 10.972371101379395 s\n",
      "Training loss (for one batch) at step 160: 770.4789428710938\n",
      "Seen so far: 41216 molecules\n",
      "Training time for 20 batches: 12.993824005126953 s\n"
     ]
    },
    {
     "ename": "KeyboardInterrupt",
     "evalue": "",
     "output_type": "error",
     "traceback": [
      "\u001b[0;31m---------------------------------------------------------------------------\u001b[0m",
      "\u001b[0;31mKeyboardInterrupt\u001b[0m                         Traceback (most recent call last)",
      "\u001b[1;32m/Users/miguelnavaharris/PiNN/docs/notebooks/network_fns.ipynb Cell 12'\u001b[0m in \u001b[0;36m<cell line: 5>\u001b[0;34m()\u001b[0m\n\u001b[1;32m     <a href='vscode-notebook-cell:/Users/miguelnavaharris/PiNN/docs/notebooks/network_fns.ipynb#ch0000008?line=11'>12</a>\u001b[0m network \u001b[39m=\u001b[39m get_network(params[\u001b[39m'\u001b[39m\u001b[39mnetwork\u001b[39m\u001b[39m'\u001b[39m])\n\u001b[1;32m     <a href='vscode-notebook-cell:/Users/miguelnavaharris/PiNN/docs/notebooks/network_fns.ipynb#ch0000008?line=13'>14</a>\u001b[0m start_time \u001b[39m=\u001b[39m time\u001b[39m.\u001b[39mtime()    \n\u001b[0;32m---> <a href='vscode-notebook-cell:/Users/miguelnavaharris/PiNN/docs/notebooks/network_fns.ipynb#ch0000008?line=14'>15</a>\u001b[0m train_and_evaluate_network(batch_size\u001b[39m=\u001b[39;49mbatch_size, epochs\u001b[39m=\u001b[39;49m\u001b[39m1\u001b[39;49m)\n\u001b[1;32m     <a href='vscode-notebook-cell:/Users/miguelnavaharris/PiNN/docs/notebooks/network_fns.ipynb#ch0000008?line=15'>16</a>\u001b[0m \u001b[39mwith\u001b[39;00m train_summary_writer\u001b[39m.\u001b[39mas_default():\n\u001b[1;32m     <a href='vscode-notebook-cell:/Users/miguelnavaharris/PiNN/docs/notebooks/network_fns.ipynb#ch0000008?line=16'>17</a>\u001b[0m     tf\u001b[39m.\u001b[39msummary\u001b[39m.\u001b[39mscalar(\u001b[39mf\u001b[39m\u001b[39m'\u001b[39m\u001b[39mRun time\u001b[39m\u001b[39m'\u001b[39m, (time\u001b[39m.\u001b[39mtime() \u001b[39m-\u001b[39m start_time), step\u001b[39m=\u001b[39mbatch_size)\n",
      "\u001b[1;32m/Users/miguelnavaharris/PiNN/docs/notebooks/network_fns.ipynb Cell 11'\u001b[0m in \u001b[0;36mtrain_and_evaluate_network\u001b[0;34m(batch_size, epochs)\u001b[0m\n\u001b[1;32m     <a href='vscode-notebook-cell:/Users/miguelnavaharris/PiNN/docs/notebooks/network_fns.ipynb#ch0000007?line=27'>28</a>\u001b[0m \u001b[39mfor\u001b[39;00m step, batch \u001b[39min\u001b[39;00m \u001b[39menumerate\u001b[39m(train_set):\n\u001b[1;32m     <a href='vscode-notebook-cell:/Users/miguelnavaharris/PiNN/docs/notebooks/network_fns.ipynb#ch0000007?line=28'>29</a>\u001b[0m     \n\u001b[1;32m     <a href='vscode-notebook-cell:/Users/miguelnavaharris/PiNN/docs/notebooks/network_fns.ipynb#ch0000007?line=29'>30</a>\u001b[0m     \n\u001b[1;32m     <a href='vscode-notebook-cell:/Users/miguelnavaharris/PiNN/docs/notebooks/network_fns.ipynb#ch0000007?line=30'>31</a>\u001b[0m \n\u001b[1;32m     <a href='vscode-notebook-cell:/Users/miguelnavaharris/PiNN/docs/notebooks/network_fns.ipynb#ch0000007?line=31'>32</a>\u001b[0m     \u001b[39m# Open a GradientTape to record the operations run\u001b[39;00m\n\u001b[1;32m     <a href='vscode-notebook-cell:/Users/miguelnavaharris/PiNN/docs/notebooks/network_fns.ipynb#ch0000007?line=32'>33</a>\u001b[0m     \u001b[39m# during the forward pass, which enables auto-differentiation.\u001b[39;00m\n\u001b[1;32m     <a href='vscode-notebook-cell:/Users/miguelnavaharris/PiNN/docs/notebooks/network_fns.ipynb#ch0000007?line=33'>34</a>\u001b[0m     \u001b[39mwith\u001b[39;00m tf\u001b[39m.\u001b[39mGradientTape() \u001b[39mas\u001b[39;00m tape:\n\u001b[1;32m     <a href='vscode-notebook-cell:/Users/miguelnavaharris/PiNN/docs/notebooks/network_fns.ipynb#ch0000007?line=34'>35</a>\u001b[0m \n\u001b[1;32m     <a href='vscode-notebook-cell:/Users/miguelnavaharris/PiNN/docs/notebooks/network_fns.ipynb#ch0000007?line=35'>36</a>\u001b[0m         \u001b[39m# Run the forward pass of the layer.\u001b[39;00m\n\u001b[1;32m     <a href='vscode-notebook-cell:/Users/miguelnavaharris/PiNN/docs/notebooks/network_fns.ipynb#ch0000007?line=36'>37</a>\u001b[0m         \u001b[39m# The operations that the layer applies\u001b[39;00m\n\u001b[1;32m     <a href='vscode-notebook-cell:/Users/miguelnavaharris/PiNN/docs/notebooks/network_fns.ipynb#ch0000007?line=37'>38</a>\u001b[0m         \u001b[39m# to its inputs are going to be recorded\u001b[39;00m\n\u001b[1;32m     <a href='vscode-notebook-cell:/Users/miguelnavaharris/PiNN/docs/notebooks/network_fns.ipynb#ch0000007?line=38'>39</a>\u001b[0m         \u001b[39m# on the GradientTape.\u001b[39;00m\n\u001b[0;32m---> <a href='vscode-notebook-cell:/Users/miguelnavaharris/PiNN/docs/notebooks/network_fns.ipynb#ch0000007?line=39'>40</a>\u001b[0m         pred \u001b[39m=\u001b[39m network(batch, training\u001b[39m=\u001b[39;49m\u001b[39mTrue\u001b[39;49;00m)  \u001b[39m# Logits for this minibatch\u001b[39;00m\n\u001b[1;32m     <a href='vscode-notebook-cell:/Users/miguelnavaharris/PiNN/docs/notebooks/network_fns.ipynb#ch0000007?line=41'>42</a>\u001b[0m         ind \u001b[39m=\u001b[39m batch[\u001b[39m'\u001b[39m\u001b[39mind_1\u001b[39m\u001b[39m'\u001b[39m]\n\u001b[1;32m     <a href='vscode-notebook-cell:/Users/miguelnavaharris/PiNN/docs/notebooks/network_fns.ipynb#ch0000007?line=42'>43</a>\u001b[0m         nbatch \u001b[39m=\u001b[39m tf\u001b[39m.\u001b[39mreduce_max(ind)\u001b[39m+\u001b[39m\u001b[39m1\u001b[39m\n",
      "File \u001b[0;32m~/miniforge3/envs/pinn2/lib/python3.9/site-packages/tensorflow/python/keras/engine/base_layer.py:1030\u001b[0m, in \u001b[0;36mLayer.__call__\u001b[0;34m(self, *args, **kwargs)\u001b[0m\n\u001b[1;32m   <a href='file:///Users/miguelnavaharris/miniforge3/envs/pinn2/lib/python3.9/site-packages/tensorflow/python/keras/engine/base_layer.py?line=1025'>1026</a>\u001b[0m   inputs \u001b[39m=\u001b[39m \u001b[39mself\u001b[39m\u001b[39m.\u001b[39m_maybe_cast_inputs(inputs, input_list)\n\u001b[1;32m   <a href='file:///Users/miguelnavaharris/miniforge3/envs/pinn2/lib/python3.9/site-packages/tensorflow/python/keras/engine/base_layer.py?line=1027'>1028</a>\u001b[0m \u001b[39mwith\u001b[39;00m autocast_variable\u001b[39m.\u001b[39menable_auto_cast_variables(\n\u001b[1;32m   <a href='file:///Users/miguelnavaharris/miniforge3/envs/pinn2/lib/python3.9/site-packages/tensorflow/python/keras/engine/base_layer.py?line=1028'>1029</a>\u001b[0m     \u001b[39mself\u001b[39m\u001b[39m.\u001b[39m_compute_dtype_object):\n\u001b[0;32m-> <a href='file:///Users/miguelnavaharris/miniforge3/envs/pinn2/lib/python3.9/site-packages/tensorflow/python/keras/engine/base_layer.py?line=1029'>1030</a>\u001b[0m   outputs \u001b[39m=\u001b[39m call_fn(inputs, \u001b[39m*\u001b[39;49margs, \u001b[39m*\u001b[39;49m\u001b[39m*\u001b[39;49mkwargs)\n\u001b[1;32m   <a href='file:///Users/miguelnavaharris/miniforge3/envs/pinn2/lib/python3.9/site-packages/tensorflow/python/keras/engine/base_layer.py?line=1031'>1032</a>\u001b[0m \u001b[39mif\u001b[39;00m \u001b[39mself\u001b[39m\u001b[39m.\u001b[39m_activity_regularizer:\n\u001b[1;32m   <a href='file:///Users/miguelnavaharris/miniforge3/envs/pinn2/lib/python3.9/site-packages/tensorflow/python/keras/engine/base_layer.py?line=1032'>1033</a>\u001b[0m   \u001b[39mself\u001b[39m\u001b[39m.\u001b[39m_handle_activity_regularization(inputs, outputs)\n",
      "File \u001b[0;32m~/PiNN/pinn/networks/pinet.py:219\u001b[0m, in \u001b[0;36mPiNet.call\u001b[0;34m(self, tensors)\u001b[0m\n\u001b[1;32m    <a href='file:///Users/miguelnavaharris/PiNN/pinn/networks/pinet.py?line=217'>218</a>\u001b[0m \u001b[39mdef\u001b[39;00m \u001b[39mcall\u001b[39m(\u001b[39mself\u001b[39m, tensors):\n\u001b[0;32m--> <a href='file:///Users/miguelnavaharris/PiNN/pinn/networks/pinet.py?line=218'>219</a>\u001b[0m     tensors \u001b[39m=\u001b[39m \u001b[39mself\u001b[39;49m\u001b[39m.\u001b[39;49mpreprocess(tensors)\n\u001b[1;32m    <a href='file:///Users/miguelnavaharris/PiNN/pinn/networks/pinet.py?line=219'>220</a>\u001b[0m     basis \u001b[39m=\u001b[39m \u001b[39mself\u001b[39m\u001b[39m.\u001b[39mbasis_fn(tensors[\u001b[39m'\u001b[39m\u001b[39mdist\u001b[39m\u001b[39m'\u001b[39m])[:, \u001b[39mNone\u001b[39;00m, :]\n\u001b[1;32m    <a href='file:///Users/miguelnavaharris/PiNN/pinn/networks/pinet.py?line=221'>222</a>\u001b[0m     output \u001b[39m=\u001b[39m \u001b[39m0.0\u001b[39m\n",
      "File \u001b[0;32m~/miniforge3/envs/pinn2/lib/python3.9/site-packages/tensorflow/python/keras/engine/base_layer.py:1030\u001b[0m, in \u001b[0;36mLayer.__call__\u001b[0;34m(self, *args, **kwargs)\u001b[0m\n\u001b[1;32m   <a href='file:///Users/miguelnavaharris/miniforge3/envs/pinn2/lib/python3.9/site-packages/tensorflow/python/keras/engine/base_layer.py?line=1025'>1026</a>\u001b[0m   inputs \u001b[39m=\u001b[39m \u001b[39mself\u001b[39m\u001b[39m.\u001b[39m_maybe_cast_inputs(inputs, input_list)\n\u001b[1;32m   <a href='file:///Users/miguelnavaharris/miniforge3/envs/pinn2/lib/python3.9/site-packages/tensorflow/python/keras/engine/base_layer.py?line=1027'>1028</a>\u001b[0m \u001b[39mwith\u001b[39;00m autocast_variable\u001b[39m.\u001b[39menable_auto_cast_variables(\n\u001b[1;32m   <a href='file:///Users/miguelnavaharris/miniforge3/envs/pinn2/lib/python3.9/site-packages/tensorflow/python/keras/engine/base_layer.py?line=1028'>1029</a>\u001b[0m     \u001b[39mself\u001b[39m\u001b[39m.\u001b[39m_compute_dtype_object):\n\u001b[0;32m-> <a href='file:///Users/miguelnavaharris/miniforge3/envs/pinn2/lib/python3.9/site-packages/tensorflow/python/keras/engine/base_layer.py?line=1029'>1030</a>\u001b[0m   outputs \u001b[39m=\u001b[39m call_fn(inputs, \u001b[39m*\u001b[39;49margs, \u001b[39m*\u001b[39;49m\u001b[39m*\u001b[39;49mkwargs)\n\u001b[1;32m   <a href='file:///Users/miguelnavaharris/miniforge3/envs/pinn2/lib/python3.9/site-packages/tensorflow/python/keras/engine/base_layer.py?line=1031'>1032</a>\u001b[0m \u001b[39mif\u001b[39;00m \u001b[39mself\u001b[39m\u001b[39m.\u001b[39m_activity_regularizer:\n\u001b[1;32m   <a href='file:///Users/miguelnavaharris/miniforge3/envs/pinn2/lib/python3.9/site-packages/tensorflow/python/keras/engine/base_layer.py?line=1032'>1033</a>\u001b[0m   \u001b[39mself\u001b[39m\u001b[39m.\u001b[39m_handle_activity_regularization(inputs, outputs)\n",
      "File \u001b[0;32m~/PiNN/pinn/networks/pinet.py:142\u001b[0m, in \u001b[0;36mPreprocessLayer.call\u001b[0;34m(self, tensors)\u001b[0m\n\u001b[1;32m    <a href='file:///Users/miguelnavaharris/PiNN/pinn/networks/pinet.py?line=139'>140</a>\u001b[0m         tensors[k] \u001b[39m=\u001b[39m tf\u001b[39m.\u001b[39mreshape(tensors[k], tf\u001b[39m.\u001b[39mshape(tensors[k])[:\u001b[39m1\u001b[39m])\n\u001b[1;32m    <a href='file:///Users/miguelnavaharris/PiNN/pinn/networks/pinet.py?line=140'>141</a>\u001b[0m \u001b[39mif\u001b[39;00m \u001b[39m'\u001b[39m\u001b[39mind_2\u001b[39m\u001b[39m'\u001b[39m \u001b[39mnot\u001b[39;00m \u001b[39min\u001b[39;00m tensors:\n\u001b[0;32m--> <a href='file:///Users/miguelnavaharris/PiNN/pinn/networks/pinet.py?line=141'>142</a>\u001b[0m     tensors\u001b[39m.\u001b[39mupdate(\u001b[39mself\u001b[39;49m\u001b[39m.\u001b[39;49mnl_layer(tensors))\n\u001b[1;32m    <a href='file:///Users/miguelnavaharris/PiNN/pinn/networks/pinet.py?line=142'>143</a>\u001b[0m     tensors[\u001b[39m'\u001b[39m\u001b[39mprop\u001b[39m\u001b[39m'\u001b[39m] \u001b[39m=\u001b[39m tf\u001b[39m.\u001b[39mcast(\n\u001b[1;32m    <a href='file:///Users/miguelnavaharris/PiNN/pinn/networks/pinet.py?line=143'>144</a>\u001b[0m         \u001b[39mself\u001b[39m\u001b[39m.\u001b[39membed(tensors[\u001b[39m'\u001b[39m\u001b[39melems\u001b[39m\u001b[39m'\u001b[39m]), tensors[\u001b[39m'\u001b[39m\u001b[39mcoord\u001b[39m\u001b[39m'\u001b[39m]\u001b[39m.\u001b[39mdtype)\n\u001b[1;32m    <a href='file:///Users/miguelnavaharris/PiNN/pinn/networks/pinet.py?line=144'>145</a>\u001b[0m \u001b[39mreturn\u001b[39;00m tensors\n",
      "File \u001b[0;32m~/miniforge3/envs/pinn2/lib/python3.9/site-packages/tensorflow/python/keras/engine/base_layer.py:1030\u001b[0m, in \u001b[0;36mLayer.__call__\u001b[0;34m(self, *args, **kwargs)\u001b[0m\n\u001b[1;32m   <a href='file:///Users/miguelnavaharris/miniforge3/envs/pinn2/lib/python3.9/site-packages/tensorflow/python/keras/engine/base_layer.py?line=1025'>1026</a>\u001b[0m   inputs \u001b[39m=\u001b[39m \u001b[39mself\u001b[39m\u001b[39m.\u001b[39m_maybe_cast_inputs(inputs, input_list)\n\u001b[1;32m   <a href='file:///Users/miguelnavaharris/miniforge3/envs/pinn2/lib/python3.9/site-packages/tensorflow/python/keras/engine/base_layer.py?line=1027'>1028</a>\u001b[0m \u001b[39mwith\u001b[39;00m autocast_variable\u001b[39m.\u001b[39menable_auto_cast_variables(\n\u001b[1;32m   <a href='file:///Users/miguelnavaharris/miniforge3/envs/pinn2/lib/python3.9/site-packages/tensorflow/python/keras/engine/base_layer.py?line=1028'>1029</a>\u001b[0m     \u001b[39mself\u001b[39m\u001b[39m.\u001b[39m_compute_dtype_object):\n\u001b[0;32m-> <a href='file:///Users/miguelnavaharris/miniforge3/envs/pinn2/lib/python3.9/site-packages/tensorflow/python/keras/engine/base_layer.py?line=1029'>1030</a>\u001b[0m   outputs \u001b[39m=\u001b[39m call_fn(inputs, \u001b[39m*\u001b[39;49margs, \u001b[39m*\u001b[39;49m\u001b[39m*\u001b[39;49mkwargs)\n\u001b[1;32m   <a href='file:///Users/miguelnavaharris/miniforge3/envs/pinn2/lib/python3.9/site-packages/tensorflow/python/keras/engine/base_layer.py?line=1031'>1032</a>\u001b[0m \u001b[39mif\u001b[39;00m \u001b[39mself\u001b[39m\u001b[39m.\u001b[39m_activity_regularizer:\n\u001b[1;32m   <a href='file:///Users/miguelnavaharris/miniforge3/envs/pinn2/lib/python3.9/site-packages/tensorflow/python/keras/engine/base_layer.py?line=1032'>1033</a>\u001b[0m   \u001b[39mself\u001b[39m\u001b[39m.\u001b[39m_handle_activity_regularization(inputs, outputs)\n",
      "File \u001b[0;32m~/PiNN/pinn/layers.py:122\u001b[0m, in \u001b[0;36mCellListNL.call\u001b[0;34m(self, tensors)\u001b[0m\n\u001b[1;32m    <a href='file:///Users/miguelnavaharris/PiNN/pinn/layers.py?line=119'>120</a>\u001b[0m coll_nind \u001b[39m=\u001b[39m tf\u001b[39m.\u001b[39mgather(cell_nind, tf\u001b[39m.\u001b[39mgather_nd(atom_cind, to_collect))\n\u001b[1;32m    <a href='file:///Users/miguelnavaharris/PiNN/pinn/layers.py?line=120'>121</a>\u001b[0m pair_ic \u001b[39m=\u001b[39m tf\u001b[39m.\u001b[39mcast(tf\u001b[39m.\u001b[39mwhere(coll_nind), tf\u001b[39m.\u001b[39mint32)\n\u001b[0;32m--> <a href='file:///Users/miguelnavaharris/PiNN/pinn/layers.py?line=121'>122</a>\u001b[0m pair_ic_i \u001b[39m=\u001b[39m pair_ic[:, \u001b[39m0\u001b[39;49m]\n\u001b[1;32m    <a href='file:///Users/miguelnavaharris/PiNN/pinn/layers.py?line=122'>123</a>\u001b[0m pair_ic_c \u001b[39m=\u001b[39m tf\u001b[39m.\u001b[39mgather_nd(coll_nind, pair_ic) \u001b[39m-\u001b[39m \u001b[39m1\u001b[39m\n\u001b[1;32m    <a href='file:///Users/miguelnavaharris/PiNN/pinn/layers.py?line=123'>124</a>\u001b[0m pair_ic_alst \u001b[39m=\u001b[39m tf\u001b[39m.\u001b[39mgather(cell_alst, pair_ic_c)\n",
      "File \u001b[0;32m~/miniforge3/envs/pinn2/lib/python3.9/site-packages/tensorflow/python/util/dispatch.py:206\u001b[0m, in \u001b[0;36madd_dispatch_support.<locals>.wrapper\u001b[0;34m(*args, **kwargs)\u001b[0m\n\u001b[1;32m    <a href='file:///Users/miguelnavaharris/miniforge3/envs/pinn2/lib/python3.9/site-packages/tensorflow/python/util/dispatch.py?line=203'>204</a>\u001b[0m \u001b[39m\"\"\"Call target, and fall back on dispatchers if there is a TypeError.\"\"\"\u001b[39;00m\n\u001b[1;32m    <a href='file:///Users/miguelnavaharris/miniforge3/envs/pinn2/lib/python3.9/site-packages/tensorflow/python/util/dispatch.py?line=204'>205</a>\u001b[0m \u001b[39mtry\u001b[39;00m:\n\u001b[0;32m--> <a href='file:///Users/miguelnavaharris/miniforge3/envs/pinn2/lib/python3.9/site-packages/tensorflow/python/util/dispatch.py?line=205'>206</a>\u001b[0m   \u001b[39mreturn\u001b[39;00m target(\u001b[39m*\u001b[39;49margs, \u001b[39m*\u001b[39;49m\u001b[39m*\u001b[39;49mkwargs)\n\u001b[1;32m    <a href='file:///Users/miguelnavaharris/miniforge3/envs/pinn2/lib/python3.9/site-packages/tensorflow/python/util/dispatch.py?line=206'>207</a>\u001b[0m \u001b[39mexcept\u001b[39;00m (\u001b[39mTypeError\u001b[39;00m, \u001b[39mValueError\u001b[39;00m):\n\u001b[1;32m    <a href='file:///Users/miguelnavaharris/miniforge3/envs/pinn2/lib/python3.9/site-packages/tensorflow/python/util/dispatch.py?line=207'>208</a>\u001b[0m   \u001b[39m# Note: convert_to_eager_tensor currently raises a ValueError, not a\u001b[39;00m\n\u001b[1;32m    <a href='file:///Users/miguelnavaharris/miniforge3/envs/pinn2/lib/python3.9/site-packages/tensorflow/python/util/dispatch.py?line=208'>209</a>\u001b[0m   \u001b[39m# TypeError, when given unexpected types.  So we need to catch both.\u001b[39;00m\n\u001b[1;32m    <a href='file:///Users/miguelnavaharris/miniforge3/envs/pinn2/lib/python3.9/site-packages/tensorflow/python/util/dispatch.py?line=209'>210</a>\u001b[0m   result \u001b[39m=\u001b[39m dispatch(wrapper, args, kwargs)\n",
      "File \u001b[0;32m~/miniforge3/envs/pinn2/lib/python3.9/site-packages/tensorflow/python/ops/array_ops.py:1040\u001b[0m, in \u001b[0;36m_slice_helper\u001b[0;34m(tensor, slice_spec, var)\u001b[0m\n\u001b[1;32m   <a href='file:///Users/miguelnavaharris/miniforge3/envs/pinn2/lib/python3.9/site-packages/tensorflow/python/ops/array_ops.py?line=1037'>1038</a>\u001b[0m   var_empty \u001b[39m=\u001b[39m constant([], dtype\u001b[39m=\u001b[39mdtypes\u001b[39m.\u001b[39mint32)\n\u001b[1;32m   <a href='file:///Users/miguelnavaharris/miniforge3/envs/pinn2/lib/python3.9/site-packages/tensorflow/python/ops/array_ops.py?line=1038'>1039</a>\u001b[0m   packed_begin \u001b[39m=\u001b[39m packed_end \u001b[39m=\u001b[39m packed_strides \u001b[39m=\u001b[39m var_empty\n\u001b[0;32m-> <a href='file:///Users/miguelnavaharris/miniforge3/envs/pinn2/lib/python3.9/site-packages/tensorflow/python/ops/array_ops.py?line=1039'>1040</a>\u001b[0m \u001b[39mreturn\u001b[39;00m strided_slice(\n\u001b[1;32m   <a href='file:///Users/miguelnavaharris/miniforge3/envs/pinn2/lib/python3.9/site-packages/tensorflow/python/ops/array_ops.py?line=1040'>1041</a>\u001b[0m     tensor,\n\u001b[1;32m   <a href='file:///Users/miguelnavaharris/miniforge3/envs/pinn2/lib/python3.9/site-packages/tensorflow/python/ops/array_ops.py?line=1041'>1042</a>\u001b[0m     packed_begin,\n\u001b[1;32m   <a href='file:///Users/miguelnavaharris/miniforge3/envs/pinn2/lib/python3.9/site-packages/tensorflow/python/ops/array_ops.py?line=1042'>1043</a>\u001b[0m     packed_end,\n\u001b[1;32m   <a href='file:///Users/miguelnavaharris/miniforge3/envs/pinn2/lib/python3.9/site-packages/tensorflow/python/ops/array_ops.py?line=1043'>1044</a>\u001b[0m     packed_strides,\n\u001b[1;32m   <a href='file:///Users/miguelnavaharris/miniforge3/envs/pinn2/lib/python3.9/site-packages/tensorflow/python/ops/array_ops.py?line=1044'>1045</a>\u001b[0m     begin_mask\u001b[39m=\u001b[39;49mbegin_mask,\n\u001b[1;32m   <a href='file:///Users/miguelnavaharris/miniforge3/envs/pinn2/lib/python3.9/site-packages/tensorflow/python/ops/array_ops.py?line=1045'>1046</a>\u001b[0m     end_mask\u001b[39m=\u001b[39;49mend_mask,\n\u001b[1;32m   <a href='file:///Users/miguelnavaharris/miniforge3/envs/pinn2/lib/python3.9/site-packages/tensorflow/python/ops/array_ops.py?line=1046'>1047</a>\u001b[0m     shrink_axis_mask\u001b[39m=\u001b[39;49mshrink_axis_mask,\n\u001b[1;32m   <a href='file:///Users/miguelnavaharris/miniforge3/envs/pinn2/lib/python3.9/site-packages/tensorflow/python/ops/array_ops.py?line=1047'>1048</a>\u001b[0m     new_axis_mask\u001b[39m=\u001b[39;49mnew_axis_mask,\n\u001b[1;32m   <a href='file:///Users/miguelnavaharris/miniforge3/envs/pinn2/lib/python3.9/site-packages/tensorflow/python/ops/array_ops.py?line=1048'>1049</a>\u001b[0m     ellipsis_mask\u001b[39m=\u001b[39;49mellipsis_mask,\n\u001b[1;32m   <a href='file:///Users/miguelnavaharris/miniforge3/envs/pinn2/lib/python3.9/site-packages/tensorflow/python/ops/array_ops.py?line=1049'>1050</a>\u001b[0m     var\u001b[39m=\u001b[39;49mvar,\n\u001b[1;32m   <a href='file:///Users/miguelnavaharris/miniforge3/envs/pinn2/lib/python3.9/site-packages/tensorflow/python/ops/array_ops.py?line=1050'>1051</a>\u001b[0m     name\u001b[39m=\u001b[39;49mname)\n",
      "File \u001b[0;32m~/miniforge3/envs/pinn2/lib/python3.9/site-packages/tensorflow/python/util/dispatch.py:206\u001b[0m, in \u001b[0;36madd_dispatch_support.<locals>.wrapper\u001b[0;34m(*args, **kwargs)\u001b[0m\n\u001b[1;32m    <a href='file:///Users/miguelnavaharris/miniforge3/envs/pinn2/lib/python3.9/site-packages/tensorflow/python/util/dispatch.py?line=203'>204</a>\u001b[0m \u001b[39m\"\"\"Call target, and fall back on dispatchers if there is a TypeError.\"\"\"\u001b[39;00m\n\u001b[1;32m    <a href='file:///Users/miguelnavaharris/miniforge3/envs/pinn2/lib/python3.9/site-packages/tensorflow/python/util/dispatch.py?line=204'>205</a>\u001b[0m \u001b[39mtry\u001b[39;00m:\n\u001b[0;32m--> <a href='file:///Users/miguelnavaharris/miniforge3/envs/pinn2/lib/python3.9/site-packages/tensorflow/python/util/dispatch.py?line=205'>206</a>\u001b[0m   \u001b[39mreturn\u001b[39;00m target(\u001b[39m*\u001b[39;49margs, \u001b[39m*\u001b[39;49m\u001b[39m*\u001b[39;49mkwargs)\n\u001b[1;32m    <a href='file:///Users/miguelnavaharris/miniforge3/envs/pinn2/lib/python3.9/site-packages/tensorflow/python/util/dispatch.py?line=206'>207</a>\u001b[0m \u001b[39mexcept\u001b[39;00m (\u001b[39mTypeError\u001b[39;00m, \u001b[39mValueError\u001b[39;00m):\n\u001b[1;32m    <a href='file:///Users/miguelnavaharris/miniforge3/envs/pinn2/lib/python3.9/site-packages/tensorflow/python/util/dispatch.py?line=207'>208</a>\u001b[0m   \u001b[39m# Note: convert_to_eager_tensor currently raises a ValueError, not a\u001b[39;00m\n\u001b[1;32m    <a href='file:///Users/miguelnavaharris/miniforge3/envs/pinn2/lib/python3.9/site-packages/tensorflow/python/util/dispatch.py?line=208'>209</a>\u001b[0m   \u001b[39m# TypeError, when given unexpected types.  So we need to catch both.\u001b[39;00m\n\u001b[1;32m    <a href='file:///Users/miguelnavaharris/miniforge3/envs/pinn2/lib/python3.9/site-packages/tensorflow/python/util/dispatch.py?line=209'>210</a>\u001b[0m   result \u001b[39m=\u001b[39m dispatch(wrapper, args, kwargs)\n",
      "File \u001b[0;32m~/miniforge3/envs/pinn2/lib/python3.9/site-packages/tensorflow/python/ops/array_ops.py:1213\u001b[0m, in \u001b[0;36mstrided_slice\u001b[0;34m(input_, begin, end, strides, begin_mask, end_mask, ellipsis_mask, new_axis_mask, shrink_axis_mask, var, name)\u001b[0m\n\u001b[1;32m   <a href='file:///Users/miguelnavaharris/miniforge3/envs/pinn2/lib/python3.9/site-packages/tensorflow/python/ops/array_ops.py?line=1209'>1210</a>\u001b[0m \u001b[39mif\u001b[39;00m strides \u001b[39mis\u001b[39;00m \u001b[39mNone\u001b[39;00m:\n\u001b[1;32m   <a href='file:///Users/miguelnavaharris/miniforge3/envs/pinn2/lib/python3.9/site-packages/tensorflow/python/ops/array_ops.py?line=1210'>1211</a>\u001b[0m   strides \u001b[39m=\u001b[39m ones_like(begin)\n\u001b[0;32m-> <a href='file:///Users/miguelnavaharris/miniforge3/envs/pinn2/lib/python3.9/site-packages/tensorflow/python/ops/array_ops.py?line=1212'>1213</a>\u001b[0m op \u001b[39m=\u001b[39m gen_array_ops\u001b[39m.\u001b[39;49mstrided_slice(\n\u001b[1;32m   <a href='file:///Users/miguelnavaharris/miniforge3/envs/pinn2/lib/python3.9/site-packages/tensorflow/python/ops/array_ops.py?line=1213'>1214</a>\u001b[0m     \u001b[39minput\u001b[39;49m\u001b[39m=\u001b[39;49minput_,\n\u001b[1;32m   <a href='file:///Users/miguelnavaharris/miniforge3/envs/pinn2/lib/python3.9/site-packages/tensorflow/python/ops/array_ops.py?line=1214'>1215</a>\u001b[0m     begin\u001b[39m=\u001b[39;49mbegin,\n\u001b[1;32m   <a href='file:///Users/miguelnavaharris/miniforge3/envs/pinn2/lib/python3.9/site-packages/tensorflow/python/ops/array_ops.py?line=1215'>1216</a>\u001b[0m     end\u001b[39m=\u001b[39;49mend,\n\u001b[1;32m   <a href='file:///Users/miguelnavaharris/miniforge3/envs/pinn2/lib/python3.9/site-packages/tensorflow/python/ops/array_ops.py?line=1216'>1217</a>\u001b[0m     strides\u001b[39m=\u001b[39;49mstrides,\n\u001b[1;32m   <a href='file:///Users/miguelnavaharris/miniforge3/envs/pinn2/lib/python3.9/site-packages/tensorflow/python/ops/array_ops.py?line=1217'>1218</a>\u001b[0m     name\u001b[39m=\u001b[39;49mname,\n\u001b[1;32m   <a href='file:///Users/miguelnavaharris/miniforge3/envs/pinn2/lib/python3.9/site-packages/tensorflow/python/ops/array_ops.py?line=1218'>1219</a>\u001b[0m     begin_mask\u001b[39m=\u001b[39;49mbegin_mask,\n\u001b[1;32m   <a href='file:///Users/miguelnavaharris/miniforge3/envs/pinn2/lib/python3.9/site-packages/tensorflow/python/ops/array_ops.py?line=1219'>1220</a>\u001b[0m     end_mask\u001b[39m=\u001b[39;49mend_mask,\n\u001b[1;32m   <a href='file:///Users/miguelnavaharris/miniforge3/envs/pinn2/lib/python3.9/site-packages/tensorflow/python/ops/array_ops.py?line=1220'>1221</a>\u001b[0m     ellipsis_mask\u001b[39m=\u001b[39;49mellipsis_mask,\n\u001b[1;32m   <a href='file:///Users/miguelnavaharris/miniforge3/envs/pinn2/lib/python3.9/site-packages/tensorflow/python/ops/array_ops.py?line=1221'>1222</a>\u001b[0m     new_axis_mask\u001b[39m=\u001b[39;49mnew_axis_mask,\n\u001b[1;32m   <a href='file:///Users/miguelnavaharris/miniforge3/envs/pinn2/lib/python3.9/site-packages/tensorflow/python/ops/array_ops.py?line=1222'>1223</a>\u001b[0m     shrink_axis_mask\u001b[39m=\u001b[39;49mshrink_axis_mask)\n\u001b[1;32m   <a href='file:///Users/miguelnavaharris/miniforge3/envs/pinn2/lib/python3.9/site-packages/tensorflow/python/ops/array_ops.py?line=1224'>1225</a>\u001b[0m parent_name \u001b[39m=\u001b[39m name\n\u001b[1;32m   <a href='file:///Users/miguelnavaharris/miniforge3/envs/pinn2/lib/python3.9/site-packages/tensorflow/python/ops/array_ops.py?line=1226'>1227</a>\u001b[0m \u001b[39mif\u001b[39;00m var \u001b[39mis\u001b[39;00m \u001b[39mnot\u001b[39;00m \u001b[39mNone\u001b[39;00m:\n",
      "File \u001b[0;32m~/miniforge3/envs/pinn2/lib/python3.9/site-packages/tensorflow/python/ops/gen_array_ops.py:10499\u001b[0m, in \u001b[0;36mstrided_slice\u001b[0;34m(input, begin, end, strides, begin_mask, end_mask, ellipsis_mask, new_axis_mask, shrink_axis_mask, name)\u001b[0m\n\u001b[1;32m  <a href='file:///Users/miguelnavaharris/miniforge3/envs/pinn2/lib/python3.9/site-packages/tensorflow/python/ops/gen_array_ops.py?line=10496'>10497</a>\u001b[0m \u001b[39mif\u001b[39;00m tld\u001b[39m.\u001b[39mis_eager:\n\u001b[1;32m  <a href='file:///Users/miguelnavaharris/miniforge3/envs/pinn2/lib/python3.9/site-packages/tensorflow/python/ops/gen_array_ops.py?line=10497'>10498</a>\u001b[0m   \u001b[39mtry\u001b[39;00m:\n\u001b[0;32m> <a href='file:///Users/miguelnavaharris/miniforge3/envs/pinn2/lib/python3.9/site-packages/tensorflow/python/ops/gen_array_ops.py?line=10498'>10499</a>\u001b[0m     _result \u001b[39m=\u001b[39m pywrap_tfe\u001b[39m.\u001b[39;49mTFE_Py_FastPathExecute(\n\u001b[1;32m  <a href='file:///Users/miguelnavaharris/miniforge3/envs/pinn2/lib/python3.9/site-packages/tensorflow/python/ops/gen_array_ops.py?line=10499'>10500</a>\u001b[0m       _ctx, \u001b[39m\"\u001b[39;49m\u001b[39mStridedSlice\u001b[39;49m\u001b[39m\"\u001b[39;49m, name, \u001b[39minput\u001b[39;49m, begin, end, strides, \u001b[39m\"\u001b[39;49m\u001b[39mbegin_mask\u001b[39;49m\u001b[39m\"\u001b[39;49m,\n\u001b[1;32m  <a href='file:///Users/miguelnavaharris/miniforge3/envs/pinn2/lib/python3.9/site-packages/tensorflow/python/ops/gen_array_ops.py?line=10500'>10501</a>\u001b[0m       begin_mask, \u001b[39m\"\u001b[39;49m\u001b[39mend_mask\u001b[39;49m\u001b[39m\"\u001b[39;49m, end_mask, \u001b[39m\"\u001b[39;49m\u001b[39mellipsis_mask\u001b[39;49m\u001b[39m\"\u001b[39;49m, ellipsis_mask,\n\u001b[1;32m  <a href='file:///Users/miguelnavaharris/miniforge3/envs/pinn2/lib/python3.9/site-packages/tensorflow/python/ops/gen_array_ops.py?line=10501'>10502</a>\u001b[0m       \u001b[39m\"\u001b[39;49m\u001b[39mnew_axis_mask\u001b[39;49m\u001b[39m\"\u001b[39;49m, new_axis_mask, \u001b[39m\"\u001b[39;49m\u001b[39mshrink_axis_mask\u001b[39;49m\u001b[39m\"\u001b[39;49m, shrink_axis_mask)\n\u001b[1;32m  <a href='file:///Users/miguelnavaharris/miniforge3/envs/pinn2/lib/python3.9/site-packages/tensorflow/python/ops/gen_array_ops.py?line=10502'>10503</a>\u001b[0m     \u001b[39mreturn\u001b[39;00m _result\n\u001b[1;32m  <a href='file:///Users/miguelnavaharris/miniforge3/envs/pinn2/lib/python3.9/site-packages/tensorflow/python/ops/gen_array_ops.py?line=10503'>10504</a>\u001b[0m   \u001b[39mexcept\u001b[39;00m _core\u001b[39m.\u001b[39m_NotOkStatusException \u001b[39mas\u001b[39;00m e:\n",
      "\u001b[0;31mKeyboardInterrupt\u001b[0m: "
     ]
    }
   ],
   "source": [
    "import time\n",
    "import gc\n",
    "# 64, 128, 256, 300, 350, 400, 450, 500, \n",
    "batch_sizes = [256, 256, 512, 550, 600, 1024, 2048]\n",
    "for batch_size in batch_sizes:\n",
    "    \n",
    "    # Set up summary writers    \n",
    "    train_log_dir = '/Users/miguelnavaharris/Project/tensorboard_logs/batch_sizes/train/' + str(batch_size)\n",
    "    test_log_dir = '/Users/miguelnavaharris/Project/tensorboard_logs/batch_sizes/test/' + str(batch_size)\n",
    "    train_summary_writer = tf.summary.create_file_writer(train_log_dir)\n",
    "    test_summary_writer = tf.summary.create_file_writer(test_log_dir)\n",
    "    network = get_network(params['network'])\n",
    "\n",
    "    start_time = time.time()    \n",
    "    train_and_evaluate_network(batch_size=batch_size, epochs=1)\n",
    "    with train_summary_writer.as_default():\n",
    "        tf.summary.scalar(f'Run time', (time.time() - start_time), step=batch_size)\n",
    "    \n",
    "    del network \n",
    "    gc.collect()      \n",
    "    tf.keras.backend.clear_session()\n",
    "    \n",
    "    \n",
    "\n",
    "    "
   ]
  },
  {
   "cell_type": "code",
   "execution_count": 2,
   "metadata": {},
   "outputs": [
    {
     "name": "stdout",
     "output_type": "stream",
     "text": [
      "The tensorboard extension is already loaded. To reload it, use:\n",
      "  %reload_ext tensorboard\n"
     ]
    },
    {
     "data": {
      "text/plain": [
       "Reusing TensorBoard on port 6006 (pid 41693), started 0:00:14 ago. (Use '!kill 41693' to kill it.)"
      ]
     },
     "metadata": {},
     "output_type": "display_data"
    },
    {
     "data": {
      "text/html": [
       "\n",
       "      <iframe id=\"tensorboard-frame-6f33e43e294c1239\" width=\"100%\" height=\"800\" frameborder=\"0\">\n",
       "      </iframe>\n",
       "      <script>\n",
       "        (function() {\n",
       "          const frame = document.getElementById(\"tensorboard-frame-6f33e43e294c1239\");\n",
       "          const url = new URL(\"http://localhost\");\n",
       "          const port = 6006;\n",
       "          if (port) {\n",
       "            url.port = port;\n",
       "          }\n",
       "          frame.src = url;\n",
       "        })();\n",
       "      </script>\n",
       "    "
      ],
      "text/plain": [
       "<IPython.core.display.HTML object>"
      ]
     },
     "metadata": {},
     "output_type": "display_data"
    }
   ],
   "source": [
    "%load_ext tensorboard\n",
    "%tensorboard --logdir /Users/miguelnavaharris/Project/tensorboard_logs/batch_sizes"
   ]
  },
  {
   "cell_type": "code",
   "execution_count": 22,
   "metadata": {},
   "outputs": [],
   "source": [
    "def _generator(molecule):\n",
    "        data = {'coord': molecule.positions,\n",
    "                'ind_1': np.zeros([len(molecule), 1]),\n",
    "                'elems': molecule.numbers}\n",
    "        yield data\n",
    "\n",
    "def predict_energy(molecule, network=None, params=None):\n",
    "        '''Takes an ASE Atoms object and outputs PiNet's energy prediction'''\n",
    "        dtype=tf.float32\n",
    "        dtypes = {'coord': dtype, 'elems': tf.int32, 'ind_1': tf.int32}\n",
    "        shapes = {'coord': [None, 3], 'elems': [None], 'ind_1': [None, 1]}\n",
    "\n",
    "        pred_dataset = tf.data.Dataset.from_generator(lambda:_generator(molecule), dtypes, shapes)\n",
    "\n",
    "        for molecule in pred_dataset:\n",
    "                print('unprocessed molecule:', molecule)\n",
    "                molecule = network.preprocess(molecule)\n",
    "                print('preprocessed molecule:', molecule)\n",
    "                pred = network(molecule, training=False)\n",
    "                ind = molecule['ind_1']\n",
    "                nbatch = tf.reduce_max(ind)+1\n",
    "                pred = pred/params['e_scale']\n",
    "                if params['e_dress']:\n",
    "                        pred += atomic_dress(molecule, params['e_dress'], dtype=pred.dtype)\n",
    "                energy_prediction = tf.math.unsorted_segment_sum(pred, ind[:, 0], nbatch)\n",
    "                energy_prediction_numpy = energy_prediction.numpy()[0]\n",
    "        return energy_prediction_numpy"
   ]
  },
  {
   "cell_type": "code",
   "execution_count": 23,
   "metadata": {},
   "outputs": [
    {
     "data": {
      "text/plain": [
       "{'coord': array([[ 0.      ,  0.      ,  0.      ],\n",
       "        [ 0.629118,  0.629118,  0.629118],\n",
       "        [-0.629118, -0.629118,  0.629118],\n",
       "        [ 0.629118, -0.629118, -0.629118],\n",
       "        [-0.629118,  0.629118, -0.629118]]),\n",
       " 'ind_1': array([[0.],\n",
       "        [0.],\n",
       "        [0.],\n",
       "        [0.],\n",
       "        [0.]]),\n",
       " 'elems': array([6, 1, 1, 1, 1])}"
      ]
     },
     "execution_count": 23,
     "metadata": {},
     "output_type": "execute_result"
    }
   ],
   "source": [
    "next(_generator(g2['CH4']))"
   ]
  },
  {
   "cell_type": "code",
   "execution_count": 24,
   "metadata": {},
   "outputs": [
    {
     "data": {
      "text/plain": [
       "(5, 3)"
      ]
     },
     "execution_count": 24,
     "metadata": {},
     "output_type": "execute_result"
    }
   ],
   "source": [
    "g2['CH4'].positions.shape"
   ]
  },
  {
   "cell_type": "code",
   "execution_count": null,
   "metadata": {},
   "outputs": [],
   "source": [
    "from ase import Atoms\n",
    "atoms = Atoms('H3')"
   ]
  },
  {
   "cell_type": "code",
   "execution_count": 25,
   "metadata": {},
   "outputs": [
    {
     "name": "stdout",
     "output_type": "stream",
     "text": [
      "unprocessed molecule: {'coord': <tf.Tensor: shape=(5, 3), dtype=float32, numpy=\n",
      "array([[ 0.      ,  0.      ,  0.      ],\n",
      "       [ 0.629118,  0.629118,  0.629118],\n",
      "       [-0.629118, -0.629118,  0.629118],\n",
      "       [ 0.629118, -0.629118, -0.629118],\n",
      "       [-0.629118,  0.629118, -0.629118]], dtype=float32)>, 'elems': <tf.Tensor: shape=(5,), dtype=int32, numpy=array([6, 1, 1, 1, 1], dtype=int32)>, 'ind_1': <tf.Tensor: shape=(5, 1), dtype=int32, numpy=\n",
      "array([[0],\n",
      "       [0],\n",
      "       [0],\n",
      "       [0],\n",
      "       [0]], dtype=int32)>}\n",
      "preprocessed molecule: {'coord': <tf.Tensor: shape=(5, 3), dtype=float32, numpy=\n",
      "array([[ 0.      ,  0.      ,  0.      ],\n",
      "       [ 0.629118,  0.629118,  0.629118],\n",
      "       [-0.629118, -0.629118,  0.629118],\n",
      "       [ 0.629118, -0.629118, -0.629118],\n",
      "       [-0.629118,  0.629118, -0.629118]], dtype=float32)>, 'elems': <tf.Tensor: shape=(5,), dtype=int32, numpy=array([6, 1, 1, 1, 1], dtype=int32)>, 'ind_1': <tf.Tensor: shape=(5, 1), dtype=int32, numpy=\n",
      "array([[0],\n",
      "       [0],\n",
      "       [0],\n",
      "       [0],\n",
      "       [0]], dtype=int32)>, 'ind_2': <tf.Tensor: shape=(20, 2), dtype=int32, numpy=\n",
      "array([[0, 1],\n",
      "       [0, 2],\n",
      "       [0, 3],\n",
      "       [0, 4],\n",
      "       [1, 0],\n",
      "       [1, 2],\n",
      "       [1, 3],\n",
      "       [1, 4],\n",
      "       [2, 0],\n",
      "       [2, 1],\n",
      "       [2, 3],\n",
      "       [2, 4],\n",
      "       [3, 0],\n",
      "       [3, 1],\n",
      "       [3, 2],\n",
      "       [3, 4],\n",
      "       [4, 0],\n",
      "       [4, 1],\n",
      "       [4, 2],\n",
      "       [4, 3]], dtype=int32)>, 'dist': <tf.Tensor: shape=(20,), dtype=float32, numpy=\n",
      "array([1.0896645, 1.0896645, 1.0896645, 1.0896645, 1.0896645, 1.7794147,\n",
      "       1.7794147, 1.7794147, 1.0896645, 1.7794147, 1.7794147, 1.7794147,\n",
      "       1.0896645, 1.7794147, 1.7794147, 1.7794147, 1.0896645, 1.7794147,\n",
      "       1.7794147, 1.7794147], dtype=float32)>, 'diff': <tf.Tensor: shape=(20, 3), dtype=float32, numpy=\n",
      "array([[ 0.629118,  0.629118,  0.629118],\n",
      "       [-0.629118, -0.629118,  0.629118],\n",
      "       [ 0.629118, -0.629118, -0.629118],\n",
      "       [-0.629118,  0.629118, -0.629118],\n",
      "       [-0.629118, -0.629118, -0.629118],\n",
      "       [-1.258236, -1.258236,  0.      ],\n",
      "       [ 0.      , -1.258236, -1.258236],\n",
      "       [-1.258236,  0.      , -1.258236],\n",
      "       [ 0.629118,  0.629118, -0.629118],\n",
      "       [ 1.258236,  1.258236,  0.      ],\n",
      "       [ 1.258236,  0.      , -1.258236],\n",
      "       [ 0.      ,  1.258236, -1.258236],\n",
      "       [-0.629118,  0.629118,  0.629118],\n",
      "       [ 0.      ,  1.258236,  1.258236],\n",
      "       [-1.258236,  0.      ,  1.258236],\n",
      "       [-1.258236,  1.258236,  0.      ],\n",
      "       [ 0.629118, -0.629118,  0.629118],\n",
      "       [ 1.258236,  0.      ,  1.258236],\n",
      "       [ 0.      , -1.258236,  1.258236],\n",
      "       [ 1.258236, -1.258236,  0.      ]], dtype=float32)>, 'prop': <tf.Tensor: shape=(5, 5), dtype=float32, numpy=\n",
      "array([[0., 1., 0., 0., 0.],\n",
      "       [1., 0., 0., 0., 0.],\n",
      "       [1., 0., 0., 0., 0.],\n",
      "       [1., 0., 0., 0., 0.],\n",
      "       [1., 0., 0., 0., 0.]], dtype=float32)>}\n"
     ]
    },
    {
     "data": {
      "text/plain": [
       "-69.87514"
      ]
     },
     "execution_count": 25,
     "metadata": {},
     "output_type": "execute_result"
    }
   ],
   "source": [
    "predict_energy(g2['CH4'], network=network, params=params)"
   ]
  },
  {
   "cell_type": "markdown",
   "metadata": {},
   "source": [
    "# Trying shifted softplus activation function"
   ]
  },
  {
   "cell_type": "code",
   "execution_count": 7,
   "metadata": {},
   "outputs": [],
   "source": [
    "from keras import backend as K\n",
    "\n",
    "def shifted_softplus(x):\n",
    "    return K.log((0.5*K.exp(x) + 0.5))"
   ]
  },
  {
   "cell_type": "code",
   "execution_count": 8,
   "metadata": {},
   "outputs": [],
   "source": [
    "params = {'optimizer': {'class_name': 'Adam', 'config': {'learning_rate': {'class_name': 'ExponentialDecay', 'config': {'initial_learning_rate': 0.0003, 'decay_steps': 10000, 'decay_rate': 0.994}}, 'clipnorm': 0.01}}, 'network': {'name': 'PiNet', 'params': {'depth': 4, 'rc': 4.0, 'atom_types': [1, 6, 7, 8, 9], 'act': shifted_softplus}}}"
   ]
  },
  {
   "cell_type": "code",
   "execution_count": 9,
   "metadata": {},
   "outputs": [
    {
     "name": "stdout",
     "output_type": "stream",
     "text": [
      "<pinn.networks.pinet.PiNet object at 0x1561291c0>\n"
     ]
    }
   ],
   "source": [
    "network = get_network(params['network'])\n",
    "print(network)"
   ]
  },
  {
   "cell_type": "code",
   "execution_count": 10,
   "metadata": {},
   "outputs": [
    {
     "name": "stdout",
     "output_type": "stream",
     "text": [
      "Beginning preprocessing\n"
     ]
    },
    {
     "name": "stderr",
     "output_type": "stream",
     "text": [
      "2022-05-02 23:23:43.055585: I tensorflow/compiler/mlir/mlir_graph_optimization_pass.cc:176] None of the MLIR Optimization Passes are enabled (registered 2)\n",
      "2022-05-02 23:23:43.055804: W tensorflow/core/platform/profile_utils/cpu_utils.cc:128] Failed to get CPU frequency: 0 Hz\n"
     ]
    },
    {
     "name": "stdout",
     "output_type": "stream",
     "text": [
      "Preprocessing time: 30.652596950531006 s\n",
      "\n",
      "Start of epoch 0\n",
      "Training loss (for one batch) at step 0: 167856.28125\n",
      "Seen so far: 256 molecules\n",
      "Training time for 100 batches: 0.7871158123016357 s\n",
      "Training loss (for one batch) at step 100: 16509.40234375\n",
      "Seen so far: 25856 molecules\n",
      "Training time for 100 batches: 55.31004500389099 s\n",
      "Training loss (for one batch) at step 200: 9751.76953125\n",
      "Seen so far: 51456 molecules\n",
      "Training time for 100 batches: 73.94835209846497 s\n",
      "Training loss (for one batch) at step 300: 1401.6837158203125\n",
      "Seen so far: 77056 molecules\n",
      "Training time for 100 batches: 79.28515601158142 s\n",
      "Training loss (for one batch) at step 400: 1084.839111328125\n",
      "Seen so far: 102656 molecules\n",
      "Training time for 100 batches: 90.64542889595032 s\n",
      "Training time for epoch 1: 317.0185399055481 s\n",
      "Calculating training error for epoch 1\n"
     ]
    },
    {
     "ename": "KeyboardInterrupt",
     "evalue": "",
     "output_type": "error",
     "traceback": [
      "\u001b[0;31m---------------------------------------------------------------------------\u001b[0m",
      "\u001b[0;31mKeyboardInterrupt\u001b[0m                         Traceback (most recent call last)",
      "\u001b[1;32m/Users/miguelnavaharris/PiNN/docs/notebooks/network_fns.ipynb Cell 17'\u001b[0m in \u001b[0;36m<cell line: 1>\u001b[0;34m()\u001b[0m\n\u001b[0;32m----> <a href='vscode-notebook-cell:/Users/miguelnavaharris/PiNN/docs/notebooks/network_fns.ipynb#ch0000036?line=0'>1</a>\u001b[0m train_and_evaluate_network()\n",
      "\u001b[1;32m/Users/miguelnavaharris/PiNN/docs/notebooks/network_fns.ipynb Cell 8'\u001b[0m in \u001b[0;36mtrain_and_evaluate_network\u001b[0;34m(batch_size, epochs)\u001b[0m\n\u001b[1;32m     <a href='vscode-notebook-cell:/Users/miguelnavaharris/PiNN/docs/notebooks/network_fns.ipynb#ch0000009?line=62'>63</a>\u001b[0m \u001b[39mprint\u001b[39m(\u001b[39mf\u001b[39m\u001b[39m'\u001b[39m\u001b[39mCalculating training error for epoch \u001b[39m\u001b[39m{\u001b[39;00m(epoch \u001b[39m+\u001b[39m \u001b[39m1\u001b[39m)\u001b[39m}\u001b[39;00m\u001b[39m'\u001b[39m)\n\u001b[1;32m     <a href='vscode-notebook-cell:/Users/miguelnavaharris/PiNN/docs/notebooks/network_fns.ipynb#ch0000009?line=63'>64</a>\u001b[0m \u001b[39mfor\u001b[39;00m batch \u001b[39min\u001b[39;00m train_set:\n\u001b[0;32m---> <a href='vscode-notebook-cell:/Users/miguelnavaharris/PiNN/docs/notebooks/network_fns.ipynb#ch0000009?line=64'>65</a>\u001b[0m     pred \u001b[39m=\u001b[39m network(batch, training\u001b[39m=\u001b[39;49m\u001b[39mFalse\u001b[39;49;00m)  \u001b[39m# Logits for this minibatch\u001b[39;00m\n\u001b[1;32m     <a href='vscode-notebook-cell:/Users/miguelnavaharris/PiNN/docs/notebooks/network_fns.ipynb#ch0000009?line=66'>67</a>\u001b[0m     ind \u001b[39m=\u001b[39m batch[\u001b[39m'\u001b[39m\u001b[39mind_1\u001b[39m\u001b[39m'\u001b[39m]\n\u001b[1;32m     <a href='vscode-notebook-cell:/Users/miguelnavaharris/PiNN/docs/notebooks/network_fns.ipynb#ch0000009?line=67'>68</a>\u001b[0m     nbatch \u001b[39m=\u001b[39m tf\u001b[39m.\u001b[39mreduce_max(ind)\u001b[39m+\u001b[39m\u001b[39m1\u001b[39m\n",
      "File \u001b[0;32m~/miniforge3/envs/pinn2/lib/python3.9/site-packages/tensorflow/python/keras/engine/base_layer.py:1030\u001b[0m, in \u001b[0;36mLayer.__call__\u001b[0;34m(self, *args, **kwargs)\u001b[0m\n\u001b[1;32m   <a href='file:///Users/miguelnavaharris/miniforge3/envs/pinn2/lib/python3.9/site-packages/tensorflow/python/keras/engine/base_layer.py?line=1025'>1026</a>\u001b[0m   inputs \u001b[39m=\u001b[39m \u001b[39mself\u001b[39m\u001b[39m.\u001b[39m_maybe_cast_inputs(inputs, input_list)\n\u001b[1;32m   <a href='file:///Users/miguelnavaharris/miniforge3/envs/pinn2/lib/python3.9/site-packages/tensorflow/python/keras/engine/base_layer.py?line=1027'>1028</a>\u001b[0m \u001b[39mwith\u001b[39;00m autocast_variable\u001b[39m.\u001b[39menable_auto_cast_variables(\n\u001b[1;32m   <a href='file:///Users/miguelnavaharris/miniforge3/envs/pinn2/lib/python3.9/site-packages/tensorflow/python/keras/engine/base_layer.py?line=1028'>1029</a>\u001b[0m     \u001b[39mself\u001b[39m\u001b[39m.\u001b[39m_compute_dtype_object):\n\u001b[0;32m-> <a href='file:///Users/miguelnavaharris/miniforge3/envs/pinn2/lib/python3.9/site-packages/tensorflow/python/keras/engine/base_layer.py?line=1029'>1030</a>\u001b[0m   outputs \u001b[39m=\u001b[39m call_fn(inputs, \u001b[39m*\u001b[39;49margs, \u001b[39m*\u001b[39;49m\u001b[39m*\u001b[39;49mkwargs)\n\u001b[1;32m   <a href='file:///Users/miguelnavaharris/miniforge3/envs/pinn2/lib/python3.9/site-packages/tensorflow/python/keras/engine/base_layer.py?line=1031'>1032</a>\u001b[0m \u001b[39mif\u001b[39;00m \u001b[39mself\u001b[39m\u001b[39m.\u001b[39m_activity_regularizer:\n\u001b[1;32m   <a href='file:///Users/miguelnavaharris/miniforge3/envs/pinn2/lib/python3.9/site-packages/tensorflow/python/keras/engine/base_layer.py?line=1032'>1033</a>\u001b[0m   \u001b[39mself\u001b[39m\u001b[39m.\u001b[39m_handle_activity_regularization(inputs, outputs)\n",
      "File \u001b[0;32m~/PiNN/pinn/networks/pinet.py:219\u001b[0m, in \u001b[0;36mPiNet.call\u001b[0;34m(self, tensors)\u001b[0m\n\u001b[1;32m    <a href='file:///Users/miguelnavaharris/PiNN/pinn/networks/pinet.py?line=217'>218</a>\u001b[0m \u001b[39mdef\u001b[39;00m \u001b[39mcall\u001b[39m(\u001b[39mself\u001b[39m, tensors):\n\u001b[0;32m--> <a href='file:///Users/miguelnavaharris/PiNN/pinn/networks/pinet.py?line=218'>219</a>\u001b[0m     tensors \u001b[39m=\u001b[39m \u001b[39mself\u001b[39;49m\u001b[39m.\u001b[39;49mpreprocess(tensors)\n\u001b[1;32m    <a href='file:///Users/miguelnavaharris/PiNN/pinn/networks/pinet.py?line=219'>220</a>\u001b[0m     basis \u001b[39m=\u001b[39m \u001b[39mself\u001b[39m\u001b[39m.\u001b[39mbasis_fn(tensors[\u001b[39m'\u001b[39m\u001b[39mdist\u001b[39m\u001b[39m'\u001b[39m])[:, \u001b[39mNone\u001b[39;00m, :]\n\u001b[1;32m    <a href='file:///Users/miguelnavaharris/PiNN/pinn/networks/pinet.py?line=221'>222</a>\u001b[0m     output \u001b[39m=\u001b[39m \u001b[39m0.0\u001b[39m\n",
      "File \u001b[0;32m~/miniforge3/envs/pinn2/lib/python3.9/site-packages/tensorflow/python/keras/engine/base_layer.py:1030\u001b[0m, in \u001b[0;36mLayer.__call__\u001b[0;34m(self, *args, **kwargs)\u001b[0m\n\u001b[1;32m   <a href='file:///Users/miguelnavaharris/miniforge3/envs/pinn2/lib/python3.9/site-packages/tensorflow/python/keras/engine/base_layer.py?line=1025'>1026</a>\u001b[0m   inputs \u001b[39m=\u001b[39m \u001b[39mself\u001b[39m\u001b[39m.\u001b[39m_maybe_cast_inputs(inputs, input_list)\n\u001b[1;32m   <a href='file:///Users/miguelnavaharris/miniforge3/envs/pinn2/lib/python3.9/site-packages/tensorflow/python/keras/engine/base_layer.py?line=1027'>1028</a>\u001b[0m \u001b[39mwith\u001b[39;00m autocast_variable\u001b[39m.\u001b[39menable_auto_cast_variables(\n\u001b[1;32m   <a href='file:///Users/miguelnavaharris/miniforge3/envs/pinn2/lib/python3.9/site-packages/tensorflow/python/keras/engine/base_layer.py?line=1028'>1029</a>\u001b[0m     \u001b[39mself\u001b[39m\u001b[39m.\u001b[39m_compute_dtype_object):\n\u001b[0;32m-> <a href='file:///Users/miguelnavaharris/miniforge3/envs/pinn2/lib/python3.9/site-packages/tensorflow/python/keras/engine/base_layer.py?line=1029'>1030</a>\u001b[0m   outputs \u001b[39m=\u001b[39m call_fn(inputs, \u001b[39m*\u001b[39;49margs, \u001b[39m*\u001b[39;49m\u001b[39m*\u001b[39;49mkwargs)\n\u001b[1;32m   <a href='file:///Users/miguelnavaharris/miniforge3/envs/pinn2/lib/python3.9/site-packages/tensorflow/python/keras/engine/base_layer.py?line=1031'>1032</a>\u001b[0m \u001b[39mif\u001b[39;00m \u001b[39mself\u001b[39m\u001b[39m.\u001b[39m_activity_regularizer:\n\u001b[1;32m   <a href='file:///Users/miguelnavaharris/miniforge3/envs/pinn2/lib/python3.9/site-packages/tensorflow/python/keras/engine/base_layer.py?line=1032'>1033</a>\u001b[0m   \u001b[39mself\u001b[39m\u001b[39m.\u001b[39m_handle_activity_regularization(inputs, outputs)\n",
      "File \u001b[0;32m~/PiNN/pinn/networks/pinet.py:142\u001b[0m, in \u001b[0;36mPreprocessLayer.call\u001b[0;34m(self, tensors)\u001b[0m\n\u001b[1;32m    <a href='file:///Users/miguelnavaharris/PiNN/pinn/networks/pinet.py?line=139'>140</a>\u001b[0m         tensors[k] \u001b[39m=\u001b[39m tf\u001b[39m.\u001b[39mreshape(tensors[k], tf\u001b[39m.\u001b[39mshape(tensors[k])[:\u001b[39m1\u001b[39m])\n\u001b[1;32m    <a href='file:///Users/miguelnavaharris/PiNN/pinn/networks/pinet.py?line=140'>141</a>\u001b[0m \u001b[39mif\u001b[39;00m \u001b[39m'\u001b[39m\u001b[39mind_2\u001b[39m\u001b[39m'\u001b[39m \u001b[39mnot\u001b[39;00m \u001b[39min\u001b[39;00m tensors:\n\u001b[0;32m--> <a href='file:///Users/miguelnavaharris/PiNN/pinn/networks/pinet.py?line=141'>142</a>\u001b[0m     tensors\u001b[39m.\u001b[39mupdate(\u001b[39mself\u001b[39;49m\u001b[39m.\u001b[39;49mnl_layer(tensors))\n\u001b[1;32m    <a href='file:///Users/miguelnavaharris/PiNN/pinn/networks/pinet.py?line=142'>143</a>\u001b[0m     tensors[\u001b[39m'\u001b[39m\u001b[39mprop\u001b[39m\u001b[39m'\u001b[39m] \u001b[39m=\u001b[39m tf\u001b[39m.\u001b[39mcast(\n\u001b[1;32m    <a href='file:///Users/miguelnavaharris/PiNN/pinn/networks/pinet.py?line=143'>144</a>\u001b[0m         \u001b[39mself\u001b[39m\u001b[39m.\u001b[39membed(tensors[\u001b[39m'\u001b[39m\u001b[39melems\u001b[39m\u001b[39m'\u001b[39m]), tensors[\u001b[39m'\u001b[39m\u001b[39mcoord\u001b[39m\u001b[39m'\u001b[39m]\u001b[39m.\u001b[39mdtype)\n\u001b[1;32m    <a href='file:///Users/miguelnavaharris/PiNN/pinn/networks/pinet.py?line=144'>145</a>\u001b[0m \u001b[39mreturn\u001b[39;00m tensors\n",
      "File \u001b[0;32m~/miniforge3/envs/pinn2/lib/python3.9/site-packages/tensorflow/python/keras/engine/base_layer.py:1030\u001b[0m, in \u001b[0;36mLayer.__call__\u001b[0;34m(self, *args, **kwargs)\u001b[0m\n\u001b[1;32m   <a href='file:///Users/miguelnavaharris/miniforge3/envs/pinn2/lib/python3.9/site-packages/tensorflow/python/keras/engine/base_layer.py?line=1025'>1026</a>\u001b[0m   inputs \u001b[39m=\u001b[39m \u001b[39mself\u001b[39m\u001b[39m.\u001b[39m_maybe_cast_inputs(inputs, input_list)\n\u001b[1;32m   <a href='file:///Users/miguelnavaharris/miniforge3/envs/pinn2/lib/python3.9/site-packages/tensorflow/python/keras/engine/base_layer.py?line=1027'>1028</a>\u001b[0m \u001b[39mwith\u001b[39;00m autocast_variable\u001b[39m.\u001b[39menable_auto_cast_variables(\n\u001b[1;32m   <a href='file:///Users/miguelnavaharris/miniforge3/envs/pinn2/lib/python3.9/site-packages/tensorflow/python/keras/engine/base_layer.py?line=1028'>1029</a>\u001b[0m     \u001b[39mself\u001b[39m\u001b[39m.\u001b[39m_compute_dtype_object):\n\u001b[0;32m-> <a href='file:///Users/miguelnavaharris/miniforge3/envs/pinn2/lib/python3.9/site-packages/tensorflow/python/keras/engine/base_layer.py?line=1029'>1030</a>\u001b[0m   outputs \u001b[39m=\u001b[39m call_fn(inputs, \u001b[39m*\u001b[39;49margs, \u001b[39m*\u001b[39;49m\u001b[39m*\u001b[39;49mkwargs)\n\u001b[1;32m   <a href='file:///Users/miguelnavaharris/miniforge3/envs/pinn2/lib/python3.9/site-packages/tensorflow/python/keras/engine/base_layer.py?line=1031'>1032</a>\u001b[0m \u001b[39mif\u001b[39;00m \u001b[39mself\u001b[39m\u001b[39m.\u001b[39m_activity_regularizer:\n\u001b[1;32m   <a href='file:///Users/miguelnavaharris/miniforge3/envs/pinn2/lib/python3.9/site-packages/tensorflow/python/keras/engine/base_layer.py?line=1032'>1033</a>\u001b[0m   \u001b[39mself\u001b[39m\u001b[39m.\u001b[39m_handle_activity_regularization(inputs, outputs)\n",
      "File \u001b[0;32m~/PiNN/pinn/layers.py:85\u001b[0m, in \u001b[0;36mCellListNL.call\u001b[0;34m(self, tensors)\u001b[0m\n\u001b[1;32m     <a href='file:///Users/miguelnavaharris/PiNN/pinn/layers.py?line=81'>82</a>\u001b[0m cpos_shap \u001b[39m=\u001b[39m tf\u001b[39m.\u001b[39mconcat([tf\u001b[39m.\u001b[39mreduce_max(atom_cpos, axis\u001b[39m=\u001b[39m\u001b[39m0\u001b[39m) \u001b[39m+\u001b[39m \u001b[39m1\u001b[39m, [\u001b[39m1\u001b[39m]], axis\u001b[39m=\u001b[39m\u001b[39m0\u001b[39m)\n\u001b[1;32m     <a href='file:///Users/miguelnavaharris/PiNN/pinn/layers.py?line=82'>83</a>\u001b[0m samp_ccnt \u001b[39m=\u001b[39m tf\u001b[39m.\u001b[39msqueeze(tf\u001b[39m.\u001b[39mscatter_nd(\n\u001b[1;32m     <a href='file:///Users/miguelnavaharris/PiNN/pinn/layers.py?line=83'>84</a>\u001b[0m     atom_cpos, tf\u001b[39m.\u001b[39mones_like(atom_sind, tf\u001b[39m.\u001b[39mint32), cpos_shap), axis\u001b[39m=\u001b[39m\u001b[39m-\u001b[39m\u001b[39m1\u001b[39m)\n\u001b[0;32m---> <a href='file:///Users/miguelnavaharris/PiNN/pinn/layers.py?line=84'>85</a>\u001b[0m cell_cpos \u001b[39m=\u001b[39m tf\u001b[39m.\u001b[39;49mcast(tf\u001b[39m.\u001b[39;49mwhere(samp_ccnt), tf\u001b[39m.\u001b[39;49mint32)\n\u001b[1;32m     <a href='file:///Users/miguelnavaharris/PiNN/pinn/layers.py?line=85'>86</a>\u001b[0m cell_cind \u001b[39m=\u001b[39m tf\u001b[39m.\u001b[39mcumsum(tf\u001b[39m.\u001b[39mones(tf\u001b[39m.\u001b[39mshape(cell_cpos)[\u001b[39m0\u001b[39m], tf\u001b[39m.\u001b[39mint32))\n\u001b[1;32m     <a href='file:///Users/miguelnavaharris/PiNN/pinn/layers.py?line=86'>87</a>\u001b[0m cell_cind \u001b[39m=\u001b[39m tf\u001b[39m.\u001b[39mexpand_dims(cell_cind, \u001b[39m1\u001b[39m)\n",
      "File \u001b[0;32m~/miniforge3/envs/pinn2/lib/python3.9/site-packages/tensorflow/python/util/dispatch.py:206\u001b[0m, in \u001b[0;36madd_dispatch_support.<locals>.wrapper\u001b[0;34m(*args, **kwargs)\u001b[0m\n\u001b[1;32m    <a href='file:///Users/miguelnavaharris/miniforge3/envs/pinn2/lib/python3.9/site-packages/tensorflow/python/util/dispatch.py?line=203'>204</a>\u001b[0m \u001b[39m\"\"\"Call target, and fall back on dispatchers if there is a TypeError.\"\"\"\u001b[39;00m\n\u001b[1;32m    <a href='file:///Users/miguelnavaharris/miniforge3/envs/pinn2/lib/python3.9/site-packages/tensorflow/python/util/dispatch.py?line=204'>205</a>\u001b[0m \u001b[39mtry\u001b[39;00m:\n\u001b[0;32m--> <a href='file:///Users/miguelnavaharris/miniforge3/envs/pinn2/lib/python3.9/site-packages/tensorflow/python/util/dispatch.py?line=205'>206</a>\u001b[0m   \u001b[39mreturn\u001b[39;00m target(\u001b[39m*\u001b[39;49margs, \u001b[39m*\u001b[39;49m\u001b[39m*\u001b[39;49mkwargs)\n\u001b[1;32m    <a href='file:///Users/miguelnavaharris/miniforge3/envs/pinn2/lib/python3.9/site-packages/tensorflow/python/util/dispatch.py?line=206'>207</a>\u001b[0m \u001b[39mexcept\u001b[39;00m (\u001b[39mTypeError\u001b[39;00m, \u001b[39mValueError\u001b[39;00m):\n\u001b[1;32m    <a href='file:///Users/miguelnavaharris/miniforge3/envs/pinn2/lib/python3.9/site-packages/tensorflow/python/util/dispatch.py?line=207'>208</a>\u001b[0m   \u001b[39m# Note: convert_to_eager_tensor currently raises a ValueError, not a\u001b[39;00m\n\u001b[1;32m    <a href='file:///Users/miguelnavaharris/miniforge3/envs/pinn2/lib/python3.9/site-packages/tensorflow/python/util/dispatch.py?line=208'>209</a>\u001b[0m   \u001b[39m# TypeError, when given unexpected types.  So we need to catch both.\u001b[39;00m\n\u001b[1;32m    <a href='file:///Users/miguelnavaharris/miniforge3/envs/pinn2/lib/python3.9/site-packages/tensorflow/python/util/dispatch.py?line=209'>210</a>\u001b[0m   result \u001b[39m=\u001b[39m dispatch(wrapper, args, kwargs)\n",
      "File \u001b[0;32m~/miniforge3/envs/pinn2/lib/python3.9/site-packages/tensorflow/python/ops/math_ops.py:990\u001b[0m, in \u001b[0;36mcast\u001b[0;34m(x, dtype, name)\u001b[0m\n\u001b[1;32m    <a href='file:///Users/miguelnavaharris/miniforge3/envs/pinn2/lib/python3.9/site-packages/tensorflow/python/ops/math_ops.py?line=987'>988</a>\u001b[0m   x \u001b[39m=\u001b[39m ops\u001b[39m.\u001b[39mconvert_to_tensor(x, name\u001b[39m=\u001b[39m\u001b[39m\"\u001b[39m\u001b[39mx\u001b[39m\u001b[39m\"\u001b[39m)\n\u001b[1;32m    <a href='file:///Users/miguelnavaharris/miniforge3/envs/pinn2/lib/python3.9/site-packages/tensorflow/python/ops/math_ops.py?line=988'>989</a>\u001b[0m   \u001b[39mif\u001b[39;00m x\u001b[39m.\u001b[39mdtype\u001b[39m.\u001b[39mbase_dtype \u001b[39m!=\u001b[39m base_type:\n\u001b[0;32m--> <a href='file:///Users/miguelnavaharris/miniforge3/envs/pinn2/lib/python3.9/site-packages/tensorflow/python/ops/math_ops.py?line=989'>990</a>\u001b[0m     x \u001b[39m=\u001b[39m gen_math_ops\u001b[39m.\u001b[39;49mcast(x, base_type, name\u001b[39m=\u001b[39;49mname)\n\u001b[1;32m    <a href='file:///Users/miguelnavaharris/miniforge3/envs/pinn2/lib/python3.9/site-packages/tensorflow/python/ops/math_ops.py?line=990'>991</a>\u001b[0m \u001b[39mif\u001b[39;00m x\u001b[39m.\u001b[39mdtype\u001b[39m.\u001b[39mis_complex \u001b[39mand\u001b[39;00m base_type\u001b[39m.\u001b[39mis_floating:\n\u001b[1;32m    <a href='file:///Users/miguelnavaharris/miniforge3/envs/pinn2/lib/python3.9/site-packages/tensorflow/python/ops/math_ops.py?line=991'>992</a>\u001b[0m   logging\u001b[39m.\u001b[39mwarn(\u001b[39m\"\u001b[39m\u001b[39mCasting complex to real discards imaginary part.\u001b[39m\u001b[39m\"\u001b[39m)\n",
      "File \u001b[0;32m~/miniforge3/envs/pinn2/lib/python3.9/site-packages/tensorflow/python/ops/gen_math_ops.py:1874\u001b[0m, in \u001b[0;36mcast\u001b[0;34m(x, DstT, Truncate, name)\u001b[0m\n\u001b[1;32m   <a href='file:///Users/miguelnavaharris/miniforge3/envs/pinn2/lib/python3.9/site-packages/tensorflow/python/ops/gen_math_ops.py?line=1871'>1872</a>\u001b[0m \u001b[39mif\u001b[39;00m tld\u001b[39m.\u001b[39mis_eager:\n\u001b[1;32m   <a href='file:///Users/miguelnavaharris/miniforge3/envs/pinn2/lib/python3.9/site-packages/tensorflow/python/ops/gen_math_ops.py?line=1872'>1873</a>\u001b[0m   \u001b[39mtry\u001b[39;00m:\n\u001b[0;32m-> <a href='file:///Users/miguelnavaharris/miniforge3/envs/pinn2/lib/python3.9/site-packages/tensorflow/python/ops/gen_math_ops.py?line=1873'>1874</a>\u001b[0m     _result \u001b[39m=\u001b[39m pywrap_tfe\u001b[39m.\u001b[39;49mTFE_Py_FastPathExecute(\n\u001b[1;32m   <a href='file:///Users/miguelnavaharris/miniforge3/envs/pinn2/lib/python3.9/site-packages/tensorflow/python/ops/gen_math_ops.py?line=1874'>1875</a>\u001b[0m       _ctx, \u001b[39m\"\u001b[39;49m\u001b[39mCast\u001b[39;49m\u001b[39m\"\u001b[39;49m, name, x, \u001b[39m\"\u001b[39;49m\u001b[39mDstT\u001b[39;49m\u001b[39m\"\u001b[39;49m, DstT, \u001b[39m\"\u001b[39;49m\u001b[39mTruncate\u001b[39;49m\u001b[39m\"\u001b[39;49m, Truncate)\n\u001b[1;32m   <a href='file:///Users/miguelnavaharris/miniforge3/envs/pinn2/lib/python3.9/site-packages/tensorflow/python/ops/gen_math_ops.py?line=1875'>1876</a>\u001b[0m     \u001b[39mreturn\u001b[39;00m _result\n\u001b[1;32m   <a href='file:///Users/miguelnavaharris/miniforge3/envs/pinn2/lib/python3.9/site-packages/tensorflow/python/ops/gen_math_ops.py?line=1876'>1877</a>\u001b[0m   \u001b[39mexcept\u001b[39;00m _core\u001b[39m.\u001b[39m_NotOkStatusException \u001b[39mas\u001b[39;00m e:\n",
      "\u001b[0;31mKeyboardInterrupt\u001b[0m: "
     ]
    }
   ],
   "source": [
    "train_and_evaluate_network()"
   ]
  },
  {
   "cell_type": "code",
   "execution_count": 12,
   "metadata": {},
   "outputs": [
    {
     "name": "stdout",
     "output_type": "stream",
     "text": [
      "Model: \"pi_net\"\n",
      "_________________________________________________________________\n",
      "Layer (type)                 Output Shape              Param #   \n",
      "=================================================================\n",
      "preprocess_layer (Preprocess multiple                  0         \n",
      "_________________________________________________________________\n",
      "polynomial_basis (Polynomial multiple                  0         \n",
      "_________________________________________________________________\n",
      "res_update (ResUpdate)       multiple                  80        \n",
      "_________________________________________________________________\n",
      "res_update_1 (ResUpdate)     multiple                  0         \n",
      "_________________________________________________________________\n",
      "res_update_2 (ResUpdate)     multiple                  0         \n",
      "_________________________________________________________________\n",
      "res_update_3 (ResUpdate)     multiple                  0         \n",
      "_________________________________________________________________\n",
      "gc_block (GCBlock)           multiple                  1776      \n",
      "_________________________________________________________________\n",
      "gc_block_1 (GCBlock)         multiple                  2672      \n",
      "_________________________________________________________________\n",
      "gc_block_2 (GCBlock)         multiple                  2672      \n",
      "_________________________________________________________________\n",
      "gc_block_3 (GCBlock)         multiple                  2672      \n",
      "_________________________________________________________________\n",
      "out_layer (OutLayer)         multiple                  560       \n",
      "_________________________________________________________________\n",
      "out_layer_1 (OutLayer)       multiple                  560       \n",
      "_________________________________________________________________\n",
      "out_layer_2 (OutLayer)       multiple                  560       \n",
      "_________________________________________________________________\n",
      "out_layer_3 (OutLayer)       multiple                  560       \n",
      "_________________________________________________________________\n",
      "ann_output (ANNOutput)       multiple                  0         \n",
      "=================================================================\n",
      "Total params: 12,112\n",
      "Trainable params: 12,112\n",
      "Non-trainable params: 0\n",
      "_________________________________________________________________\n"
     ]
    }
   ],
   "source": [
    "network.summary()"
   ]
  },
  {
   "cell_type": "code",
   "execution_count": 13,
   "metadata": {},
   "outputs": [
    {
     "data": {
      "text/plain": [
       "{0: <pinn.networks.pinet.PreprocessLayer at 0x138ea7580>,\n",
       " 1: <pinn.layers.PolynomialBasis at 0x138ea7dc0>,\n",
       " 2: <pinn.networks.pinet.ResUpdate at 0x138ea72b0>,\n",
       " 3: <pinn.networks.pinet.ResUpdate at 0x138e80520>,\n",
       " 4: <pinn.networks.pinet.ResUpdate at 0x138e80430>,\n",
       " 5: <pinn.networks.pinet.ResUpdate at 0x138e80f40>,\n",
       " 6: <pinn.networks.pinet.GCBlock at 0x138e80e80>,\n",
       " 7: <pinn.networks.pinet.GCBlock at 0x12fc6ed60>,\n",
       " 8: <pinn.networks.pinet.GCBlock at 0x138f7bdc0>,\n",
       " 9: <pinn.networks.pinet.GCBlock at 0x138f8e400>,\n",
       " 10: <pinn.networks.pinet.OutLayer at 0x138ea7250>,\n",
       " 11: <pinn.networks.pinet.OutLayer at 0x138f95c70>,\n",
       " 12: <pinn.networks.pinet.OutLayer at 0x138f9edf0>,\n",
       " 13: <pinn.networks.pinet.OutLayer at 0x138fa6eb0>,\n",
       " 14: <pinn.layers.ANNOutput at 0x12fc6e490>}"
      ]
     },
     "execution_count": 13,
     "metadata": {},
     "output_type": "execute_result"
    }
   ],
   "source": [
    "dict = {i: v for i, v in enumerate(network.layers)}\n",
    "dict"
   ]
  },
  {
   "cell_type": "code",
   "execution_count": 12,
   "metadata": {},
   "outputs": [
    {
     "data": {
      "text/plain": [
       "<function __main__.shifted_softplus(x)>"
      ]
     },
     "execution_count": 12,
     "metadata": {},
     "output_type": "execute_result"
    }
   ],
   "source": [
    "network.activation"
   ]
  },
  {
   "cell_type": "code",
   "execution_count": 12,
   "metadata": {},
   "outputs": [],
   "source": [
    "train_loss = tf.keras.metrics.Mean('train_loss', dtype=tf.float32)"
   ]
  },
  {
   "cell_type": "code",
   "execution_count": null,
   "metadata": {},
   "outputs": [],
   "source": [
    "train_loss.result()"
   ]
  }
 ],
 "metadata": {
  "interpreter": {
   "hash": "d4025a0c18342a57b4a17c482f921a5b0f0c41971fda061095662d1f6a4a25c7"
  },
  "kernelspec": {
   "display_name": "Python 3.9.10 ('pinn2')",
   "language": "python",
   "name": "python3"
  },
  "language_info": {
   "codemirror_mode": {
    "name": "ipython",
    "version": 3
   },
   "file_extension": ".py",
   "mimetype": "text/x-python",
   "name": "python",
   "nbconvert_exporter": "python",
   "pygments_lexer": "ipython3",
   "version": "3.9.10"
  },
  "orig_nbformat": 4
 },
 "nbformat": 4,
 "nbformat_minor": 2
}
