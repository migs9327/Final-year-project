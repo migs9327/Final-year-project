{
 "cells": [
  {
   "cell_type": "code",
   "execution_count": 1,
   "metadata": {},
   "outputs": [],
   "source": [
    "import numpy as np\n",
    "import tensorflow as tf\n",
    "from pinn import get_network\n",
    "from pinn.utils import pi_named, atomic_dress, connect_dist_grad\n",
    "from pinn.models.base import export_model, get_train_op, MetricsCollector\n",
    "import os, warnings\n",
    "import tensorflow as tf\n",
    "from glob import glob\n",
    "from ase.collections import g2\n",
    "from pinn.io import load_qm9, sparse_batch\n",
    "from pinn import get_model, get_calc\n",
    "from pinn.models.potential import make_metrics\n",
    "from pinn.optimizers import get\n",
    "from tensorflow import keras"
   ]
  },
  {
   "cell_type": "code",
   "execution_count": 2,
   "metadata": {},
   "outputs": [
    {
     "name": "stdout",
     "output_type": "stream",
     "text": [
      "Metal device set to: Apple M1\n",
      "\n",
      "systemMemory: 16.00 GB\n",
      "maxCacheSize: 5.33 GB\n",
      "\n"
     ]
    },
    {
     "name": "stderr",
     "output_type": "stream",
     "text": [
      "2022-04-25 17:47:33.276899: I tensorflow/core/common_runtime/pluggable_device/pluggable_device_factory.cc:305] Could not identify NUMA node of platform GPU ID 0, defaulting to 0. Your kernel may not have been built with NUMA support.\n",
      "2022-04-25 17:47:33.277242: I tensorflow/core/common_runtime/pluggable_device/pluggable_device_factory.cc:271] Created TensorFlow device (/job:localhost/replica:0/task:0/device:GPU:0 with 0 MB memory) -> physical PluggableDevice (device: 0, name: METAL, pci bus id: <undefined>)\n"
     ]
    }
   ],
   "source": [
    "filelist = glob('/Users/miguelnavaharris/Project/QM9/*.xyz')\n",
    "dataset = lambda: load_qm9(filelist, splits={'train':8, 'test':2}) #lambda is being used here to assign execution of load_qm9 to the variable \"dataset\"\n",
    "train = dataset()['train'].shuffle(1000).apply(sparse_batch(256))\n",
    "test = dataset()['test'].apply(sparse_batch(256))"
   ]
  },
  {
   "cell_type": "code",
   "execution_count": 3,
   "metadata": {},
   "outputs": [],
   "source": [
    "params = {'optimizer': {'class_name': 'Adam', 'config': {'learning_rate': {'class_name': 'ExponentialDecay', 'config': {'initial_learning_rate': 0.0003, 'decay_steps': 10000, 'decay_rate': 0.994}}, 'clipnorm': 0.01}}, 'model_dir': '/Users/miguelnavaharris/Project/miguelmodels/isthisstillsaved', 'network': {'name': 'PiNet', 'params': {'depth': 4, 'rc': 4.0, 'atom_types': [1, 6, 7, 8, 9]}}, 'model': {'name': 'potential_model', 'params': {'learning_rate': 0.001}}}"
   ]
  },
  {
   "cell_type": "code",
   "execution_count": 4,
   "metadata": {},
   "outputs": [],
   "source": [
    "default_params = {\n",
    "    ### Scaling and units # The loss function will be MSE((pred - label) * scale)\n",
    "    # For vector/tensor predictions\n",
    "    # the error will be per-component instead of per-atom\n",
    "    # e_unit is the unit of energy to report w.r.t the input labels\n",
    "    # no f_unit yet, f_unit is just e_unit/input coordinate unit\n",
    "    # e.g. if one have input in Hartree, scales it by 100 for training\n",
    "    #      and output eV when report error\n",
    "    #      then e_scale should be 100, and e_unit = hartree2evp\n",
    "    'e_dress': {},  # element-specific energy dress\n",
    "    'e_scale': 1.0,  # energy scale for prediction\n",
    "    'e_unit': 1.0,  # output unit of energy during prediction\n",
    "    # Loss function options\n",
    "    ## Energy\n",
    "    'max_energy': False,        # if set to float, omit energies larger than it\n",
    "    'use_e_per_atom': False,    # use e_per_atom to calculate e_loss\n",
    "    'log_e_per_atom': False,    # log e_per_atom and its distribution\n",
    "                                # ^- this is forcely done if use_e_per_atom\n",
    "    'use_e_weight': False,      # scales the loss according to e_weight\n",
    "    ## Force\n",
    "    'use_force': False,         # include force in loss function\n",
    "    'max_force_comp': False,    # if set to float, omit forces components larger than it\n",
    "    'no_force_comp': False,     # if set to int, use as maximum number of force components for a update\n",
    "    'use_f_weight': False,      # scales the loss according to f_weights\n",
    "    ## Stress\n",
    "    'use_stress': False,        # include stress in Loss function\n",
    "    ## L2\n",
    "    'use_l2': False,\n",
    "    ## Loss function multipliers\n",
    "    'e_loss_multiplier': 1.0,\n",
    "    'f_loss_multiplier': 1.0,\n",
    "    's_loss_multiplier': 1.0,\n",
    "    'l2_loss_multiplier': 1.0,\n",
    "    'separate_errors': False,   # workaround at this point\n",
    "}"
   ]
  },
  {
   "cell_type": "code",
   "execution_count": 5,
   "metadata": {},
   "outputs": [
    {
     "name": "stdout",
     "output_type": "stream",
     "text": [
      "<pinn.networks.pinet.PiNet object at 0x16cd15400>\n"
     ]
    }
   ],
   "source": [
    "network = get_network(params['network'])\n",
    "print(network)"
   ]
  },
  {
   "cell_type": "code",
   "execution_count": 6,
   "metadata": {},
   "outputs": [],
   "source": [
    "model_params = default_params.copy()\n",
    "model_params.update(params['model']['params'])"
   ]
  },
  {
   "cell_type": "code",
   "execution_count": 7,
   "metadata": {},
   "outputs": [
    {
     "name": "stderr",
     "output_type": "stream",
     "text": [
      "2022-04-25 17:47:38.029436: W tensorflow/core/platform/profile_utils/cpu_utils.cc:128] Failed to get CPU frequency: 0 Hz\n"
     ]
    }
   ],
   "source": [
    "for batch in train:\n",
    "    batch = network.preprocess(batch)\n",
    "    connect_dist_grad(batch)\n",
    "for batch in test:\n",
    "    batch = network.preprocess(batch)\n",
    "    connect_dist_grad(batch)\n"
   ]
  },
  {
   "cell_type": "code",
   "execution_count": 8,
   "metadata": {},
   "outputs": [],
   "source": [
    "def get_compiled_model():\n",
    "    model = network\n",
    "    model.compile(\n",
    "        optimizer=get(params['optimizer']),\n",
    "        loss=keras.losses.mse,\n",
    "        metrics=[keras.metrics.RootMeanSquaredError],\n",
    "    )\n",
    "    return model"
   ]
  },
  {
   "cell_type": "code",
   "execution_count": 9,
   "metadata": {},
   "outputs": [
    {
     "ename": "TypeError",
     "evalue": "'property' object is not iterable",
     "output_type": "error",
     "traceback": [
      "\u001b[0;31m---------------------------------------------------------------------------\u001b[0m",
      "\u001b[0;31mTypeError\u001b[0m                                 Traceback (most recent call last)",
      "\u001b[1;32m/Users/miguelnavaharris/PiNN/docs/notebooks/test_notebook3.ipynb Cell 9'\u001b[0m in \u001b[0;36m<cell line: 1>\u001b[0;34m()\u001b[0m\n\u001b[0;32m----> <a href='vscode-notebook-cell:/Users/miguelnavaharris/PiNN/docs/notebooks/test_notebook3.ipynb#ch0000023?line=0'>1</a>\u001b[0m model \u001b[39m=\u001b[39m get_compiled_model()\n\u001b[1;32m      <a href='vscode-notebook-cell:/Users/miguelnavaharris/PiNN/docs/notebooks/test_notebook3.ipynb#ch0000023?line=1'>2</a>\u001b[0m model\u001b[39m.\u001b[39mfit(train, epochs\u001b[39m=\u001b[39m\u001b[39m2\u001b[39m,  validation_data\u001b[39m=\u001b[39mtest)\n",
      "\u001b[1;32m/Users/miguelnavaharris/PiNN/docs/notebooks/test_notebook3.ipynb Cell 8'\u001b[0m in \u001b[0;36mget_compiled_model\u001b[0;34m()\u001b[0m\n\u001b[1;32m      <a href='vscode-notebook-cell:/Users/miguelnavaharris/PiNN/docs/notebooks/test_notebook3.ipynb#ch0000022?line=0'>1</a>\u001b[0m \u001b[39mdef\u001b[39;00m \u001b[39mget_compiled_model\u001b[39m():\n\u001b[1;32m      <a href='vscode-notebook-cell:/Users/miguelnavaharris/PiNN/docs/notebooks/test_notebook3.ipynb#ch0000022?line=1'>2</a>\u001b[0m     model \u001b[39m=\u001b[39m network\n\u001b[0;32m----> <a href='vscode-notebook-cell:/Users/miguelnavaharris/PiNN/docs/notebooks/test_notebook3.ipynb#ch0000022?line=2'>3</a>\u001b[0m     model\u001b[39m.\u001b[39;49mcompile(\n\u001b[1;32m      <a href='vscode-notebook-cell:/Users/miguelnavaharris/PiNN/docs/notebooks/test_notebook3.ipynb#ch0000022?line=3'>4</a>\u001b[0m         optimizer\u001b[39m=\u001b[39;49mget(params[\u001b[39m'\u001b[39;49m\u001b[39moptimizer\u001b[39;49m\u001b[39m'\u001b[39;49m]),\n\u001b[1;32m      <a href='vscode-notebook-cell:/Users/miguelnavaharris/PiNN/docs/notebooks/test_notebook3.ipynb#ch0000022?line=4'>5</a>\u001b[0m         loss\u001b[39m=\u001b[39;49mkeras\u001b[39m.\u001b[39;49mlosses\u001b[39m.\u001b[39;49mmse,\n\u001b[1;32m      <a href='vscode-notebook-cell:/Users/miguelnavaharris/PiNN/docs/notebooks/test_notebook3.ipynb#ch0000022?line=5'>6</a>\u001b[0m         metrics\u001b[39m=\u001b[39;49m[keras\u001b[39m.\u001b[39;49mmetrics\u001b[39m.\u001b[39;49mRootMeanSquaredError],\n\u001b[1;32m      <a href='vscode-notebook-cell:/Users/miguelnavaharris/PiNN/docs/notebooks/test_notebook3.ipynb#ch0000022?line=6'>7</a>\u001b[0m     )\n\u001b[1;32m      <a href='vscode-notebook-cell:/Users/miguelnavaharris/PiNN/docs/notebooks/test_notebook3.ipynb#ch0000022?line=7'>8</a>\u001b[0m     \u001b[39mreturn\u001b[39;00m model\n",
      "File \u001b[0;32m~/miniforge3/envs/tffunction/lib/python3.9/site-packages/keras/utils/traceback_utils.py:67\u001b[0m, in \u001b[0;36mfilter_traceback.<locals>.error_handler\u001b[0;34m(*args, **kwargs)\u001b[0m\n\u001b[1;32m     <a href='file:///Users/miguelnavaharris/miniforge3/envs/tffunction/lib/python3.9/site-packages/keras/utils/traceback_utils.py?line=64'>65</a>\u001b[0m \u001b[39mexcept\u001b[39;00m \u001b[39mException\u001b[39;00m \u001b[39mas\u001b[39;00m e:  \u001b[39m# pylint: disable=broad-except\u001b[39;00m\n\u001b[1;32m     <a href='file:///Users/miguelnavaharris/miniforge3/envs/tffunction/lib/python3.9/site-packages/keras/utils/traceback_utils.py?line=65'>66</a>\u001b[0m   filtered_tb \u001b[39m=\u001b[39m _process_traceback_frames(e\u001b[39m.\u001b[39m__traceback__)\n\u001b[0;32m---> <a href='file:///Users/miguelnavaharris/miniforge3/envs/tffunction/lib/python3.9/site-packages/keras/utils/traceback_utils.py?line=66'>67</a>\u001b[0m   \u001b[39mraise\u001b[39;00m e\u001b[39m.\u001b[39mwith_traceback(filtered_tb) \u001b[39mfrom\u001b[39;00m \u001b[39mNone\u001b[39m\n\u001b[1;32m     <a href='file:///Users/miguelnavaharris/miniforge3/envs/tffunction/lib/python3.9/site-packages/keras/utils/traceback_utils.py?line=67'>68</a>\u001b[0m \u001b[39mfinally\u001b[39;00m:\n\u001b[1;32m     <a href='file:///Users/miguelnavaharris/miniforge3/envs/tffunction/lib/python3.9/site-packages/keras/utils/traceback_utils.py?line=68'>69</a>\u001b[0m   \u001b[39mdel\u001b[39;00m filtered_tb\n",
      "File \u001b[0;32m~/miniforge3/envs/tffunction/lib/python3.9/site-packages/keras/engine/training.py:3007\u001b[0m, in \u001b[0;36mModel._validate_compile\u001b[0;34m(self, optimizer, metrics, **kwargs)\u001b[0m\n\u001b[1;32m   <a href='file:///Users/miguelnavaharris/miniforge3/envs/tffunction/lib/python3.9/site-packages/keras/engine/training.py?line=3004'>3005</a>\u001b[0m strategy \u001b[39m=\u001b[39m \u001b[39mself\u001b[39m\u001b[39m.\u001b[39mdistribute_strategy\n\u001b[1;32m   <a href='file:///Users/miguelnavaharris/miniforge3/envs/tffunction/lib/python3.9/site-packages/keras/engine/training.py?line=3005'>3006</a>\u001b[0m \u001b[39mfor\u001b[39;00m metric \u001b[39min\u001b[39;00m tf\u001b[39m.\u001b[39mnest\u001b[39m.\u001b[39mflatten(metrics):\n\u001b[0;32m-> <a href='file:///Users/miguelnavaharris/miniforge3/envs/tffunction/lib/python3.9/site-packages/keras/engine/training.py?line=3006'>3007</a>\u001b[0m   \u001b[39mfor\u001b[39;00m v \u001b[39min\u001b[39;00m \u001b[39mgetattr\u001b[39m(metric, \u001b[39m'\u001b[39m\u001b[39mvariables\u001b[39m\u001b[39m'\u001b[39m, []):\n\u001b[1;32m   <a href='file:///Users/miguelnavaharris/miniforge3/envs/tffunction/lib/python3.9/site-packages/keras/engine/training.py?line=3007'>3008</a>\u001b[0m     \u001b[39mif\u001b[39;00m \u001b[39mnot\u001b[39;00m strategy\u001b[39m.\u001b[39mextended\u001b[39m.\u001b[39mvariable_created_in_scope(v):\n\u001b[1;32m   <a href='file:///Users/miguelnavaharris/miniforge3/envs/tffunction/lib/python3.9/site-packages/keras/engine/training.py?line=3008'>3009</a>\u001b[0m       \u001b[39mraise\u001b[39;00m \u001b[39mValueError\u001b[39;00m(\n\u001b[1;32m   <a href='file:///Users/miguelnavaharris/miniforge3/envs/tffunction/lib/python3.9/site-packages/keras/engine/training.py?line=3009'>3010</a>\u001b[0m           \u001b[39mf\u001b[39m\u001b[39m'\u001b[39m\u001b[39mMetric (\u001b[39m\u001b[39m{\u001b[39;00mmetric\u001b[39m}\u001b[39;00m\u001b[39m) passed to `model.compile` was created inside \u001b[39m\u001b[39m'\u001b[39m\n\u001b[1;32m   <a href='file:///Users/miguelnavaharris/miniforge3/envs/tffunction/lib/python3.9/site-packages/keras/engine/training.py?line=3010'>3011</a>\u001b[0m           \u001b[39m'\u001b[39m\u001b[39ma different distribution strategy scope than the model. All \u001b[39m\u001b[39m'\u001b[39m\n\u001b[0;32m   (...)\u001b[0m\n\u001b[1;32m   <a href='file:///Users/miguelnavaharris/miniforge3/envs/tffunction/lib/python3.9/site-packages/keras/engine/training.py?line=3015'>3016</a>\u001b[0m           \u001b[39m'\u001b[39m\u001b[39mstrategy scope.\u001b[39m\u001b[39m'\u001b[39m\n\u001b[1;32m   <a href='file:///Users/miguelnavaharris/miniforge3/envs/tffunction/lib/python3.9/site-packages/keras/engine/training.py?line=3016'>3017</a>\u001b[0m       )\n",
      "\u001b[0;31mTypeError\u001b[0m: 'property' object is not iterable"
     ]
    }
   ],
   "source": [
    "model = get_compiled_model()\n",
    "model.fit(train, epochs=2,  validation_data=test)"
   ]
  }
 ],
 "metadata": {
  "interpreter": {
   "hash": "d4025a0c18342a57b4a17c482f921a5b0f0c41971fda061095662d1f6a4a25c7"
  },
  "kernelspec": {
   "display_name": "Python 3.9.10 ('pinn2')",
   "language": "python",
   "name": "python3"
  },
  "language_info": {
   "codemirror_mode": {
    "name": "ipython",
    "version": 3
   },
   "file_extension": ".py",
   "mimetype": "text/x-python",
   "name": "python",
   "nbconvert_exporter": "python",
   "pygments_lexer": "ipython3",
   "version": "3.9.10"
  },
  "orig_nbformat": 4
 },
 "nbformat": 4,
 "nbformat_minor": 2
}
