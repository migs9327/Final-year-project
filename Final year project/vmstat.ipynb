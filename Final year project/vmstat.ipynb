{
 "cells": [
  {
   "cell_type": "code",
   "execution_count": 1,
   "metadata": {},
   "outputs": [],
   "source": [
    "import psutil"
   ]
  },
  {
   "cell_type": "code",
   "execution_count": 2,
   "metadata": {},
   "outputs": [],
   "source": [
    "def get_ram_and_swap_usage():\n",
    "    mem_info = psutil.virtual_memory()\n",
    "    ram_usage_mb = mem_info.used / (1024 * 1024)\n",
    "\n",
    "    swap_info = psutil.swap_memory()\n",
    "    swap_usage_mb = swap_info.used / (1024 * 1024)\n",
    "\n",
    "    return ram_usage_mb, swap_usage_mb"
   ]
  },
  {
   "cell_type": "code",
   "execution_count": null,
   "metadata": {},
   "outputs": [],
   "source": [
    "import subprocess\n",
    "import time\n",
    "import re\n",
    "import threading\n",
    "from functools import wraps\n",
    "import matplotlib.pyplot as plt\n",
    "\n",
    "def monitor_usage(func):\n",
    "    @wraps(func)\n",
    "    def wrapper(*args, **kwargs):\n",
    "        monitor_thread = threading.Thread(target=monitor, daemon=True)\n",
    "        monitor_thread.start()\n",
    "        result = func(*args, **kwargs)\n",
    "        global keep_monitoring\n",
    "        keep_monitoring = False\n",
    "        monitor_thread.join()\n",
    "        plot_data()\n",
    "        return result\n",
    "    return wrapper\n",
    "\n",
    "keep_monitoring = True\n",
    "ram_usage_data = []\n",
    "swap_usage_data = []\n",
    "\n",
    "def monitor():\n",
    "    global keep_monitoring\n",
    "    while keep_monitoring:\n",
    "        ram_usage_mb, swap_usage_mb = get_ram_and_swap_usage()\n",
    "        ram_usage_data.append(ram_usage_mb)\n",
    "        swap_usage_data.append(swap_usage_mb)\n",
    "        time.sleep(1)\n",
    "\n",
    "def plot_data():\n",
    "    plt.figure(figsize=(10, 5))\n",
    "    plt.plot(ram_usage_data, label='RAM Usage (MB)')\n",
    "    plt.plot(swap_usage_data, label='Swap Usage (MB)')\n",
    "    plt.xlabel('Time (seconds)')\n",
    "    plt.ylabel('Memory Usage (MB)')\n",
    "    plt.legend()\n",
    "    plt.show()\n",
    "\n",
    "# Add your function to monitor here and decorate it with @monitor_usage\n",
    "@monitor_usage\n",
    "def your_function():\n",
    "    # Your function implementation goes here\n",
    "    time.sleep(5)"
   ]
  }
 ],
 "metadata": {
  "interpreter": {
   "hash": "7d2dca5ff04745c24a12b1eaafe2ed2b92b4632c1d2e7bd797725dd5127e9eda"
  },
  "kernelspec": {
   "display_name": "Python 3.9.10 ('pinn')",
   "language": "python",
   "name": "python3"
  },
  "language_info": {
   "codemirror_mode": {
    "name": "ipython",
    "version": 3
   },
   "file_extension": ".py",
   "mimetype": "text/x-python",
   "name": "python",
   "nbconvert_exporter": "python",
   "pygments_lexer": "ipython3",
   "version": "3.9.10"
  },
  "orig_nbformat": 4
 },
 "nbformat": 4,
 "nbformat_minor": 2
}
