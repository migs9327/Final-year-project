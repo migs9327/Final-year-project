{
 "cells": [
  {
   "cell_type": "code",
   "execution_count": 1,
   "metadata": {},
   "outputs": [
    {
     "name": "stdout",
     "output_type": "stream",
     "text": [
      "Init Plugin\n",
      "Init Graph Optimizer\n",
      "Init Kernel\n"
     ]
    }
   ],
   "source": [
    "import numpy as np\n",
    "import tensorflow as tf\n",
    "from pinn import get_network\n",
    "from pinn.utils import connect_dist_grad\n",
    "from glob import glob\n",
    "from ase.collections import g2\n",
    "from pinn.io import load_qm9, sparse_batch\n",
    "from pinn.optimizers import get\n",
    "import psutil\n",
    "import os\n",
    "import time\n",
    "from pinn.layers import PolynomialBasis, GaussianBasis, ANNOutput\n",
    "from pinn.networks.pinet import OutLayer, GCBlock, ResUpdate, PreprocessLayer\n",
    "from pinn.utils import atomic_dress, get_atomic_dress\n",
    "from sklearn.metrics import mean_absolute_error\n",
    "import matplotlib.pyplot as plt\n",
    "from tensorflow.keras.callbacks import EarlyStopping\n",
    "import gc\n",
    "import csv\n",
    "from tensorflow.keras import backend as K"
   ]
  },
  {
   "cell_type": "code",
   "execution_count": 2,
   "metadata": {},
   "outputs": [
    {
     "name": "stdout",
     "output_type": "stream",
     "text": [
      "Metal device set to: Apple M1\n",
      "\n",
      "systemMemory: 16.00 GB\n",
      "maxCacheSize: 5.33 GB\n",
      "\n"
     ]
    },
    {
     "name": "stderr",
     "output_type": "stream",
     "text": [
      "2023-04-19 19:10:24.331005: I tensorflow/core/common_runtime/pluggable_device/pluggable_device_factory.cc:305] Could not identify NUMA node of platform GPU ID 0, defaulting to 0. Your kernel may not have been built with NUMA support.\n",
      "2023-04-19 19:10:24.331097: I tensorflow/core/common_runtime/pluggable_device/pluggable_device_factory.cc:271] Created TensorFlow device (/job:localhost/replica:0/task:0/device:GPU:0 with 0 MB memory) -> physical PluggableDevice (device: 0, name: METAL, pci bus id: <undefined>)\n",
      "2023-04-19 19:10:24.348323: I tensorflow/compiler/mlir/mlir_graph_optimization_pass.cc:176] None of the MLIR Optimization Passes are enabled (registered 2)\n",
      "2023-04-19 19:10:24.348440: W tensorflow/core/platform/profile_utils/cpu_utils.cc:128] Failed to get CPU frequency: 0 Hz\n"
     ]
    }
   ],
   "source": [
    "filelist = glob('/Users/miguelnavaharris/Project/QM9/*.xyz')[:100]\n",
    "dataset = load_qm9(filelist, splits={'train':8, 'test':2})\n",
    "dress, error = get_atomic_dress(dataset['train'],[1,6,7,8,9])"
   ]
  },
  {
   "cell_type": "code",
   "execution_count": 3,
   "metadata": {},
   "outputs": [],
   "source": [
    "def get_traintest_sets(dataset,batch_size, buffer_size=20000):\n",
    "    train_set = dataset['train'].cache().shuffle(buffer_size).apply(sparse_batch(batch_size))\n",
    "    test_set = dataset['test'].cache().apply(sparse_batch(batch_size))\n",
    "    return (train_set, test_set, batch_size)\n",
    "\n",
    "def get_dataset_size(dataset):\n",
    "    return len(list(dataset))\n",
    "    \n",
    "def preprocess_traintest_sets(train_set, test_set, network):\n",
    "    for batch in train_set:\n",
    "        batch = network.preprocess(batch)\n",
    "        connect_dist_grad(batch)\n",
    "    for batch in test_set:\n",
    "        batch = network.preprocess(batch)\n",
    "        connect_dist_grad(batch)\n",
    "\n",
    "def get_compiled_network(network):\n",
    "    optimizer = get(params['optimizer'])\n",
    "    loss_fn = tf.keras.losses.mse\n",
    "    network.compile(optimizer=optimizer, loss=loss_fn, metrics=[tf.keras.metrics.MeanAbsoluteError(), tf.keras.metrics.MeanSquaredError()]) #setting run_eagerly=True was a possible fix for memory leak\n",
    "    return network\n"
   ]
  },
  {
   "cell_type": "code",
   "execution_count": 4,
   "metadata": {},
   "outputs": [],
   "source": [
    "class PiNet(tf.keras.Model):\n",
    "    \"\"\"Keras model for the PiNet neural network\n",
    "\n",
    "    Args:\n",
    "        tensors: input data (nested tensor from dataset).\n",
    "        atom_types (list): elements for the one-hot embedding.\n",
    "        pp_nodes (list): number of nodes for pp layer.\n",
    "        pi_nodes (list): number of nodes for pi layer.\n",
    "        ii_nodes (list): number of nodes for ii layer.\n",
    "        en_nodes (list): number of nodes for en layer.\n",
    "        depth (int): number of interaction blocks.\n",
    "        rc (float): cutoff radius.\n",
    "        basis_type (string): type of basis function to use,\n",
    "            can be \"polynomial\" or \"gaussian\".\n",
    "        n_basis (int): number of basis functions to use.\n",
    "        gamma (float or array): width of gaussian function for gaussian basis.\n",
    "        center (float or array): center of gaussian function for gaussian basis.\n",
    "        cutoff_type (string): cutoff function to use with the basis.\n",
    "        act (string): activation function to use.\n",
    "        preprocess (bool): whether to return the preprocessed tensor.\n",
    "    \"\"\"\n",
    "    def __init__(self, atom_types=[1, 6, 7, 8, 9],  rc=4.0, cutoff_type='f1',\n",
    "                 basis_type='polynomial', n_basis=4, gamma=3.0, center=None,\n",
    "                 pp_nodes=[16, 16], pi_nodes=[16, 16], ii_nodes=[16, 16],\n",
    "                 out_nodes=[16, 16], out_units=1, out_pool=False,\n",
    "                 act='tanh', depth=4):\n",
    "\n",
    "        super(PiNet, self).__init__()\n",
    "\n",
    "        self.depth = depth\n",
    "        self.preprocess = PreprocessLayer(atom_types, rc)\n",
    "        self.activation = act\n",
    "\n",
    "        if basis_type == 'polynomial':\n",
    "            self.basis_fn = PolynomialBasis(cutoff_type, rc, n_basis)\n",
    "        elif basis_type == 'gaussian':\n",
    "            self.basis_fn = GaussianBasis(cutoff_type, rc, n_basis, gamma, center)\n",
    "\n",
    "        self.res_update = [ResUpdate() for i in range(depth)]\n",
    "        self.gc_blocks = [GCBlock([], pi_nodes, ii_nodes, activation=act)]\n",
    "        self.gc_blocks += [GCBlock(pp_nodes, pi_nodes, ii_nodes, activation=act)\n",
    "                           for i in range(depth-1)]\n",
    "        self.out_layers = [OutLayer(out_nodes, out_units) for i in range(depth)]\n",
    "        self.ann_output =  ANNOutput(out_pool)\n",
    "    \n",
    "    def train_step(self, tensors):\n",
    "        with tf.GradientTape() as tape:\n",
    "            pred = self(tensors, training=True)\n",
    "            ind = tensors['ind_1']\n",
    "            nbatch = tf.reduce_max(ind)+1\n",
    "            pred = tf.math.unsorted_segment_sum(pred, ind[:, 0], nbatch)\n",
    "            e_data = tensors['e_data']\n",
    "            if params['params']['e_dress']:\n",
    "                e_data -= atomic_dress(tensors, params['params']['e_dress'], dtype=pred.dtype)\n",
    "            e_data *= params['params']['e_scale']\n",
    "            loss = self.compiled_loss(e_data, pred, regularization_losses=self.losses)\n",
    "\n",
    "        trainable_vars = self.trainable_variables\n",
    "        gradients = tape.gradient(loss, trainable_vars)\n",
    "        self.optimizer.apply_gradients(zip(gradients, trainable_vars))\n",
    "        self.compiled_metrics.update_state(e_data, pred)\n",
    "        return {m.name: m.result() for m in self.metrics}\n",
    "\n",
    "    \n",
    "    def test_step(self, tensors):\n",
    "        pred = self(tensors, training=False)\n",
    "        ind = tensors['ind_1']\n",
    "        nbatch = tf.reduce_max(ind)+1\n",
    "        pred = tf.math.unsorted_segment_sum(pred, ind[:, 0], nbatch)\n",
    "        e_data = tensors['e_data']\n",
    "        if params['params']['e_dress']:\n",
    "            e_data -= atomic_dress(tensors, params['params']['e_dress'], dtype=pred.dtype)\n",
    "        e_data *= params['params']['e_scale']\n",
    "        self.compiled_loss(e_data, pred, regularization_losses=self.losses)\n",
    "        self.compiled_metrics.update_state(e_data, pred)\n",
    "        return {m.name: m.result() for m in self.metrics}\n",
    "    \n",
    "\n",
    "    def call(self, tensors):\n",
    "        tensors = self.preprocess(tensors)\n",
    "        basis = self.basis_fn(tensors['dist'])[:, None, :]\n",
    "        output = 0.0\n",
    "        for i in range(self.depth):\n",
    "            prop = self.gc_blocks[i]([tensors['ind_2'], tensors['prop'], basis])\n",
    "            output = self.out_layers[i]([tensors['ind_1'], prop, output])\n",
    "            tensors['prop'] = self.res_update[i]([tensors['prop'], prop])\n",
    "\n",
    "        output = self.ann_output([tensors['ind_1'], output])\n",
    "        return output"
   ]
  },
  {
   "cell_type": "code",
   "execution_count": 5,
   "metadata": {},
   "outputs": [],
   "source": [
    "params = {'optimizer': {\n",
    "        'class_name': 'Adam',\n",
    "        'config': {\n",
    "            'learning_rate': {\n",
    "                'class_name': 'ExponentialDecay',\n",
    "                'config': {\n",
    "                    'initial_learning_rate': 1e-3,\n",
    "                    'decay_steps': 10000, \n",
    "                    'decay_rate': 0.994}}, \n",
    "                    'clipnorm': 0.01}},    \n",
    "            'params': {\n",
    "                  'learning_rate': 1e-3, # Relatively large learning rate\n",
    "                  'e_scale': 627.5, # Here we scale the model to kcal/mol\n",
    "                  'e_dress': dress\n",
    "              }\n",
    "          }"
   ]
  },
  {
   "cell_type": "code",
   "execution_count": 6,
   "metadata": {},
   "outputs": [
    {
     "name": "stdout",
     "output_type": "stream",
     "text": [
      "Memory usage before training: 378.875 MB\n",
      "Swap usage before training: 967.438 MB\n",
      "Epoch 1/2\n",
      "Shape mismatch in elems: Tensor(\"pi_net/preprocess_layer/cond/Shape:0\", shape=(1,), dtype=int32)\n",
      "WARNING:tensorflow:From /Users/miguelnavaharris/miniforge3/envs/pinn/lib/python3.9/site-packages/tensorflow/python/ops/array_ops.py:5043: calling gather (from tensorflow.python.ops.array_ops) with validate_indices is deprecated and will be removed in a future version.\n",
      "Instructions for updating:\n",
      "The `validate_indices` argument has no effect. Indices are always validated on CPU and never validated on GPU.\n"
     ]
    },
    {
     "name": "stderr",
     "output_type": "stream",
     "text": [
      "/Users/miguelnavaharris/miniforge3/envs/pinn/lib/python3.9/site-packages/tensorflow/python/framework/indexed_slices.py:447: UserWarning: Converting sparse IndexedSlices(IndexedSlices(indices=Tensor(\"concat_1:0\", shape=(None,), dtype=int32), values=Tensor(\"concat:0\", shape=(None, 16), dtype=float32), dense_shape=Tensor(\"gradient_tape/pi_net/gc_block_3/pi_layer_3/Cast:0\", shape=(2,), dtype=int32))) to a dense Tensor of unknown shape. This may consume a large amount of memory.\n",
      "  warnings.warn(\n",
      "/Users/miguelnavaharris/miniforge3/envs/pinn/lib/python3.9/site-packages/tensorflow/python/framework/indexed_slices.py:447: UserWarning: Converting sparse IndexedSlices(IndexedSlices(indices=Tensor(\"concat_3:0\", shape=(None,), dtype=int32), values=Tensor(\"concat_2:0\", shape=(None, 16), dtype=float32), dense_shape=Tensor(\"gradient_tape/pi_net/gc_block_2/pi_layer_2/Cast:0\", shape=(2,), dtype=int32))) to a dense Tensor of unknown shape. This may consume a large amount of memory.\n",
      "  warnings.warn(\n",
      "/Users/miguelnavaharris/miniforge3/envs/pinn/lib/python3.9/site-packages/tensorflow/python/framework/indexed_slices.py:447: UserWarning: Converting sparse IndexedSlices(IndexedSlices(indices=Tensor(\"concat_5:0\", shape=(None,), dtype=int32), values=Tensor(\"concat_4:0\", shape=(None, 16), dtype=float32), dense_shape=Tensor(\"gradient_tape/pi_net/gc_block_1/pi_layer_1/Cast:0\", shape=(2,), dtype=int32))) to a dense Tensor of unknown shape. This may consume a large amount of memory.\n",
      "  warnings.warn(\n"
     ]
    },
    {
     "name": "stdout",
     "output_type": "stream",
     "text": [
      "Shape mismatch in elems: Tensor(\"pi_net/preprocess_layer/cond/Shape:0\", shape=(1,), dtype=int32)\n"
     ]
    },
    {
     "name": "stderr",
     "output_type": "stream",
     "text": [
      "2023-04-19 19:10:26.803403: I tensorflow/core/grappler/optimizers/custom_graph_optimizer_registry.cc:112] Plugin optimizer for device_type GPU is enabled.\n"
     ]
    },
    {
     "name": "stdout",
     "output_type": "stream",
     "text": [
      "      4/Unknown - 3s 301ms/step - loss: 2198.6025 - mean_absolute_error: 37.6069 - mean_squared_error: 2198.6025Shape mismatch in elems: Tensor(\"pi_net/preprocess_layer/cond/Shape:0\", shape=(1,), dtype=int32)\n"
     ]
    },
    {
     "name": "stderr",
     "output_type": "stream",
     "text": [
      "2023-04-19 19:10:28.886076: I tensorflow/core/grappler/optimizers/custom_graph_optimizer_registry.cc:112] Plugin optimizer for device_type GPU is enabled.\n"
     ]
    },
    {
     "name": "stdout",
     "output_type": "stream",
     "text": [
      "4/4 [==============================] - 4s 469ms/step - loss: 2198.6025 - mean_absolute_error: 37.6069 - mean_squared_error: 2198.6025 - val_loss: 1480.4911 - val_mean_absolute_error: 34.1201 - val_mean_squared_error: 1480.4911\n",
      "Epoch 2/2\n",
      "4/4 [==============================] - 1s 349ms/step - loss: 1372.1249 - mean_absolute_error: 28.7350 - mean_squared_error: 1372.1249 - val_loss: 827.7065 - val_mean_absolute_error: 21.9629 - val_mean_squared_error: 827.7065\n",
      "Memory usage after iteration 1: 1588.453 MB\n",
      "Swap usage after iteration 1: 967.438 MB\n",
      "Epoch 1/2\n",
      "Shape mismatch in elems: Tensor(\"pi_net/preprocess_layer/cond/Shape:0\", shape=(1,), dtype=int32)\n",
      "Shape mismatch in elems: Tensor(\"pi_net/preprocess_layer/cond/Shape:0\", shape=(1,), dtype=int32)\n"
     ]
    },
    {
     "name": "stderr",
     "output_type": "stream",
     "text": [
      "2023-04-19 19:10:32.222285: I tensorflow/core/grappler/optimizers/custom_graph_optimizer_registry.cc:112] Plugin optimizer for device_type GPU is enabled.\n"
     ]
    },
    {
     "name": "stdout",
     "output_type": "stream",
     "text": [
      "      4/Unknown - 3s 356ms/step - loss: 1763.6272 - mean_absolute_error: 34.7459 - mean_squared_error: 1763.6271Shape mismatch in elems: Tensor(\"pi_net/preprocess_layer/cond/Shape:0\", shape=(1,), dtype=int32)\n"
     ]
    },
    {
     "name": "stderr",
     "output_type": "stream",
     "text": [
      "2023-04-19 19:10:34.388926: I tensorflow/core/grappler/optimizers/custom_graph_optimizer_registry.cc:112] Plugin optimizer for device_type GPU is enabled.\n"
     ]
    },
    {
     "name": "stdout",
     "output_type": "stream",
     "text": [
      "4/4 [==============================] - 3s 516ms/step - loss: 1763.6272 - mean_absolute_error: 34.7459 - mean_squared_error: 1763.6271 - val_loss: 1062.0341 - val_mean_absolute_error: 28.2104 - val_mean_squared_error: 1062.0341\n",
      "Epoch 2/2\n",
      "4/4 [==============================] - 2s 445ms/step - loss: 973.9844 - mean_absolute_error: 24.7701 - mean_squared_error: 973.9844 - val_loss: 839.4156 - val_mean_absolute_error: 22.0448 - val_mean_squared_error: 839.4156\n",
      "Memory usage after iteration 2: 2173.734 MB\n",
      "Swap usage after iteration 2: 967.438 MB\n",
      "Epoch 1/2\n",
      "Shape mismatch in elems: Tensor(\"pi_net/preprocess_layer/cond/Shape:0\", shape=(1,), dtype=int32)\n",
      "Shape mismatch in elems: Tensor(\"pi_net/preprocess_layer/cond/Shape:0\", shape=(1,), dtype=int32)\n"
     ]
    },
    {
     "name": "stderr",
     "output_type": "stream",
     "text": [
      "2023-04-19 19:10:38.266338: I tensorflow/core/grappler/optimizers/custom_graph_optimizer_registry.cc:112] Plugin optimizer for device_type GPU is enabled.\n"
     ]
    },
    {
     "name": "stdout",
     "output_type": "stream",
     "text": [
      "      4/Unknown - 3s 378ms/step - loss: 2274.0688 - mean_absolute_error: 37.9192 - mean_squared_error: 2274.0686Shape mismatch in elems: Tensor(\"pi_net/preprocess_layer/cond/Shape:0\", shape=(1,), dtype=int32)\n"
     ]
    },
    {
     "name": "stderr",
     "output_type": "stream",
     "text": [
      "2023-04-19 19:10:40.591995: I tensorflow/core/grappler/optimizers/custom_graph_optimizer_registry.cc:112] Plugin optimizer for device_type GPU is enabled.\n"
     ]
    },
    {
     "name": "stdout",
     "output_type": "stream",
     "text": [
      "4/4 [==============================] - 3s 531ms/step - loss: 2274.0688 - mean_absolute_error: 37.9192 - mean_squared_error: 2274.0686 - val_loss: 888.7006 - val_mean_absolute_error: 24.9565 - val_mean_squared_error: 888.7006\n",
      "Epoch 2/2\n",
      "4/4 [==============================] - 2s 447ms/step - loss: 941.9016 - mean_absolute_error: 24.8151 - mean_squared_error: 941.9015 - val_loss: 838.6808 - val_mean_absolute_error: 23.6832 - val_mean_squared_error: 838.6808\n",
      "Memory usage after iteration 3: 2677.578 MB\n",
      "Swap usage after iteration 3: 967.438 MB\n",
      "Epoch 1/2\n",
      "Shape mismatch in elems: Tensor(\"pi_net/preprocess_layer/cond/Shape:0\", shape=(1,), dtype=int32)\n",
      "Shape mismatch in elems: Tensor(\"pi_net/preprocess_layer/cond/Shape:0\", shape=(1,), dtype=int32)\n"
     ]
    },
    {
     "name": "stderr",
     "output_type": "stream",
     "text": [
      "2023-04-19 19:10:44.445728: I tensorflow/core/grappler/optimizers/custom_graph_optimizer_registry.cc:112] Plugin optimizer for device_type GPU is enabled.\n"
     ]
    },
    {
     "name": "stdout",
     "output_type": "stream",
     "text": [
      "      4/Unknown - 3s 459ms/step - loss: 2083.6619 - mean_absolute_error: 36.8743 - mean_squared_error: 2083.6619Shape mismatch in elems: Tensor(\"pi_net/preprocess_layer/cond/Shape:0\", shape=(1,), dtype=int32)\n"
     ]
    },
    {
     "name": "stderr",
     "output_type": "stream",
     "text": [
      "2023-04-19 19:10:47.137809: I tensorflow/core/grappler/optimizers/custom_graph_optimizer_registry.cc:112] Plugin optimizer for device_type GPU is enabled.\n"
     ]
    },
    {
     "name": "stdout",
     "output_type": "stream",
     "text": [
      "4/4 [==============================] - 4s 620ms/step - loss: 2083.6619 - mean_absolute_error: 36.8743 - mean_squared_error: 2083.6619 - val_loss: 891.9244 - val_mean_absolute_error: 24.2361 - val_mean_squared_error: 891.9244\n",
      "Epoch 2/2\n",
      "4/4 [==============================] - 2s 503ms/step - loss: 1008.6447 - mean_absolute_error: 26.0508 - mean_squared_error: 1008.6447 - val_loss: 806.0295 - val_mean_absolute_error: 22.3860 - val_mean_squared_error: 806.0295\n",
      "Memory usage after iteration 4: 3137.781 MB\n",
      "Swap usage after iteration 4: 967.438 MB\n",
      "Epoch 1/2\n",
      "Shape mismatch in elems: Tensor(\"pi_net/preprocess_layer/cond/Shape:0\", shape=(1,), dtype=int32)\n",
      "Shape mismatch in elems: Tensor(\"pi_net/preprocess_layer/cond/Shape:0\", shape=(1,), dtype=int32)\n"
     ]
    },
    {
     "name": "stderr",
     "output_type": "stream",
     "text": [
      "2023-04-19 19:10:51.132726: I tensorflow/core/grappler/optimizers/custom_graph_optimizer_registry.cc:112] Plugin optimizer for device_type GPU is enabled.\n"
     ]
    },
    {
     "name": "stdout",
     "output_type": "stream",
     "text": [
      "      4/Unknown - 4s 546ms/step - loss: 2342.3860 - mean_absolute_error: 38.8772 - mean_squared_error: 2342.3860Shape mismatch in elems: Tensor(\"pi_net/preprocess_layer/cond/Shape:0\", shape=(1,), dtype=int32)\n"
     ]
    },
    {
     "name": "stderr",
     "output_type": "stream",
     "text": [
      "2023-04-19 19:10:54.036883: I tensorflow/core/grappler/optimizers/custom_graph_optimizer_registry.cc:112] Plugin optimizer for device_type GPU is enabled.\n"
     ]
    },
    {
     "name": "stdout",
     "output_type": "stream",
     "text": [
      "WARNING:tensorflow:5 out of the last 9 calls to <function Model.make_test_function.<locals>.test_function at 0x2b8e573a0> triggered tf.function retracing. Tracing is expensive and the excessive number of tracings could be due to (1) creating @tf.function repeatedly in a loop, (2) passing tensors with different shapes, (3) passing Python objects instead of tensors. For (1), please define your @tf.function outside of the loop. For (2), @tf.function has experimental_relax_shapes=True option that relaxes argument shapes that can avoid unnecessary retracing. For (3), please refer to https://www.tensorflow.org/guide/function#controlling_retracing and https://www.tensorflow.org/api_docs/python/tf/function for  more details.\n",
      "4/4 [==============================] - 4s 701ms/step - loss: 2342.3860 - mean_absolute_error: 38.8772 - mean_squared_error: 2342.3860 - val_loss: 1295.9598 - val_mean_absolute_error: 31.7112 - val_mean_squared_error: 1295.9597\n",
      "Epoch 2/2\n",
      "4/4 [==============================] - 2s 614ms/step - loss: 1172.7273 - mean_absolute_error: 27.2201 - mean_squared_error: 1172.7272 - val_loss: 845.1125 - val_mean_absolute_error: 22.1908 - val_mean_squared_error: 845.1125\n",
      "Memory usage after iteration 5: 3643.234 MB\n",
      "Swap usage after iteration 5: 967.438 MB\n",
      "Epoch 1/2\n",
      "Shape mismatch in elems: Tensor(\"pi_net/preprocess_layer/cond/Shape:0\", shape=(1,), dtype=int32)\n",
      "Shape mismatch in elems: Tensor(\"pi_net/preprocess_layer/cond/Shape:0\", shape=(1,), dtype=int32)\n"
     ]
    },
    {
     "name": "stderr",
     "output_type": "stream",
     "text": [
      "2023-04-19 19:10:58.414852: I tensorflow/core/grappler/optimizers/custom_graph_optimizer_registry.cc:112] Plugin optimizer for device_type GPU is enabled.\n"
     ]
    },
    {
     "name": "stdout",
     "output_type": "stream",
     "text": [
      "      4/Unknown - 4s 627ms/step - loss: 1764.7405 - mean_absolute_error: 34.3938 - mean_squared_error: 1764.7405Shape mismatch in elems: Tensor(\"pi_net/preprocess_layer/cond/Shape:0\", shape=(1,), dtype=int32)\n"
     ]
    },
    {
     "name": "stderr",
     "output_type": "stream",
     "text": [
      "2023-04-19 19:11:01.849494: I tensorflow/core/grappler/optimizers/custom_graph_optimizer_registry.cc:112] Plugin optimizer for device_type GPU is enabled.\n"
     ]
    },
    {
     "name": "stdout",
     "output_type": "stream",
     "text": [
      "WARNING:tensorflow:6 out of the last 11 calls to <function Model.make_test_function.<locals>.test_function at 0x2b8e575e0> triggered tf.function retracing. Tracing is expensive and the excessive number of tracings could be due to (1) creating @tf.function repeatedly in a loop, (2) passing tensors with different shapes, (3) passing Python objects instead of tensors. For (1), please define your @tf.function outside of the loop. For (2), @tf.function has experimental_relax_shapes=True option that relaxes argument shapes that can avoid unnecessary retracing. For (3), please refer to https://www.tensorflow.org/guide/function#controlling_retracing and https://www.tensorflow.org/api_docs/python/tf/function for  more details.\n",
      "4/4 [==============================] - 5s 814ms/step - loss: 1764.7405 - mean_absolute_error: 34.3938 - mean_squared_error: 1764.7405 - val_loss: 848.9582 - val_mean_absolute_error: 23.9839 - val_mean_squared_error: 848.9582\n",
      "Epoch 2/2\n",
      "4/4 [==============================] - 2s 552ms/step - loss: 930.0978 - mean_absolute_error: 24.1616 - mean_squared_error: 930.0978 - val_loss: 830.9825 - val_mean_absolute_error: 22.0156 - val_mean_squared_error: 830.9825\n",
      "Memory usage after iteration 6: 4048.516 MB\n",
      "Swap usage after iteration 6: 959.438 MB\n",
      "Epoch 1/2\n",
      "Shape mismatch in elems: Tensor(\"pi_net/preprocess_layer/cond/Shape:0\", shape=(1,), dtype=int32)\n",
      "Shape mismatch in elems: Tensor(\"pi_net/preprocess_layer/cond/Shape:0\", shape=(1,), dtype=int32)\n"
     ]
    },
    {
     "name": "stderr",
     "output_type": "stream",
     "text": [
      "2023-04-19 19:11:06.111881: I tensorflow/core/grappler/optimizers/custom_graph_optimizer_registry.cc:112] Plugin optimizer for device_type GPU is enabled.\n"
     ]
    },
    {
     "name": "stdout",
     "output_type": "stream",
     "text": [
      "      4/Unknown - 4s 647ms/step - loss: 2202.9617 - mean_absolute_error: 37.7333 - mean_squared_error: 2202.9617Shape mismatch in elems: Tensor(\"pi_net/preprocess_layer/cond/Shape:0\", shape=(1,), dtype=int32)\n"
     ]
    },
    {
     "name": "stderr",
     "output_type": "stream",
     "text": [
      "2023-04-19 19:11:09.822427: I tensorflow/core/grappler/optimizers/custom_graph_optimizer_registry.cc:112] Plugin optimizer for device_type GPU is enabled.\n"
     ]
    },
    {
     "name": "stdout",
     "output_type": "stream",
     "text": [
      "4/4 [==============================] - 5s 841ms/step - loss: 2202.9617 - mean_absolute_error: 37.7333 - mean_squared_error: 2202.9617 - val_loss: 1947.8401 - val_mean_absolute_error: 39.2307 - val_mean_squared_error: 1947.8401\n",
      "Epoch 2/2\n",
      "4/4 [==============================] - 3s 604ms/step - loss: 2228.0754 - mean_absolute_error: 38.5400 - mean_squared_error: 2228.0754 - val_loss: 863.8842 - val_mean_absolute_error: 23.7919 - val_mean_squared_error: 863.8842\n",
      "Memory usage after iteration 7: 4580.891 MB\n",
      "Swap usage after iteration 7: 959.438 MB\n",
      "Epoch 1/2\n",
      "Shape mismatch in elems: Tensor(\"pi_net/preprocess_layer/cond/Shape:0\", shape=(1,), dtype=int32)\n",
      "Shape mismatch in elems: Tensor(\"pi_net/preprocess_layer/cond/Shape:0\", shape=(1,), dtype=int32)\n"
     ]
    },
    {
     "name": "stderr",
     "output_type": "stream",
     "text": [
      "2023-04-19 19:11:14.498326: I tensorflow/core/grappler/optimizers/custom_graph_optimizer_registry.cc:112] Plugin optimizer for device_type GPU is enabled.\n"
     ]
    },
    {
     "name": "stdout",
     "output_type": "stream",
     "text": [
      "      4/Unknown - 4s 681ms/step - loss: 2138.7087 - mean_absolute_error: 38.2270 - mean_squared_error: 2138.7087Shape mismatch in elems: Tensor(\"pi_net/preprocess_layer/cond/Shape:0\", shape=(1,), dtype=int32)\n"
     ]
    },
    {
     "name": "stderr",
     "output_type": "stream",
     "text": [
      "2023-04-19 19:11:18.042405: I tensorflow/core/grappler/optimizers/custom_graph_optimizer_registry.cc:112] Plugin optimizer for device_type GPU is enabled.\n"
     ]
    },
    {
     "name": "stdout",
     "output_type": "stream",
     "text": [
      "4/4 [==============================] - 5s 870ms/step - loss: 2138.7087 - mean_absolute_error: 38.2270 - mean_squared_error: 2138.7087 - val_loss: 1285.7607 - val_mean_absolute_error: 31.6927 - val_mean_squared_error: 1285.7607\n",
      "Epoch 2/2\n",
      "4/4 [==============================] - 3s 642ms/step - loss: 1043.7142 - mean_absolute_error: 25.3830 - mean_squared_error: 1043.7144 - val_loss: 995.4875 - val_mean_absolute_error: 23.6704 - val_mean_squared_error: 995.4875\n",
      "Memory usage after iteration 8: 5064.484 MB\n",
      "Swap usage after iteration 8: 959.438 MB\n",
      "Epoch 1/2\n",
      "Shape mismatch in elems: Tensor(\"pi_net/preprocess_layer/cond/Shape:0\", shape=(1,), dtype=int32)\n",
      "Shape mismatch in elems: Tensor(\"pi_net/preprocess_layer/cond/Shape:0\", shape=(1,), dtype=int32)\n"
     ]
    },
    {
     "name": "stderr",
     "output_type": "stream",
     "text": [
      "2023-04-19 19:11:22.865271: I tensorflow/core/grappler/optimizers/custom_graph_optimizer_registry.cc:112] Plugin optimizer for device_type GPU is enabled.\n"
     ]
    },
    {
     "name": "stdout",
     "output_type": "stream",
     "text": [
      "      4/Unknown - 4s 635ms/step - loss: 2361.7888 - mean_absolute_error: 40.7609 - mean_squared_error: 2361.7888Shape mismatch in elems: Tensor(\"pi_net/preprocess_layer/cond/Shape:0\", shape=(1,), dtype=int32)\n"
     ]
    },
    {
     "name": "stderr",
     "output_type": "stream",
     "text": [
      "2023-04-19 19:11:26.534106: I tensorflow/core/grappler/optimizers/custom_graph_optimizer_registry.cc:112] Plugin optimizer for device_type GPU is enabled.\n"
     ]
    },
    {
     "name": "stdout",
     "output_type": "stream",
     "text": [
      "4/4 [==============================] - 5s 801ms/step - loss: 2361.7888 - mean_absolute_error: 40.7609 - mean_squared_error: 2361.7888 - val_loss: 896.4274 - val_mean_absolute_error: 24.5062 - val_mean_squared_error: 896.4274\n",
      "Epoch 2/2\n",
      "4/4 [==============================] - 3s 627ms/step - loss: 1030.0511 - mean_absolute_error: 25.3518 - mean_squared_error: 1030.0510 - val_loss: 828.9518 - val_mean_absolute_error: 21.8734 - val_mean_squared_error: 828.9518\n",
      "Memory usage after iteration 9: 5544.891 MB\n",
      "Swap usage after iteration 9: 959.438 MB\n",
      "Epoch 1/2\n",
      "Shape mismatch in elems: Tensor(\"pi_net/preprocess_layer/cond/Shape:0\", shape=(1,), dtype=int32)\n",
      "Shape mismatch in elems: Tensor(\"pi_net/preprocess_layer/cond/Shape:0\", shape=(1,), dtype=int32)\n"
     ]
    },
    {
     "name": "stderr",
     "output_type": "stream",
     "text": [
      "2023-04-19 19:11:31.274796: I tensorflow/core/grappler/optimizers/custom_graph_optimizer_registry.cc:112] Plugin optimizer for device_type GPU is enabled.\n"
     ]
    },
    {
     "name": "stdout",
     "output_type": "stream",
     "text": [
      "      4/Unknown - 5s 658ms/step - loss: 2113.5964 - mean_absolute_error: 38.1081 - mean_squared_error: 2113.5964Shape mismatch in elems: Tensor(\"pi_net/preprocess_layer/cond/Shape:0\", shape=(1,), dtype=int32)\n"
     ]
    },
    {
     "name": "stderr",
     "output_type": "stream",
     "text": [
      "2023-04-19 19:11:35.460165: I tensorflow/core/grappler/optimizers/custom_graph_optimizer_registry.cc:112] Plugin optimizer for device_type GPU is enabled.\n"
     ]
    },
    {
     "name": "stdout",
     "output_type": "stream",
     "text": [
      "4/4 [==============================] - 5s 861ms/step - loss: 2113.5964 - mean_absolute_error: 38.1081 - mean_squared_error: 2113.5964 - val_loss: 994.2614 - val_mean_absolute_error: 26.7120 - val_mean_squared_error: 994.2614\n",
      "Epoch 2/2\n",
      "4/4 [==============================] - 3s 735ms/step - loss: 946.8510 - mean_absolute_error: 24.6634 - mean_squared_error: 946.8510 - val_loss: 826.7592 - val_mean_absolute_error: 23.1675 - val_mean_squared_error: 826.7592\n",
      "Memory usage after iteration 10: 5429.234 MB\n",
      "Swap usage after iteration 10: 959.438 MB\n"
     ]
    }
   ],
   "source": [
    "def create_and_train_model(batch_size=20):\n",
    "    filelist = glob('/Users/miguelnavaharris/Project/QM9/*.xyz')[:100]\n",
    "    dataset = load_qm9(filelist, splits={'train':8, 'test':2})\n",
    "    dress, error = get_atomic_dress(dataset['train'],[1,6,7,8,9])\n",
    "    network = PiNet()\n",
    "    train_set, test_set, batch_size = get_traintest_sets(dataset, batch_size, buffer_size=100)\n",
    "    preprocess_traintest_sets(train_set, test_set, network)\n",
    "    network = get_compiled_network(network)\n",
    "    network.fit(train_set, epochs=2,  validation_data=test_set)\n",
    "\n",
    "    return network\n",
    "\n",
    "\n",
    "def measure_memory():\n",
    "    process = psutil.Process()\n",
    "    initial_memory = process.memory_info().rss / (1024 * 1024)  # Convert bytes to MB\n",
    "    initial_swap = psutil.swap_memory().used / (1024 * 1024)  # Convert bytes to MB\n",
    "    print(f\"Memory usage before training: {initial_memory:.3f} MB\")\n",
    "    print(f\"Swap usage before training: {initial_swap:.3f} MB\")\n",
    "\n",
    "    with open('/Users/miguelnavaharris/New_Benchmarks/Garbage_collection/withclearsession/PiNet_TF2_M1_GPU_100mols_gc_memory_usage.csv', 'w', newline='') as csvfile:\n",
    "        csv_writer = csv.writer(csvfile)\n",
    "        csv_writer.writerow(['Iteration', 'Memory Usage (MB)', 'Swap Usage (MB)'])\n",
    "        csv_writer.writerow([0, initial_memory, initial_swap])\n",
    "\n",
    "        for i in range(10):\n",
    "            model = create_and_train_model()\n",
    "            del model\n",
    "            gc.collect()\n",
    "            K.clear_session()\n",
    "            memory_after_iteration = process.memory_info().rss / (1024 * 1024)  # Convert bytes to MB\n",
    "            swap_after_iteration = psutil.swap_memory().used / (1024 * 1024)  # Convert bytes to MB\n",
    "            print(f\"Memory usage after iteration {i + 1}: {memory_after_iteration:.3f} MB\")\n",
    "            print(f\"Swap usage after iteration {i + 1}: {swap_after_iteration:.3f} MB\")\n",
    "            csv_writer.writerow([i + 1, memory_after_iteration, swap_after_iteration])\n",
    "\n",
    "measure_memory()\n"
   ]
  }
 ],
 "metadata": {
  "interpreter": {
   "hash": "7d2dca5ff04745c24a12b1eaafe2ed2b92b4632c1d2e7bd797725dd5127e9eda"
  },
  "kernelspec": {
   "display_name": "Python 3.9.10 ('pinn')",
   "language": "python",
   "name": "python3"
  },
  "language_info": {
   "codemirror_mode": {
    "name": "ipython",
    "version": 3
   },
   "file_extension": ".py",
   "mimetype": "text/x-python",
   "name": "python",
   "nbconvert_exporter": "python",
   "pygments_lexer": "ipython3",
   "version": "3.9.10"
  },
  "orig_nbformat": 4
 },
 "nbformat": 4,
 "nbformat_minor": 2
}
